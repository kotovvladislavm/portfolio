{
 "cells": [
  {
   "cell_type": "markdown",
   "id": "6c4ec0f5",
   "metadata": {},
   "source": [
    "### Шаг 1. Загрузка и подготовка данных"
   ]
  },
  {
   "cell_type": "code",
   "execution_count": 1,
   "id": "5db5f5f4",
   "metadata": {},
   "outputs": [
    {
     "name": "stdout",
     "output_type": "stream",
     "text": [
      "Collecting phik\n",
      "  Downloading phik-0.12.3-cp39-cp39-manylinux_2_17_x86_64.manylinux2014_x86_64.whl (679 kB)\n",
      "\u001b[K     |████████████████████████████████| 679 kB 1.6 MB/s eta 0:00:01\n",
      "\u001b[?25hRequirement already satisfied: matplotlib>=2.2.3 in /opt/conda/lib/python3.9/site-packages (from phik) (3.3.4)\n",
      "Requirement already satisfied: scipy>=1.5.2 in /opt/conda/lib/python3.9/site-packages (from phik) (1.9.1)\n",
      "Requirement already satisfied: pandas>=0.25.1 in /opt/conda/lib/python3.9/site-packages (from phik) (1.2.4)\n",
      "Requirement already satisfied: numpy>=1.18.0 in /opt/conda/lib/python3.9/site-packages (from phik) (1.21.1)\n",
      "Requirement already satisfied: joblib>=0.14.1 in /opt/conda/lib/python3.9/site-packages (from phik) (1.1.0)\n",
      "Requirement already satisfied: cycler>=0.10 in /opt/conda/lib/python3.9/site-packages (from matplotlib>=2.2.3->phik) (0.11.0)\n",
      "Requirement already satisfied: python-dateutil>=2.1 in /opt/conda/lib/python3.9/site-packages (from matplotlib>=2.2.3->phik) (2.8.1)\n",
      "Requirement already satisfied: kiwisolver>=1.0.1 in /opt/conda/lib/python3.9/site-packages (from matplotlib>=2.2.3->phik) (1.4.4)\n",
      "Requirement already satisfied: pillow>=6.2.0 in /opt/conda/lib/python3.9/site-packages (from matplotlib>=2.2.3->phik) (8.4.0)\n",
      "Requirement already satisfied: pyparsing!=2.0.4,!=2.1.2,!=2.1.6,>=2.0.3 in /opt/conda/lib/python3.9/site-packages (from matplotlib>=2.2.3->phik) (2.4.7)\n",
      "Requirement already satisfied: pytz>=2017.3 in /opt/conda/lib/python3.9/site-packages (from pandas>=0.25.1->phik) (2021.1)\n",
      "Requirement already satisfied: six>=1.5 in /opt/conda/lib/python3.9/site-packages (from python-dateutil>=2.1->matplotlib>=2.2.3->phik) (1.16.0)\n",
      "Installing collected packages: phik\n",
      "Successfully installed phik-0.12.3\n"
     ]
    }
   ],
   "source": [
    "import pandas as pd\n",
    "import numpy as np\n",
    "import seaborn as sns\n",
    "import matplotlib.pyplot as plt\n",
    "import matplotlib.patches as mpatches\n",
    "!pip install phik\n",
    "import phik\n",
    "import os\n",
    "from phik.report import plot_correlation_matrix\n",
    "from phik import report\n",
    "from scipy import stats\n",
    "from scipy.stats import ttest_ind\n",
    "from scipy.stats import mannwhitneyu\n",
    "import warnings\n",
    "warnings.filterwarnings('ignore')"
   ]
  },
  {
   "cell_type": "code",
   "execution_count": 2,
   "id": "c5d7c1b2",
   "metadata": {},
   "outputs": [],
   "source": [
    "bank = pd.read_csv('/datasets/bank_dataset.csv')"
   ]
  },
  {
   "cell_type": "code",
   "execution_count": 3,
   "id": "ce9d53fa",
   "metadata": {},
   "outputs": [
    {
     "name": "stdout",
     "output_type": "stream",
     "text": [
      "<class 'pandas.core.frame.DataFrame'>\n",
      "RangeIndex: 10000 entries, 0 to 9999\n",
      "Data columns (total 12 columns):\n",
      " #   Column            Non-Null Count  Dtype  \n",
      "---  ------            --------------  -----  \n",
      " 0   userid            10000 non-null  int64  \n",
      " 1   score             10000 non-null  int64  \n",
      " 2   City              10000 non-null  object \n",
      " 3   Gender            10000 non-null  object \n",
      " 4   Age               10000 non-null  int64  \n",
      " 5   Objects           10000 non-null  int64  \n",
      " 6   Balance           6383 non-null   float64\n",
      " 7   Products          10000 non-null  int64  \n",
      " 8   CreditCard        10000 non-null  int64  \n",
      " 9   Loyalty           10000 non-null  int64  \n",
      " 10  estimated_salary  10000 non-null  float64\n",
      " 11  Churn             10000 non-null  int64  \n",
      "dtypes: float64(2), int64(8), object(2)\n",
      "memory usage: 937.6+ KB\n"
     ]
    }
   ],
   "source": [
    "bank.info()"
   ]
  },
  {
   "cell_type": "code",
   "execution_count": 4,
   "id": "f93695fa",
   "metadata": {
    "scrolled": true
   },
   "outputs": [
    {
     "data": {
      "text/html": [
       "<div>\n",
       "<style scoped>\n",
       "    .dataframe tbody tr th:only-of-type {\n",
       "        vertical-align: middle;\n",
       "    }\n",
       "\n",
       "    .dataframe tbody tr th {\n",
       "        vertical-align: top;\n",
       "    }\n",
       "\n",
       "    .dataframe thead th {\n",
       "        text-align: right;\n",
       "    }\n",
       "</style>\n",
       "<table border=\"1\" class=\"dataframe\">\n",
       "  <thead>\n",
       "    <tr style=\"text-align: right;\">\n",
       "      <th></th>\n",
       "      <th>userid</th>\n",
       "      <th>score</th>\n",
       "      <th>City</th>\n",
       "      <th>Gender</th>\n",
       "      <th>Age</th>\n",
       "      <th>Objects</th>\n",
       "      <th>Balance</th>\n",
       "      <th>Products</th>\n",
       "      <th>CreditCard</th>\n",
       "      <th>Loyalty</th>\n",
       "      <th>estimated_salary</th>\n",
       "      <th>Churn</th>\n",
       "    </tr>\n",
       "  </thead>\n",
       "  <tbody>\n",
       "    <tr>\n",
       "      <th>0</th>\n",
       "      <td>15677338</td>\n",
       "      <td>619</td>\n",
       "      <td>Ярославль</td>\n",
       "      <td>Ж</td>\n",
       "      <td>42</td>\n",
       "      <td>2</td>\n",
       "      <td>NaN</td>\n",
       "      <td>1</td>\n",
       "      <td>1</td>\n",
       "      <td>1</td>\n",
       "      <td>101348.88</td>\n",
       "      <td>1</td>\n",
       "    </tr>\n",
       "    <tr>\n",
       "      <th>1</th>\n",
       "      <td>15690047</td>\n",
       "      <td>608</td>\n",
       "      <td>Рыбинск</td>\n",
       "      <td>Ж</td>\n",
       "      <td>41</td>\n",
       "      <td>1</td>\n",
       "      <td>83807.86</td>\n",
       "      <td>1</td>\n",
       "      <td>0</td>\n",
       "      <td>1</td>\n",
       "      <td>112542.58</td>\n",
       "      <td>0</td>\n",
       "    </tr>\n",
       "    <tr>\n",
       "      <th>2</th>\n",
       "      <td>15662040</td>\n",
       "      <td>502</td>\n",
       "      <td>Ярославль</td>\n",
       "      <td>Ж</td>\n",
       "      <td>42</td>\n",
       "      <td>8</td>\n",
       "      <td>159660.80</td>\n",
       "      <td>3</td>\n",
       "      <td>1</td>\n",
       "      <td>0</td>\n",
       "      <td>113931.57</td>\n",
       "      <td>1</td>\n",
       "    </tr>\n",
       "    <tr>\n",
       "      <th>3</th>\n",
       "      <td>15744090</td>\n",
       "      <td>699</td>\n",
       "      <td>Ярославль</td>\n",
       "      <td>Ж</td>\n",
       "      <td>39</td>\n",
       "      <td>1</td>\n",
       "      <td>NaN</td>\n",
       "      <td>2</td>\n",
       "      <td>0</td>\n",
       "      <td>0</td>\n",
       "      <td>93826.63</td>\n",
       "      <td>0</td>\n",
       "    </tr>\n",
       "    <tr>\n",
       "      <th>4</th>\n",
       "      <td>15780624</td>\n",
       "      <td>850</td>\n",
       "      <td>Рыбинск</td>\n",
       "      <td>Ж</td>\n",
       "      <td>43</td>\n",
       "      <td>2</td>\n",
       "      <td>125510.82</td>\n",
       "      <td>1</td>\n",
       "      <td>1</td>\n",
       "      <td>1</td>\n",
       "      <td>79084.10</td>\n",
       "      <td>0</td>\n",
       "    </tr>\n",
       "  </tbody>\n",
       "</table>\n",
       "</div>"
      ],
      "text/plain": [
       "     userid  score       City Gender  Age  Objects    Balance  Products  \\\n",
       "0  15677338    619  Ярославль      Ж   42        2        NaN         1   \n",
       "1  15690047    608    Рыбинск      Ж   41        1   83807.86         1   \n",
       "2  15662040    502  Ярославль      Ж   42        8  159660.80         3   \n",
       "3  15744090    699  Ярославль      Ж   39        1        NaN         2   \n",
       "4  15780624    850    Рыбинск      Ж   43        2  125510.82         1   \n",
       "\n",
       "   CreditCard  Loyalty  estimated_salary  Churn  \n",
       "0           1        1         101348.88      1  \n",
       "1           0        1         112542.58      0  \n",
       "2           1        0         113931.57      1  \n",
       "3           0        0          93826.63      0  \n",
       "4           1        1          79084.10      0  "
      ]
     },
     "execution_count": 4,
     "metadata": {},
     "output_type": "execute_result"
    }
   ],
   "source": [
    "bank.head()"
   ]
  },
  {
   "cell_type": "code",
   "execution_count": 5,
   "id": "d8b70829",
   "metadata": {
    "scrolled": true
   },
   "outputs": [],
   "source": [
    "bank = pd.concat([bank, pd.get_dummies(bank['City'], columns=['City'])], axis=1)\n",
    "bank['Gender_numeric'] = bank['Gender'].map({'М': 0, 'Ж': 1})"
   ]
  },
  {
   "cell_type": "code",
   "execution_count": 6,
   "id": "233c44b0",
   "metadata": {
    "scrolled": true
   },
   "outputs": [
    {
     "data": {
      "text/html": [
       "<div>\n",
       "<style scoped>\n",
       "    .dataframe tbody tr th:only-of-type {\n",
       "        vertical-align: middle;\n",
       "    }\n",
       "\n",
       "    .dataframe tbody tr th {\n",
       "        vertical-align: top;\n",
       "    }\n",
       "\n",
       "    .dataframe thead th {\n",
       "        text-align: right;\n",
       "    }\n",
       "</style>\n",
       "<table border=\"1\" class=\"dataframe\">\n",
       "  <thead>\n",
       "    <tr style=\"text-align: right;\">\n",
       "      <th></th>\n",
       "      <th>userid</th>\n",
       "      <th>score</th>\n",
       "      <th>City</th>\n",
       "      <th>Gender</th>\n",
       "      <th>Age</th>\n",
       "      <th>Objects</th>\n",
       "      <th>Balance</th>\n",
       "      <th>Products</th>\n",
       "      <th>CreditCard</th>\n",
       "      <th>Loyalty</th>\n",
       "      <th>estimated_salary</th>\n",
       "      <th>Churn</th>\n",
       "      <th>Ростов Великий</th>\n",
       "      <th>Рыбинск</th>\n",
       "      <th>Ярославль</th>\n",
       "      <th>Gender_numeric</th>\n",
       "    </tr>\n",
       "  </thead>\n",
       "  <tbody>\n",
       "    <tr>\n",
       "      <th>0</th>\n",
       "      <td>15677338</td>\n",
       "      <td>619</td>\n",
       "      <td>Ярославль</td>\n",
       "      <td>Ж</td>\n",
       "      <td>42</td>\n",
       "      <td>2</td>\n",
       "      <td>NaN</td>\n",
       "      <td>1</td>\n",
       "      <td>1</td>\n",
       "      <td>1</td>\n",
       "      <td>101348.88</td>\n",
       "      <td>1</td>\n",
       "      <td>0</td>\n",
       "      <td>0</td>\n",
       "      <td>1</td>\n",
       "      <td>1</td>\n",
       "    </tr>\n",
       "    <tr>\n",
       "      <th>1</th>\n",
       "      <td>15690047</td>\n",
       "      <td>608</td>\n",
       "      <td>Рыбинск</td>\n",
       "      <td>Ж</td>\n",
       "      <td>41</td>\n",
       "      <td>1</td>\n",
       "      <td>83807.86</td>\n",
       "      <td>1</td>\n",
       "      <td>0</td>\n",
       "      <td>1</td>\n",
       "      <td>112542.58</td>\n",
       "      <td>0</td>\n",
       "      <td>0</td>\n",
       "      <td>1</td>\n",
       "      <td>0</td>\n",
       "      <td>1</td>\n",
       "    </tr>\n",
       "    <tr>\n",
       "      <th>2</th>\n",
       "      <td>15662040</td>\n",
       "      <td>502</td>\n",
       "      <td>Ярославль</td>\n",
       "      <td>Ж</td>\n",
       "      <td>42</td>\n",
       "      <td>8</td>\n",
       "      <td>159660.80</td>\n",
       "      <td>3</td>\n",
       "      <td>1</td>\n",
       "      <td>0</td>\n",
       "      <td>113931.57</td>\n",
       "      <td>1</td>\n",
       "      <td>0</td>\n",
       "      <td>0</td>\n",
       "      <td>1</td>\n",
       "      <td>1</td>\n",
       "    </tr>\n",
       "    <tr>\n",
       "      <th>3</th>\n",
       "      <td>15744090</td>\n",
       "      <td>699</td>\n",
       "      <td>Ярославль</td>\n",
       "      <td>Ж</td>\n",
       "      <td>39</td>\n",
       "      <td>1</td>\n",
       "      <td>NaN</td>\n",
       "      <td>2</td>\n",
       "      <td>0</td>\n",
       "      <td>0</td>\n",
       "      <td>93826.63</td>\n",
       "      <td>0</td>\n",
       "      <td>0</td>\n",
       "      <td>0</td>\n",
       "      <td>1</td>\n",
       "      <td>1</td>\n",
       "    </tr>\n",
       "    <tr>\n",
       "      <th>4</th>\n",
       "      <td>15780624</td>\n",
       "      <td>850</td>\n",
       "      <td>Рыбинск</td>\n",
       "      <td>Ж</td>\n",
       "      <td>43</td>\n",
       "      <td>2</td>\n",
       "      <td>125510.82</td>\n",
       "      <td>1</td>\n",
       "      <td>1</td>\n",
       "      <td>1</td>\n",
       "      <td>79084.10</td>\n",
       "      <td>0</td>\n",
       "      <td>0</td>\n",
       "      <td>1</td>\n",
       "      <td>0</td>\n",
       "      <td>1</td>\n",
       "    </tr>\n",
       "  </tbody>\n",
       "</table>\n",
       "</div>"
      ],
      "text/plain": [
       "     userid  score       City Gender  Age  Objects    Balance  Products  \\\n",
       "0  15677338    619  Ярославль      Ж   42        2        NaN         1   \n",
       "1  15690047    608    Рыбинск      Ж   41        1   83807.86         1   \n",
       "2  15662040    502  Ярославль      Ж   42        8  159660.80         3   \n",
       "3  15744090    699  Ярославль      Ж   39        1        NaN         2   \n",
       "4  15780624    850    Рыбинск      Ж   43        2  125510.82         1   \n",
       "\n",
       "   CreditCard  Loyalty  estimated_salary  Churn  Ростов Великий  Рыбинск  \\\n",
       "0           1        1         101348.88      1               0        0   \n",
       "1           0        1         112542.58      0               0        1   \n",
       "2           1        0         113931.57      1               0        0   \n",
       "3           0        0          93826.63      0               0        0   \n",
       "4           1        1          79084.10      0               0        1   \n",
       "\n",
       "   Ярославль  Gender_numeric  \n",
       "0          1               1  \n",
       "1          0               1  \n",
       "2          1               1  \n",
       "3          1               1  \n",
       "4          0               1  "
      ]
     },
     "execution_count": 6,
     "metadata": {},
     "output_type": "execute_result"
    }
   ],
   "source": [
    "bank.head()"
   ]
  },
  {
   "cell_type": "code",
   "execution_count": 7,
   "id": "6699c119",
   "metadata": {},
   "outputs": [],
   "source": [
    "bank.rename(columns={'Ростов Великий': 'rostov', 'Рыбинск': 'rybinsk',\n",
    "                     'Ярославль': 'yaroslavl'}, inplace=True)"
   ]
  },
  {
   "cell_type": "code",
   "execution_count": 8,
   "id": "f737d146",
   "metadata": {},
   "outputs": [],
   "source": [
    "bank.rename(columns=str.lower, inplace=True)"
   ]
  },
  {
   "cell_type": "code",
   "execution_count": 9,
   "id": "00c5bf62",
   "metadata": {
    "scrolled": true
   },
   "outputs": [
    {
     "data": {
      "text/html": [
       "<div>\n",
       "<style scoped>\n",
       "    .dataframe tbody tr th:only-of-type {\n",
       "        vertical-align: middle;\n",
       "    }\n",
       "\n",
       "    .dataframe tbody tr th {\n",
       "        vertical-align: top;\n",
       "    }\n",
       "\n",
       "    .dataframe thead th {\n",
       "        text-align: right;\n",
       "    }\n",
       "</style>\n",
       "<table border=\"1\" class=\"dataframe\">\n",
       "  <thead>\n",
       "    <tr style=\"text-align: right;\">\n",
       "      <th></th>\n",
       "      <th>userid</th>\n",
       "      <th>score</th>\n",
       "      <th>city</th>\n",
       "      <th>gender</th>\n",
       "      <th>age</th>\n",
       "      <th>objects</th>\n",
       "      <th>balance</th>\n",
       "      <th>products</th>\n",
       "      <th>creditcard</th>\n",
       "      <th>loyalty</th>\n",
       "      <th>estimated_salary</th>\n",
       "      <th>churn</th>\n",
       "      <th>rostov</th>\n",
       "      <th>rybinsk</th>\n",
       "      <th>yaroslavl</th>\n",
       "      <th>gender_numeric</th>\n",
       "    </tr>\n",
       "  </thead>\n",
       "  <tbody>\n",
       "    <tr>\n",
       "      <th>0</th>\n",
       "      <td>15677338</td>\n",
       "      <td>619</td>\n",
       "      <td>Ярославль</td>\n",
       "      <td>Ж</td>\n",
       "      <td>42</td>\n",
       "      <td>2</td>\n",
       "      <td>NaN</td>\n",
       "      <td>1</td>\n",
       "      <td>1</td>\n",
       "      <td>1</td>\n",
       "      <td>101348.88</td>\n",
       "      <td>1</td>\n",
       "      <td>0</td>\n",
       "      <td>0</td>\n",
       "      <td>1</td>\n",
       "      <td>1</td>\n",
       "    </tr>\n",
       "    <tr>\n",
       "      <th>1</th>\n",
       "      <td>15690047</td>\n",
       "      <td>608</td>\n",
       "      <td>Рыбинск</td>\n",
       "      <td>Ж</td>\n",
       "      <td>41</td>\n",
       "      <td>1</td>\n",
       "      <td>83807.86</td>\n",
       "      <td>1</td>\n",
       "      <td>0</td>\n",
       "      <td>1</td>\n",
       "      <td>112542.58</td>\n",
       "      <td>0</td>\n",
       "      <td>0</td>\n",
       "      <td>1</td>\n",
       "      <td>0</td>\n",
       "      <td>1</td>\n",
       "    </tr>\n",
       "    <tr>\n",
       "      <th>2</th>\n",
       "      <td>15662040</td>\n",
       "      <td>502</td>\n",
       "      <td>Ярославль</td>\n",
       "      <td>Ж</td>\n",
       "      <td>42</td>\n",
       "      <td>8</td>\n",
       "      <td>159660.80</td>\n",
       "      <td>3</td>\n",
       "      <td>1</td>\n",
       "      <td>0</td>\n",
       "      <td>113931.57</td>\n",
       "      <td>1</td>\n",
       "      <td>0</td>\n",
       "      <td>0</td>\n",
       "      <td>1</td>\n",
       "      <td>1</td>\n",
       "    </tr>\n",
       "    <tr>\n",
       "      <th>3</th>\n",
       "      <td>15744090</td>\n",
       "      <td>699</td>\n",
       "      <td>Ярославль</td>\n",
       "      <td>Ж</td>\n",
       "      <td>39</td>\n",
       "      <td>1</td>\n",
       "      <td>NaN</td>\n",
       "      <td>2</td>\n",
       "      <td>0</td>\n",
       "      <td>0</td>\n",
       "      <td>93826.63</td>\n",
       "      <td>0</td>\n",
       "      <td>0</td>\n",
       "      <td>0</td>\n",
       "      <td>1</td>\n",
       "      <td>1</td>\n",
       "    </tr>\n",
       "    <tr>\n",
       "      <th>4</th>\n",
       "      <td>15780624</td>\n",
       "      <td>850</td>\n",
       "      <td>Рыбинск</td>\n",
       "      <td>Ж</td>\n",
       "      <td>43</td>\n",
       "      <td>2</td>\n",
       "      <td>125510.82</td>\n",
       "      <td>1</td>\n",
       "      <td>1</td>\n",
       "      <td>1</td>\n",
       "      <td>79084.10</td>\n",
       "      <td>0</td>\n",
       "      <td>0</td>\n",
       "      <td>1</td>\n",
       "      <td>0</td>\n",
       "      <td>1</td>\n",
       "    </tr>\n",
       "  </tbody>\n",
       "</table>\n",
       "</div>"
      ],
      "text/plain": [
       "     userid  score       city gender  age  objects    balance  products  \\\n",
       "0  15677338    619  Ярославль      Ж   42        2        NaN         1   \n",
       "1  15690047    608    Рыбинск      Ж   41        1   83807.86         1   \n",
       "2  15662040    502  Ярославль      Ж   42        8  159660.80         3   \n",
       "3  15744090    699  Ярославль      Ж   39        1        NaN         2   \n",
       "4  15780624    850    Рыбинск      Ж   43        2  125510.82         1   \n",
       "\n",
       "   creditcard  loyalty  estimated_salary  churn  rostov  rybinsk  yaroslavl  \\\n",
       "0           1        1         101348.88      1       0        0          1   \n",
       "1           0        1         112542.58      0       0        1          0   \n",
       "2           1        0         113931.57      1       0        0          1   \n",
       "3           0        0          93826.63      0       0        0          1   \n",
       "4           1        1          79084.10      0       0        1          0   \n",
       "\n",
       "   gender_numeric  \n",
       "0               1  \n",
       "1               1  \n",
       "2               1  \n",
       "3               1  \n",
       "4               1  "
      ]
     },
     "execution_count": 9,
     "metadata": {},
     "output_type": "execute_result"
    }
   ],
   "source": [
    "bank.head()"
   ]
  },
  {
   "cell_type": "code",
   "execution_count": 10,
   "id": "e9505c1f",
   "metadata": {},
   "outputs": [
    {
     "data": {
      "text/plain": [
       "0"
      ]
     },
     "execution_count": 10,
     "metadata": {},
     "output_type": "execute_result"
    }
   ],
   "source": [
    "# проверка на наличие явных дубликатов\n",
    "bank.duplicated().sum()"
   ]
  },
  {
   "cell_type": "code",
   "execution_count": 11,
   "id": "469b652e",
   "metadata": {},
   "outputs": [
    {
     "data": {
      "text/plain": [
       "userid                 0\n",
       "score                  0\n",
       "city                   0\n",
       "gender                 0\n",
       "age                    0\n",
       "objects                0\n",
       "balance             3617\n",
       "products               0\n",
       "creditcard             0\n",
       "loyalty                0\n",
       "estimated_salary       0\n",
       "churn                  0\n",
       "rostov                 0\n",
       "rybinsk                0\n",
       "yaroslavl              0\n",
       "gender_numeric         0\n",
       "dtype: int64"
      ]
     },
     "execution_count": 11,
     "metadata": {},
     "output_type": "execute_result"
    }
   ],
   "source": [
    "# посмотрим количество пропусков в ДФ\n",
    "bank_nan = bank.isna().sum()\n",
    "bank_nan"
   ]
  },
  {
   "cell_type": "markdown",
   "id": "1ba71317",
   "metadata": {},
   "source": [
    "очень много пропусков в строке баланс"
   ]
  },
  {
   "cell_type": "code",
   "execution_count": 12,
   "id": "b15719e5",
   "metadata": {
    "scrolled": true
   },
   "outputs": [
    {
     "data": {
      "text/plain": [
       "count      6383.000000\n",
       "mean     119827.493793\n",
       "std       30095.056462\n",
       "min        3768.690000\n",
       "25%      100181.975000\n",
       "50%      119839.690000\n",
       "75%      139512.290000\n",
       "max      250898.090000\n",
       "Name: balance, dtype: float64"
      ]
     },
     "execution_count": 12,
     "metadata": {},
     "output_type": "execute_result"
    }
   ],
   "source": [
    "bank['balance'].describe()"
   ]
  },
  {
   "cell_type": "markdown",
   "id": "c391a1c2",
   "metadata": {},
   "source": [
    "очень странно, что минимальное значение не 0. как бывший сотрудник банка могу сказать, что такое невозможно.  \n",
    "у многих людей есть счета без средств. думаю, что часть пропусков является нулевым значением. как собирались данные, нам не известно  \n",
    "считаю важным проверить данные по балансу в разрезе других столбцов"
   ]
  },
  {
   "cell_type": "code",
   "execution_count": 13,
   "id": "9e464bc2",
   "metadata": {},
   "outputs": [],
   "source": [
    "bank = bank.rename(columns={'ростов': 'rostov', 'credit_card': 'creditcard', 'equity': 'objects', 'last_activity': 'loyalty'})"
   ]
  },
  {
   "cell_type": "code",
   "execution_count": 14,
   "id": "2d8e5a87",
   "metadata": {},
   "outputs": [],
   "source": [
    "bank['balance_missing'] = bank['balance'].isna()"
   ]
  },
  {
   "cell_type": "code",
   "execution_count": 15,
   "id": "ee08bf21",
   "metadata": {},
   "outputs": [
    {
     "data": {
      "image/png": "[encoded data removed]",
      "text/plain": [
       "<Figure size 432x288 with 1 Axes>"
      ]
     },
     "metadata": {
      "needs_background": "light"
     },
     "output_type": "display_data"
    },
    {
     "name": "stdout",
     "output_type": "stream",
     "text": [
      "Разница средних:\n"
     ]
    },
    {
     "data": {
      "text/plain": [
       "rostov       -1.000000\n",
       "rybinsk       0.655635\n",
       "yaroslavl     0.643720\n",
       "churn        -0.425920\n",
       "products      0.287587\n",
       "creditcard    0.024907\n",
       "dtype: float64"
      ]
     },
     "execution_count": 15,
     "metadata": {},
     "output_type": "execute_result"
    }
   ],
   "source": [
    "sns.kdeplot(data=bank,x='age',hue='balance_missing',common_norm=False)\n",
    "plt.show()\n",
    "\n",
    "print('Разница средних:')\n",
    "mean_miss = bank.groupby('balance_missing').mean().T\n",
    "(mean_miss[True]/mean_miss[False] - 1)\\\n",
    "    .sort_values(key=abs,ascending=False).head(6)"
   ]
  },
  {
   "cell_type": "markdown",
   "id": "dccb4d81",
   "metadata": {},
   "source": [
    "Исходя из этих результатов корреляции, можно сделать вывод, что количество объектов в собственности, количество продуктов, город проживания и наличие кредитной карты могут быть факторами, влияющими на пустые значения. Заработная плата клиента также может играть роль в пропсуках."
   ]
  },
  {
   "cell_type": "code",
   "execution_count": 16,
   "id": "63e2c034",
   "metadata": {
    "scrolled": true
   },
   "outputs": [
    {
     "name": "stdout",
     "output_type": "stream",
     "text": [
      "пропуски в столбце balance, у кого есть кредитная карта: 2592\n",
      "пропуски в столбце balance, среди активных клиентов: 1873\n"
     ]
    }
   ],
   "source": [
    "# пропуски в столбце balance, у кого есть кредитная карта и среди активных клиентов\n",
    "print(\"пропуски в столбце balance, у кого есть кредитная карта:\", bank[bank['creditcard'] == 1]['balance'].isnull().sum())\n",
    "print(\"пропуски в столбце balance, среди активных клиентов:\",bank[bank['loyalty']==1]['balance_missing'].sum())"
   ]
  },
  {
   "cell_type": "markdown",
   "id": "5f9cae1c",
   "metadata": {},
   "source": [
    "не может быть, чтобы у активного клиента или клента с кредитной картой был пропуск в балансе.  "
   ]
  },
  {
   "cell_type": "code",
   "execution_count": 17,
   "id": "02c8cc6c",
   "metadata": {},
   "outputs": [
    {
     "data": {
      "text/plain": [
       "city\n",
       "Ростов Великий    NaN\n",
       "Рыбинск           0.0\n",
       "Ярославль         0.0\n",
       "Name: balance, dtype: float64"
      ]
     },
     "execution_count": 17,
     "metadata": {},
     "output_type": "execute_result"
    }
   ],
   "source": [
    "city_missbalance = bank[bank['balance'].isnull()].groupby('city')['balance'].count() / bank.groupby('city')['balance'].count()\n",
    "city_missbalance"
   ]
  },
  {
   "cell_type": "markdown",
   "id": "e0f288fe",
   "metadata": {},
   "source": [
    "данный тип пропусков я бы отнёс к MNAR (Missing Not At Random / Отсутствует не случайно). Так как пропуски есть только в Ростове, может произошла ошибка при выгрузке данных из этого филиала. считаю правильным заменить пропуски на 0"
   ]
  },
  {
   "cell_type": "code",
   "execution_count": 18,
   "id": "50718257",
   "metadata": {},
   "outputs": [
    {
     "data": {
      "text/plain": [
       "userid               0\n",
       "score                0\n",
       "city                 0\n",
       "gender               0\n",
       "age                  0\n",
       "objects              0\n",
       "balance             36\n",
       "products             0\n",
       "creditcard           0\n",
       "loyalty              0\n",
       "estimated_salary     0\n",
       "churn                0\n",
       "rostov               0\n",
       "rybinsk              0\n",
       "yaroslavl            0\n",
       "gender_numeric       0\n",
       "balance_missing      0\n",
       "dtype: int64"
      ]
     },
     "execution_count": 18,
     "metadata": {},
     "output_type": "execute_result"
    }
   ],
   "source": [
    "mar_bank = bank.groupby(['city', 'churn', 'products', 'creditcard'])\n",
    "\n",
    "def impute_balance(group):\n",
    "    group['balance'] = group['balance'].fillna(group['balance'].mean())\n",
    "    return group\n",
    "\n",
    "bank = mar_bank.apply(impute_balance)\n",
    "missing_balance =bank.isna().sum()\n",
    "missing_balance"
   ]
  },
  {
   "cell_type": "markdown",
   "id": "8407f895",
   "metadata": {},
   "source": [
    "осталось 36 пропусков, что является менее 1 процента от всех данных, считаю допустимым оставить их нетронутыми."
   ]
  },
  {
   "cell_type": "markdown",
   "id": "dd5a81eb",
   "metadata": {},
   "source": [
    "### Шаг 2. Исследовательский анализ данных"
   ]
  },
  {
   "cell_type": "markdown",
   "id": "8d13ab5e",
   "metadata": {},
   "source": [
    "#### Портрет клиента"
   ]
  },
  {
   "cell_type": "code",
   "execution_count": 19,
   "id": "bdb56b57",
   "metadata": {},
   "outputs": [
    {
     "name": "stdout",
     "output_type": "stream",
     "text": [
      "демографические характеристики\n",
      "количество мужчин: 5457\n",
      "количество женщин: 4543\n",
      "средний возраст: 38.92\n",
      "количество клиентов из Ростов Великого: 2509\n",
      "количество клиентов из Рыбинска: 2477\n",
      "количество клиентов из Ярославля: 5014\n",
      "среднее количество объектов в собственности: 5.01\n",
      "\n",
      "финансовое положение\n",
      "средний баланс на счете: 119901.72\n",
      "среднее количество продуктов: 1.53\n",
      "количество клиентов с кредитной картой: 7055\n",
      "средняя заработная плата: 100090.24\n",
      "количество активных клиентов: 5151\n",
      "\n",
      "поведенческие характеристики\n",
      "средний кредитный рейтинг: 650.53\n",
      "количество ушедших клиентов: 2037\n"
     ]
    }
   ],
   "source": [
    "# демографические характеристики\n",
    "gender_counts = bank['gender'].value_counts()\n",
    "age_mean = round(bank['age'].mean(), 2)\n",
    "city_counts = bank['city'].value_counts()\n",
    "objects_mean = round(bank['objects'].mean(), 2)\n",
    "# финансовые характеристики\n",
    "balance_mean = round(bank['balance'].mean(), 2)\n",
    "products_mean = round(bank['products'].mean(), 2)\n",
    "creditcard_counts = bank['creditcard'].value_counts()\n",
    "estimated_salary_mean = round(bank['estimated_salary'].mean(), 2)\n",
    "loyalty_counts = bank['loyalty'].value_counts()\n",
    "# поведенческие характеристики\n",
    "score_mean = round(bank['score'].mean(), 2)\n",
    "churn_counts = bank['churn'].value_counts()\n",
    "\n",
    "print(\"демографические характеристики\")\n",
    "print(f\"количество мужчин: {gender_counts['М']}\")\n",
    "print(f\"количество женщин: {gender_counts['Ж']}\")\n",
    "print(f\"средний возраст: {age_mean}\")\n",
    "print(f\"количество клиентов из Ростов Великого: {city_counts['Ростов Великий']}\")\n",
    "print(f\"количество клиентов из Рыбинска: {city_counts['Рыбинск']}\")\n",
    "print(f\"количество клиентов из Ярославля: {city_counts['Ярославль']}\")\n",
    "print(f\"среднее количество объектов в собственности: {objects_mean}\")\n",
    "print()\n",
    "print(\"финансовое положение\")\n",
    "print(f\"средний баланс на счете: {balance_mean}\")\n",
    "print(f\"среднее количество продуктов: {products_mean}\")\n",
    "print(f\"количество клиентов с кредитной картой: {creditcard_counts[1]}\")\n",
    "print(f\"средняя заработная плата: {estimated_salary_mean}\")\n",
    "print(f\"количество активных клиентов: {loyalty_counts[1]}\")\n",
    "print()\n",
    "print(\"поведенческие характеристики\")\n",
    "print(f\"средний кредитный рейтинг: {score_mean}\")\n",
    "print(f\"количество ушедших клиентов: {churn_counts[1]}\")"
   ]
  },
  {
   "cell_type": "code",
   "execution_count": 20,
   "id": "680237db",
   "metadata": {},
   "outputs": [
    {
     "data": {
      "text/html": [
       "<div>\n",
       "<style scoped>\n",
       "    .dataframe tbody tr th:only-of-type {\n",
       "        vertical-align: middle;\n",
       "    }\n",
       "\n",
       "    .dataframe tbody tr th {\n",
       "        vertical-align: top;\n",
       "    }\n",
       "\n",
       "    .dataframe thead th {\n",
       "        text-align: right;\n",
       "    }\n",
       "</style>\n",
       "<table border=\"1\" class=\"dataframe\">\n",
       "  <thead>\n",
       "    <tr style=\"text-align: right;\">\n",
       "      <th></th>\n",
       "      <th>userid</th>\n",
       "      <th>score</th>\n",
       "      <th>age</th>\n",
       "      <th>objects</th>\n",
       "      <th>balance</th>\n",
       "      <th>products</th>\n",
       "      <th>creditcard</th>\n",
       "      <th>loyalty</th>\n",
       "      <th>estimated_salary</th>\n",
       "      <th>churn</th>\n",
       "      <th>rostov</th>\n",
       "      <th>rybinsk</th>\n",
       "      <th>yaroslavl</th>\n",
       "      <th>gender_numeric</th>\n",
       "    </tr>\n",
       "  </thead>\n",
       "  <tbody>\n",
       "    <tr>\n",
       "      <th>count</th>\n",
       "      <td>10000.00</td>\n",
       "      <td>10000.00</td>\n",
       "      <td>10000.00</td>\n",
       "      <td>10000.00</td>\n",
       "      <td>9964.00</td>\n",
       "      <td>10000.00</td>\n",
       "      <td>10000.00</td>\n",
       "      <td>10000.00</td>\n",
       "      <td>10000.00</td>\n",
       "      <td>10000.0</td>\n",
       "      <td>10000.00</td>\n",
       "      <td>10000.00</td>\n",
       "      <td>10000.0</td>\n",
       "      <td>10000.00</td>\n",
       "    </tr>\n",
       "    <tr>\n",
       "      <th>mean</th>\n",
       "      <td>15733676.57</td>\n",
       "      <td>650.53</td>\n",
       "      <td>38.92</td>\n",
       "      <td>5.01</td>\n",
       "      <td>119901.72</td>\n",
       "      <td>1.53</td>\n",
       "      <td>0.71</td>\n",
       "      <td>0.52</td>\n",
       "      <td>100090.24</td>\n",
       "      <td>0.2</td>\n",
       "      <td>0.25</td>\n",
       "      <td>0.25</td>\n",
       "      <td>0.5</td>\n",
       "      <td>0.45</td>\n",
       "    </tr>\n",
       "    <tr>\n",
       "      <th>std</th>\n",
       "      <td>71936.19</td>\n",
       "      <td>96.65</td>\n",
       "      <td>10.49</td>\n",
       "      <td>2.89</td>\n",
       "      <td>24172.63</td>\n",
       "      <td>0.58</td>\n",
       "      <td>0.46</td>\n",
       "      <td>0.50</td>\n",
       "      <td>57510.49</td>\n",
       "      <td>0.4</td>\n",
       "      <td>0.43</td>\n",
       "      <td>0.43</td>\n",
       "      <td>0.5</td>\n",
       "      <td>0.50</td>\n",
       "    </tr>\n",
       "    <tr>\n",
       "      <th>min</th>\n",
       "      <td>15608437.00</td>\n",
       "      <td>350.00</td>\n",
       "      <td>18.00</td>\n",
       "      <td>0.00</td>\n",
       "      <td>3768.69</td>\n",
       "      <td>1.00</td>\n",
       "      <td>0.00</td>\n",
       "      <td>0.00</td>\n",
       "      <td>11.58</td>\n",
       "      <td>0.0</td>\n",
       "      <td>0.00</td>\n",
       "      <td>0.00</td>\n",
       "      <td>0.0</td>\n",
       "      <td>0.00</td>\n",
       "    </tr>\n",
       "    <tr>\n",
       "      <th>25%</th>\n",
       "      <td>15671264.25</td>\n",
       "      <td>584.00</td>\n",
       "      <td>32.00</td>\n",
       "      <td>3.00</td>\n",
       "      <td>111373.94</td>\n",
       "      <td>1.00</td>\n",
       "      <td>0.00</td>\n",
       "      <td>0.00</td>\n",
       "      <td>51002.11</td>\n",
       "      <td>0.0</td>\n",
       "      <td>0.00</td>\n",
       "      <td>0.00</td>\n",
       "      <td>0.0</td>\n",
       "      <td>0.00</td>\n",
       "    </tr>\n",
       "    <tr>\n",
       "      <th>50%</th>\n",
       "      <td>15733474.00</td>\n",
       "      <td>652.00</td>\n",
       "      <td>37.00</td>\n",
       "      <td>5.00</td>\n",
       "      <td>119953.74</td>\n",
       "      <td>1.00</td>\n",
       "      <td>1.00</td>\n",
       "      <td>1.00</td>\n",
       "      <td>100193.92</td>\n",
       "      <td>0.0</td>\n",
       "      <td>0.00</td>\n",
       "      <td>0.00</td>\n",
       "      <td>1.0</td>\n",
       "      <td>0.00</td>\n",
       "    </tr>\n",
       "    <tr>\n",
       "      <th>75%</th>\n",
       "      <td>15795969.75</td>\n",
       "      <td>718.00</td>\n",
       "      <td>44.00</td>\n",
       "      <td>7.00</td>\n",
       "      <td>127863.26</td>\n",
       "      <td>2.00</td>\n",
       "      <td>1.00</td>\n",
       "      <td>1.00</td>\n",
       "      <td>149388.25</td>\n",
       "      <td>0.0</td>\n",
       "      <td>1.00</td>\n",
       "      <td>0.00</td>\n",
       "      <td>1.0</td>\n",
       "      <td>1.00</td>\n",
       "    </tr>\n",
       "    <tr>\n",
       "      <th>max</th>\n",
       "      <td>15858426.00</td>\n",
       "      <td>850.00</td>\n",
       "      <td>92.00</td>\n",
       "      <td>10.00</td>\n",
       "      <td>250898.09</td>\n",
       "      <td>4.00</td>\n",
       "      <td>1.00</td>\n",
       "      <td>1.00</td>\n",
       "      <td>199992.48</td>\n",
       "      <td>1.0</td>\n",
       "      <td>1.00</td>\n",
       "      <td>1.00</td>\n",
       "      <td>1.0</td>\n",
       "      <td>1.00</td>\n",
       "    </tr>\n",
       "  </tbody>\n",
       "</table>\n",
       "</div>"
      ],
      "text/plain": [
       "            userid     score       age   objects    balance  products  \\\n",
       "count     10000.00  10000.00  10000.00  10000.00    9964.00  10000.00   \n",
       "mean   15733676.57    650.53     38.92      5.01  119901.72      1.53   \n",
       "std       71936.19     96.65     10.49      2.89   24172.63      0.58   \n",
       "min    15608437.00    350.00     18.00      0.00    3768.69      1.00   \n",
       "25%    15671264.25    584.00     32.00      3.00  111373.94      1.00   \n",
       "50%    15733474.00    652.00     37.00      5.00  119953.74      1.00   \n",
       "75%    15795969.75    718.00     44.00      7.00  127863.26      2.00   \n",
       "max    15858426.00    850.00     92.00     10.00  250898.09      4.00   \n",
       "\n",
       "       creditcard   loyalty  estimated_salary    churn    rostov   rybinsk  \\\n",
       "count    10000.00  10000.00          10000.00  10000.0  10000.00  10000.00   \n",
       "mean         0.71      0.52         100090.24      0.2      0.25      0.25   \n",
       "std          0.46      0.50          57510.49      0.4      0.43      0.43   \n",
       "min          0.00      0.00             11.58      0.0      0.00      0.00   \n",
       "25%          0.00      0.00          51002.11      0.0      0.00      0.00   \n",
       "50%          1.00      1.00         100193.92      0.0      0.00      0.00   \n",
       "75%          1.00      1.00         149388.25      0.0      1.00      0.00   \n",
       "max          1.00      1.00         199992.48      1.0      1.00      1.00   \n",
       "\n",
       "       yaroslavl  gender_numeric  \n",
       "count    10000.0        10000.00  \n",
       "mean         0.5            0.45  \n",
       "std          0.5            0.50  \n",
       "min          0.0            0.00  \n",
       "25%          0.0            0.00  \n",
       "50%          1.0            0.00  \n",
       "75%          1.0            1.00  \n",
       "max          1.0            1.00  "
      ]
     },
     "execution_count": 20,
     "metadata": {},
     "output_type": "execute_result"
    }
   ],
   "source": [
    "bank.describe().round(2)"
   ]
  },
  {
   "cell_type": "code",
   "execution_count": 21,
   "id": "5db44e34",
   "metadata": {},
   "outputs": [
    {
     "data": {
      "image/png": "[encoded data removed]",
      "text/plain": [
       "<Figure size 432x288 with 1 Axes>"
      ]
     },
     "metadata": {},
     "output_type": "display_data"
    }
   ],
   "source": [
    "sns.set_style('darkgrid')\n",
    "city_counts = bank['city'].value_counts()\n",
    "plt.bar(city_counts.index, city_counts.values)\n",
    "plt.xlabel('Город')\n",
    "plt.ylabel('Количество клиентов')\n",
    "plt.title('Распределение клиентов по городам')\n",
    "plt.show()"
   ]
  },
  {
   "cell_type": "code",
   "execution_count": 22,
   "id": "b79801ed",
   "metadata": {},
   "outputs": [
    {
     "data": {
      "image/png": "[encoded data removed]",
      "text/plain": [
       "<Figure size 432x288 with 1 Axes>"
      ]
     },
     "metadata": {},
     "output_type": "display_data"
    }
   ],
   "source": [
    "sns.set_style('darkgrid')\n",
    "gender_counts = bank['gender'].value_counts()\n",
    "plt.bar(gender_counts.index, gender_counts.values)\n",
    "plt.xlabel('Пол клиента')\n",
    "plt.ylabel('Количество клиентов')\n",
    "plt.title('Распределение клиентов по полу')\n",
    "plt.show()"
   ]
  },
  {
   "cell_type": "code",
   "execution_count": 23,
   "id": "0af1781a",
   "metadata": {},
   "outputs": [
    {
     "data": {
      "image/png": "[encoded data removed]",
      "text/plain": [
       "<Figure size 432x288 with 1 Axes>"
      ]
     },
     "metadata": {},
     "output_type": "display_data"
    }
   ],
   "source": [
    "sns.set_style('darkgrid')\n",
    "age_counts = bank['age'].value_counts()\n",
    "plt.bar(age_counts.index, age_counts.values)\n",
    "plt.xlabel('Возраст клиента')\n",
    "plt.ylabel('Количество клиентов')\n",
    "plt.title('Распределение клиентов по возрасту')\n",
    "plt.show()"
   ]
  },
  {
   "cell_type": "code",
   "execution_count": 24,
   "id": "f40cb61c",
   "metadata": {},
   "outputs": [
    {
     "data": {
      "image/png": "[encoded data removed]",
      "text/plain": [
       "<Figure size 432x288 with 1 Axes>"
      ]
     },
     "metadata": {},
     "output_type": "display_data"
    }
   ],
   "source": [
    "sns.set_style('darkgrid')\n",
    "rating_counts = bank['score'].value_counts()\n",
    "plt.bar(rating_counts.index, rating_counts.values)\n",
    "plt.xlabel('Рейтинг клиента')\n",
    "plt.ylabel('Количество клиентов')\n",
    "plt.title('Распределение клиентов по рейтингу')\n",
    "plt.ylim(0, 60)\n",
    "plt.show()"
   ]
  },
  {
   "cell_type": "code",
   "execution_count": 25,
   "id": "64cc0624",
   "metadata": {
    "scrolled": false
   },
   "outputs": [
    {
     "data": {
      "image/png": "[encoded data removed]",
      "text/plain": [
       "<Figure size 432x288 with 1 Axes>"
      ]
     },
     "metadata": {},
     "output_type": "display_data"
    }
   ],
   "source": [
    "sns.set_style('darkgrid')\n",
    "plt.hist(bank['balance'], bins=10)\n",
    "plt.xlabel('Баланс')\n",
    "plt.ylabel('Количество клиентов')\n",
    "plt.title('Распределение клиентов по балансу')\n",
    "plt.show()"
   ]
  },
  {
   "cell_type": "markdown",
   "id": "c544f349",
   "metadata": {},
   "source": [
    "Портрет клиента выглядит следующим образом:  \n",
    "\n",
    "-ему примерно 39 лет  \n",
    "-его доход около 100000 р  \n",
    "-у него хороший рейтинг, около 650 баллов  \n",
    "-чаще это мужчина  \n",
    "-и с большей вероятностью он из ярославля"
   ]
  },
  {
   "cell_type": "markdown",
   "id": "e532b491",
   "metadata": {},
   "source": [
    "#### Портрет неотточного клиента:"
   ]
  },
  {
   "cell_type": "code",
   "execution_count": 26,
   "id": "e273792f",
   "metadata": {
    "scrolled": true
   },
   "outputs": [
    {
     "name": "stdout",
     "output_type": "stream",
     "text": [
      "Информация о неотточном клиенте:\n",
      "демографические характеристики:\n",
      "количество мужчин: 4559\n",
      "количество женщин: 3404\n",
      "средний возраст: 37.41\n",
      "количество клиентов из Ростова Великого: 1695\n",
      "количество клиентов из Рыбинска: 2064\n",
      "количество клиентов из Ярославля: 4204\n",
      "среднее количество объектов в собственности: 5.03\n",
      "\n",
      "финансовое положение:\n",
      "средний баланс на счете: 119680.53\n",
      "среднее количество продуктов: 1.54\n",
      "количество клиентов с кредитной картой: 5631\n",
      "средняя заработная плата: 101465.68\n",
      "количество активных клиентов: 4416\n",
      "\n",
      "средний кредитный рейтинг: 651.85\n"
     ]
    }
   ],
   "source": [
    "# демографические характеристики\n",
    "nochurn_gender_counts = bank[bank['churn'] == 0]['gender'].value_counts()\n",
    "nochurn_age_mean = round(bank[bank['churn'] == 0]['age'].mean(), 2)\n",
    "nochurn_city_counts = bank[bank['churn'] ==0]['city'].value_counts()\n",
    "nochurn_objects_mean = round(bank[bank['churn'] == 0]['objects'].mean(), 2)\n",
    "\n",
    "# финансовое положение\n",
    "nochurn_balance_mean = round(bank[bank['churn'] == 0]['balance'].mean(), 2)\n",
    "nochurn_products_mean = round(bank[bank['churn'] == 0]['products'].mean(), 2)\n",
    "nochurn_creditcard_counts = bank[bank['churn'] == 0]['creditcard'].value_counts()\n",
    "nochurn_estimated_salary_mean = round(bank[bank['churn'] == 1]['estimated_salary'].mean(), 2)\n",
    "nochurn_loyalty_counts = bank[bank['churn'] == 0]['loyalty'].value_counts()\n",
    "\n",
    "# поведенческие характеристики\n",
    "nochurn_score_mean = round(bank[bank['churn'] == 0]['score'].mean(), 2)\n",
    "\n",
    "# вывод портрета отточного клиента\n",
    "print(\"Информация о неотточном клиенте:\")\n",
    "print(\"демографические характеристики:\")\n",
    "print(f\"количество мужчин: {nochurn_gender_counts['М']}\")\n",
    "print(f\"количество женщин: {nochurn_gender_counts['Ж']}\")\n",
    "print(f\"средний возраст: {nochurn_age_mean}\")\n",
    "print(f\"количество клиентов из Ростова Великого: {nochurn_city_counts['Ростов Великий']}\")\n",
    "print(f\"количество клиентов из Рыбинска: {nochurn_city_counts['Рыбинск']}\")\n",
    "print(f\"количество клиентов из Ярославля: {nochurn_city_counts['Ярославль']}\")\n",
    "print(f\"среднее количество объектов в собственности: {nochurn_objects_mean}\")\n",
    "print()\n",
    "print(\"финансовое положение:\")\n",
    "print(f\"средний баланс на счете: {nochurn_balance_mean}\")\n",
    "print(f\"среднее количество продуктов: {nochurn_products_mean}\")\n",
    "print(f\"количество клиентов с кредитной картой: {nochurn_creditcard_counts[1]}\")\n",
    "print(f\"средняя заработная плата: {nochurn_estimated_salary_mean}\")\n",
    "print(f\"количество активных клиентов: {nochurn_loyalty_counts[1]}\")\n",
    "print()\n",
    "print(f\"средний кредитный рейтинг: {nochurn_score_mean}\")"
   ]
  },
  {
   "cell_type": "markdown",
   "id": "1a00d3bf",
   "metadata": {},
   "source": [
    "Портрет неотточного клиента:\n",
    "- скорее всего, это мужчина\n",
    "- скорее всего он из Ярославля\n",
    "- возраст около 37-38 лет\n",
    "- на его балансе около 73000р\n",
    "- у него 1-2 продукта "
   ]
  },
  {
   "cell_type": "markdown",
   "id": "05298262",
   "metadata": {},
   "source": [
    "#### Портрет отточного клиента выглядит следующим образом:"
   ]
  },
  {
   "cell_type": "code",
   "execution_count": 36,
   "id": "422d8312",
   "metadata": {
    "scrolled": false
   },
   "outputs": [
    {
     "name": "stdout",
     "output_type": "stream",
     "text": [
      "Информация об отточном клиенте:\n",
      "демографические характеристики:\n",
      "количество мужчин: 898\n",
      "количество женщин: 1139\n",
      "средний возраст: 44.84\n",
      "количество клиентов из Ростова Великого: 814\n",
      "количество клиентов из Рыбинска: 413\n",
      "количество клиентов из Ярославля: 810\n",
      "среднее количество объектов в собственности: 4.93\n",
      "\n",
      "финансовое положение:\n",
      "средний баланс на счете: 120762.47\n",
      "среднее количество продуктов: 1.48\n",
      "количество клиентов с кредитной картой: 1424\n",
      "средняя заработная плата: 101465.68\n",
      "количество активных клиентов: 735\n",
      "\n",
      "средний кредитный рейтинг: 645.35\n"
     ]
    }
   ],
   "source": [
    "# демографические характеристики\n",
    "churn_gender_counts = bank[bank['churn'] == 1]['gender'].value_counts()\n",
    "churn_age_mean = round(bank[bank['churn'] == 1]['age'].mean(), 2)\n",
    "churn_city_counts = bank[bank['churn'] == 1]['city'].value_counts()\n",
    "churn_objects_mean = round(bank[bank['churn'] == 1]['objects'].mean(), 2)\n",
    "\n",
    "# финансовое положение\n",
    "churn_balance_mean = round(bank[bank['churn'] == 1]['balance'].mean(), 2)\n",
    "churn_products_mean = round(bank[bank['churn'] == 1]['products'].mean(), 2)\n",
    "churn_creditcard_counts = bank[bank['churn'] == 1]['creditcard'].value_counts()\n",
    "churn_estimated_salary_mean = round(bank[bank['churn'] == 1]['estimated_salary'].mean(), 2)\n",
    "churn_loyalty_counts = bank[bank['churn'] == 1]['loyalty'].value_counts()\n",
    "\n",
    "# поведенческие характеристики\n",
    "churn_score_mean = round(bank[bank['churn'] == 1]['score'].mean(), 2)\n",
    "\n",
    "# вывод портрета отточного клиента\n",
    "print(\"Информация об отточном клиенте:\")\n",
    "print(\"демографические характеристики:\")\n",
    "print(f\"количество мужчин: {churn_gender_counts['М']}\")\n",
    "print(f\"количество женщин: {churn_gender_counts['Ж']}\")\n",
    "print(f\"средний возраст: {churn_age_mean}\")\n",
    "print(f\"количество клиентов из Ростова Великого: {churn_city_counts['Ростов Великий']}\")\n",
    "print(f\"количество клиентов из Рыбинска: {churn_city_counts['Рыбинск']}\")\n",
    "print(f\"количество клиентов из Ярославля: {churn_city_counts['Ярославль']}\")\n",
    "print(f\"среднее количество объектов в собственности: {churn_objects_mean}\")\n",
    "print()\n",
    "print(\"финансовое положение:\")\n",
    "print(f\"средний баланс на счете: {churn_balance_mean}\")\n",
    "print(f\"среднее количество продуктов: {churn_products_mean}\")\n",
    "print(f\"количество клиентов с кредитной картой: {churn_creditcard_counts[1]}\")\n",
    "print(f\"средняя заработная плата: {churn_estimated_salary_mean}\")\n",
    "print(f\"количество активных клиентов: {churn_loyalty_counts[1]}\")\n",
    "print()\n",
    "print(f\"средний кредитный рейтинг: {churn_score_mean}\")"
   ]
  },
  {
   "cell_type": "markdown",
   "id": "6e00a660",
   "metadata": {},
   "source": [
    "Портрет отточного клиента выглядит следующим образом:  \n",
    "-скорее всего это женищина  \n",
    "-возраст в промежутке между 44 и 45  \n",
    "-скорее всего она из Ростова или Ярославля\n",
    "-баланс около 91000р  \n",
    "-зредняя зп 101000р\n"
   ]
  },
  {
   "cell_type": "code",
   "execution_count": 37,
   "id": "4eb698e6",
   "metadata": {},
   "outputs": [
    {
     "data": {
      "image/png": "[encoded data removed]",
      "text/plain": [
       "<Figure size 576x432 with 1 Axes>"
      ]
     },
     "metadata": {},
     "output_type": "display_data"
    }
   ],
   "source": [
    "churn_counts = bank['churn'].value_counts()\n",
    "plt.figure(figsize=(8, 6))\n",
    "sns.barplot(x=churn_counts.index, y=churn_counts.values, palette='Set2')\n",
    "plt.xlabel('Статус клиента')\n",
    "plt.ylabel('Количество клиентов')\n",
    "plt.title('Количество отточных и неотточных клиентов')\n",
    "plt.xticks([0, 1], ['Неотточный', 'Отточный'])\n",
    "plt.show()"
   ]
  },
  {
   "cell_type": "code",
   "execution_count": 38,
   "id": "1b9a57a5",
   "metadata": {},
   "outputs": [
    {
     "name": "stdout",
     "output_type": "stream",
     "text": [
      "Баланс отточного клиента больше обычного на 0.90%\n",
      "Средний возраст отточного клиента больше среднего возраста обычного клиента на 19.09%\n",
      "Средний рейтинг обычного клиента больше среднего рейтинга отточного клиента на 1.01%\n"
     ]
    }
   ],
   "source": [
    "diff_percent_balance = ((churn_balance_mean - nochurn_balance_mean) / balance_mean) * 100\n",
    "print(f\"Баланс отточного клиента больше обычного на {diff_percent_balance:.2f}%\")\n",
    "\n",
    "diff_percent_age = ((churn_age_mean - nochurn_age_mean) / age_mean) * 100\n",
    "print(f\"Средний возраст отточного клиента больше среднего возраста обычного клиента на {diff_percent_age:.2f}%\")\n",
    "\n",
    "diff_percent_score = ((nochurn_score_mean - churn_score_mean) / churn_score_mean) * 100\n",
    "print(f\"Средний рейтинг обычного клиента больше среднего рейтинга отточного клиента на {diff_percent_score:.2f}%\")"
   ]
  },
  {
   "cell_type": "code",
   "execution_count": 39,
   "id": "627ddfdb",
   "metadata": {},
   "outputs": [
    {
     "data": {
      "image/png": "[encoded data removed]",
      "text/plain": [
       "<Figure size 432x432 with 1 Axes>"
      ]
     },
     "metadata": {},
     "output_type": "display_data"
    }
   ],
   "source": [
    "labels = ['Обычный клиент', 'Отточный клиент']\n",
    "values = [nochurn_balance_mean, churn_balance_mean]\n",
    "\n",
    "plt.figure(figsize=(6, 6))\n",
    "plt.bar(labels, values, color=['blue', 'red'])\n",
    "plt.ylabel('Значение')\n",
    "plt.title('Сравнение баланса между отточным и обычным клиентом')\n",
    "\n",
    "plt.show()"
   ]
  },
  {
   "cell_type": "code",
   "execution_count": 40,
   "id": "7ce11f47",
   "metadata": {},
   "outputs": [
    {
     "data": {
      "image/png": "[encoded data removed]",
      "text/plain": [
       "<Figure size 432x432 with 1 Axes>"
      ]
     },
     "metadata": {},
     "output_type": "display_data"
    }
   ],
   "source": [
    "labels = ['Обычный клиент', 'Отточный клиент']\n",
    "values = [nochurn_age_mean, churn_age_mean]\n",
    "\n",
    "plt.figure(figsize=(6, 6))\n",
    "plt.bar(labels, values, color=['blue', 'red'])\n",
    "plt.ylabel('Средний возраст')\n",
    "plt.title('Сравнение среднего возраста между отточным и обычным клиентом')\n",
    "\n",
    "plt.show()"
   ]
  },
  {
   "cell_type": "code",
   "execution_count": 41,
   "id": "8e31dfd8",
   "metadata": {},
   "outputs": [
    {
     "data": {
      "image/png": "[encoded data removed]",
      "text/plain": [
       "<Figure size 432x432 with 1 Axes>"
      ]
     },
     "metadata": {},
     "output_type": "display_data"
    }
   ],
   "source": [
    "labels = ['Обычный клиент', 'Отточный клиент']\n",
    "values = [nochurn_score_mean, churn_score_mean]\n",
    "plt.figure(figsize=(6, 6))\n",
    "plt.bar(labels, values, color=['blue', 'red'])\n",
    "plt.ylabel('Средний рейтинг')\n",
    "plt.title('Сравнение среднего рейтинга между обычным и отточным клиентом')\n",
    "plt.show()"
   ]
  },
  {
   "cell_type": "code",
   "execution_count": 42,
   "id": "11774a54",
   "metadata": {},
   "outputs": [
    {
     "data": {
      "text/html": [
       "<div>\n",
       "<style scoped>\n",
       "    .dataframe tbody tr th:only-of-type {\n",
       "        vertical-align: middle;\n",
       "    }\n",
       "\n",
       "    .dataframe tbody tr th {\n",
       "        vertical-align: top;\n",
       "    }\n",
       "\n",
       "    .dataframe thead th {\n",
       "        text-align: right;\n",
       "    }\n",
       "</style>\n",
       "<table border=\"1\" class=\"dataframe\">\n",
       "  <thead>\n",
       "    <tr style=\"text-align: right;\">\n",
       "      <th></th>\n",
       "      <th>userid</th>\n",
       "      <th>score</th>\n",
       "      <th>age</th>\n",
       "      <th>objects</th>\n",
       "      <th>balance</th>\n",
       "      <th>products</th>\n",
       "      <th>creditcard</th>\n",
       "      <th>loyalty</th>\n",
       "      <th>estimated_salary</th>\n",
       "      <th>churn</th>\n",
       "      <th>rostov</th>\n",
       "      <th>rybinsk</th>\n",
       "      <th>yaroslavl</th>\n",
       "      <th>gender_numeric</th>\n",
       "    </tr>\n",
       "  </thead>\n",
       "  <tbody>\n",
       "    <tr>\n",
       "      <th>count</th>\n",
       "      <td>7.963000e+03</td>\n",
       "      <td>7963.000000</td>\n",
       "      <td>7963.000000</td>\n",
       "      <td>7963.000000</td>\n",
       "      <td>7927.000000</td>\n",
       "      <td>7963.000000</td>\n",
       "      <td>7963.000000</td>\n",
       "      <td>7963.000000</td>\n",
       "      <td>7963.000000</td>\n",
       "      <td>7963.0</td>\n",
       "      <td>7963.000000</td>\n",
       "      <td>7963.000000</td>\n",
       "      <td>7963.000000</td>\n",
       "      <td>7963.000000</td>\n",
       "    </tr>\n",
       "    <tr>\n",
       "      <th>mean</th>\n",
       "      <td>1.573390e+07</td>\n",
       "      <td>651.853196</td>\n",
       "      <td>37.408389</td>\n",
       "      <td>5.033279</td>\n",
       "      <td>119680.528629</td>\n",
       "      <td>1.544267</td>\n",
       "      <td>0.707146</td>\n",
       "      <td>0.554565</td>\n",
       "      <td>99738.391772</td>\n",
       "      <td>0.0</td>\n",
       "      <td>0.212859</td>\n",
       "      <td>0.259199</td>\n",
       "      <td>0.527942</td>\n",
       "      <td>0.427477</td>\n",
       "    </tr>\n",
       "    <tr>\n",
       "      <th>std</th>\n",
       "      <td>7.174423e+04</td>\n",
       "      <td>95.653837</td>\n",
       "      <td>10.125363</td>\n",
       "      <td>2.880658</td>\n",
       "      <td>23474.929131</td>\n",
       "      <td>0.509536</td>\n",
       "      <td>0.455101</td>\n",
       "      <td>0.497045</td>\n",
       "      <td>57405.586966</td>\n",
       "      <td>0.0</td>\n",
       "      <td>0.409355</td>\n",
       "      <td>0.438222</td>\n",
       "      <td>0.499250</td>\n",
       "      <td>0.494744</td>\n",
       "    </tr>\n",
       "    <tr>\n",
       "      <th>min</th>\n",
       "      <td>1.560844e+07</td>\n",
       "      <td>405.000000</td>\n",
       "      <td>18.000000</td>\n",
       "      <td>0.000000</td>\n",
       "      <td>14262.800000</td>\n",
       "      <td>1.000000</td>\n",
       "      <td>0.000000</td>\n",
       "      <td>0.000000</td>\n",
       "      <td>90.070000</td>\n",
       "      <td>0.0</td>\n",
       "      <td>0.000000</td>\n",
       "      <td>0.000000</td>\n",
       "      <td>0.000000</td>\n",
       "      <td>0.000000</td>\n",
       "    </tr>\n",
       "    <tr>\n",
       "      <th>25%</th>\n",
       "      <td>1.567155e+07</td>\n",
       "      <td>585.000000</td>\n",
       "      <td>31.000000</td>\n",
       "      <td>3.000000</td>\n",
       "      <td>112532.610000</td>\n",
       "      <td>1.000000</td>\n",
       "      <td>0.000000</td>\n",
       "      <td>0.000000</td>\n",
       "      <td>50783.490000</td>\n",
       "      <td>0.0</td>\n",
       "      <td>0.000000</td>\n",
       "      <td>0.000000</td>\n",
       "      <td>0.000000</td>\n",
       "      <td>0.000000</td>\n",
       "    </tr>\n",
       "    <tr>\n",
       "      <th>50%</th>\n",
       "      <td>1.573428e+07</td>\n",
       "      <td>653.000000</td>\n",
       "      <td>36.000000</td>\n",
       "      <td>5.000000</td>\n",
       "      <td>119655.241370</td>\n",
       "      <td>2.000000</td>\n",
       "      <td>1.000000</td>\n",
       "      <td>1.000000</td>\n",
       "      <td>99645.040000</td>\n",
       "      <td>0.0</td>\n",
       "      <td>0.000000</td>\n",
       "      <td>0.000000</td>\n",
       "      <td>1.000000</td>\n",
       "      <td>0.000000</td>\n",
       "    </tr>\n",
       "    <tr>\n",
       "      <th>75%</th>\n",
       "      <td>1.579609e+07</td>\n",
       "      <td>718.000000</td>\n",
       "      <td>41.000000</td>\n",
       "      <td>7.000000</td>\n",
       "      <td>126529.355000</td>\n",
       "      <td>2.000000</td>\n",
       "      <td>1.000000</td>\n",
       "      <td>1.000000</td>\n",
       "      <td>148609.955000</td>\n",
       "      <td>0.0</td>\n",
       "      <td>0.000000</td>\n",
       "      <td>1.000000</td>\n",
       "      <td>1.000000</td>\n",
       "      <td>1.000000</td>\n",
       "    </tr>\n",
       "    <tr>\n",
       "      <th>max</th>\n",
       "      <td>1.585843e+07</td>\n",
       "      <td>850.000000</td>\n",
       "      <td>92.000000</td>\n",
       "      <td>10.000000</td>\n",
       "      <td>221532.800000</td>\n",
       "      <td>3.000000</td>\n",
       "      <td>1.000000</td>\n",
       "      <td>1.000000</td>\n",
       "      <td>199992.480000</td>\n",
       "      <td>0.0</td>\n",
       "      <td>1.000000</td>\n",
       "      <td>1.000000</td>\n",
       "      <td>1.000000</td>\n",
       "      <td>1.000000</td>\n",
       "    </tr>\n",
       "  </tbody>\n",
       "</table>\n",
       "</div>"
      ],
      "text/plain": [
       "             userid        score          age      objects        balance  \\\n",
       "count  7.963000e+03  7963.000000  7963.000000  7963.000000    7927.000000   \n",
       "mean   1.573390e+07   651.853196    37.408389     5.033279  119680.528629   \n",
       "std    7.174423e+04    95.653837    10.125363     2.880658   23474.929131   \n",
       "min    1.560844e+07   405.000000    18.000000     0.000000   14262.800000   \n",
       "25%    1.567155e+07   585.000000    31.000000     3.000000  112532.610000   \n",
       "50%    1.573428e+07   653.000000    36.000000     5.000000  119655.241370   \n",
       "75%    1.579609e+07   718.000000    41.000000     7.000000  126529.355000   \n",
       "max    1.585843e+07   850.000000    92.000000    10.000000  221532.800000   \n",
       "\n",
       "          products   creditcard      loyalty  estimated_salary   churn  \\\n",
       "count  7963.000000  7963.000000  7963.000000       7963.000000  7963.0   \n",
       "mean      1.544267     0.707146     0.554565      99738.391772     0.0   \n",
       "std       0.509536     0.455101     0.497045      57405.586966     0.0   \n",
       "min       1.000000     0.000000     0.000000         90.070000     0.0   \n",
       "25%       1.000000     0.000000     0.000000      50783.490000     0.0   \n",
       "50%       2.000000     1.000000     1.000000      99645.040000     0.0   \n",
       "75%       2.000000     1.000000     1.000000     148609.955000     0.0   \n",
       "max       3.000000     1.000000     1.000000     199992.480000     0.0   \n",
       "\n",
       "            rostov      rybinsk    yaroslavl  gender_numeric  \n",
       "count  7963.000000  7963.000000  7963.000000     7963.000000  \n",
       "mean      0.212859     0.259199     0.527942        0.427477  \n",
       "std       0.409355     0.438222     0.499250        0.494744  \n",
       "min       0.000000     0.000000     0.000000        0.000000  \n",
       "25%       0.000000     0.000000     0.000000        0.000000  \n",
       "50%       0.000000     0.000000     1.000000        0.000000  \n",
       "75%       0.000000     1.000000     1.000000        1.000000  \n",
       "max       1.000000     1.000000     1.000000        1.000000  "
      ]
     },
     "execution_count": 42,
     "metadata": {},
     "output_type": "execute_result"
    }
   ],
   "source": [
    "no_churn_bank = bank[bank['churn'] != 1]\n",
    "no_churn_bank.describe()"
   ]
  },
  {
   "cell_type": "code",
   "execution_count": 43,
   "id": "0afc35cb",
   "metadata": {},
   "outputs": [
    {
     "data": {
      "image/png": "[encoded data removed]",
      "text/plain": [
       "<Figure size 720x576 with 2 Axes>"
      ]
     },
     "metadata": {},
     "output_type": "display_data"
    }
   ],
   "source": [
    "features = ['score', 'age', 'objects', 'balance', 'products', 'creditcard', 'estimated_salary', 'loyalty', 'yaroslavl', 'rybinsk', 'rostov', 'gender_numeric' ]\n",
    "correlation_matrix = bank[features].corr()\n",
    "plt.figure(figsize=(10, 8))\n",
    "sns.heatmap(correlation_matrix, annot=True, cmap='coolwarm')\n",
    "plt.title('Тепловая карта: Влияние признаков на отток')\n",
    "plt.show()"
   ]
  },
  {
   "cell_type": "code",
   "execution_count": 44,
   "id": "33f7f809",
   "metadata": {
    "scrolled": false
   },
   "outputs": [
    {
     "name": "stdout",
     "output_type": "stream",
     "text": [
      "interval columns not set, guessing: ['userid', 'score', 'age', 'objects', 'balance', 'products', 'creditcard', 'loyalty', 'estimated_salary', 'churn', 'rostov', 'rybinsk', 'yaroslavl', 'gender_numeric']\n"
     ]
    },
    {
     "data": {
      "image/png": "[encoded data removed]",
      "text/plain": [
       "<Figure size 720x576 with 2 Axes>"
      ]
     },
     "metadata": {},
     "output_type": "display_data"
    }
   ],
   "source": [
    "df_phik = bank.phik_matrix().drop(['churn', 'balance_missing', 'gender_numeric']).sort_values('churn', ascending=False)\n",
    "plt.figure(figsize=(10, 8))\n",
    "sns.heatmap(df_phik[['churn']], annot=True, vmin=0, vmax=1, center=0, cmap='coolwarm', linewidths=1, linecolor='black')\n",
    "plt.title('Phik корреляция признаков на отток клиентов')\n",
    "plt.xticks(fontsize=12, rotation=90)\n",
    "plt.yticks(fontsize=12)\n",
    "plt.ylabel('Признаки')\n",
    "plt.xlabel('Отток')\n",
    "plt.show()"
   ]
  },
  {
   "cell_type": "markdown",
   "id": "bd200a2d",
   "metadata": {},
   "source": [
    "самая высокая корреляция с продуктами (0.57), затем с возрастом (0.49), с городом Ростовом (0.27), активностью (0.24), количеством денежных средств (0.18), пол (0.17) и город Ярославль (0.16)"
   ]
  },
  {
   "cell_type": "markdown",
   "id": "c2837901",
   "metadata": {},
   "source": [
    "### Описание данных, коррелирующих с оттоком/неоттоком"
   ]
  },
  {
   "cell_type": "markdown",
   "id": "e1f36fbb",
   "metadata": {},
   "source": [
    "#### Количество продуктов, которыми пользуется клиент"
   ]
  },
  {
   "cell_type": "code",
   "execution_count": 45,
   "id": "f9902310",
   "metadata": {},
   "outputs": [
    {
     "data": {
      "image/png": "[encoded data removed]",
      "text/plain": [
       "<Figure size 576x432 with 1 Axes>"
      ]
     },
     "metadata": {},
     "output_type": "display_data"
    }
   ],
   "source": [
    "plt.figure(figsize=(8, 6))\n",
    "sns.countplot(data=bank, x='products', hue='churn', palette='Set2')\n",
    "plt.xlabel('Количество продуктов')\n",
    "plt.ylabel('Количество клиентов')\n",
    "plt.title('Количество продуктов по оттоку')\n",
    "plt.legend(title='Отток', labels=['Не отточный', 'Отточный'])\n",
    "plt.show()"
   ]
  },
  {
   "cell_type": "code",
   "execution_count": 46,
   "id": "4b88b775",
   "metadata": {
    "scrolled": false
   },
   "outputs": [
    {
     "data": {
      "image/png": "[encoded data removed]",
      "text/plain": [
       "<Figure size 576x432 with 1 Axes>"
      ]
     },
     "metadata": {},
     "output_type": "display_data"
    }
   ],
   "source": [
    "plt.figure(figsize=(8, 6))\n",
    "churn_rates = bank.groupby('products')['churn'].mean()\n",
    "churn_rates.plot(kind='bar')\n",
    "plt.axhline(y=bank['churn'].mean(), color='red', linestyle='-', label='Средний отток')\n",
    "plt.xlabel('Количество продуктов')\n",
    "plt.ylabel('Уровень оттока')\n",
    "plt.title('Уровень оттока по количеству продуктов в %')\n",
    "plt.legend()\n",
    "plt.xticks(rotation=360) \n",
    "plt.show()"
   ]
  },
  {
   "cell_type": "code",
   "execution_count": 47,
   "id": "fb922543",
   "metadata": {},
   "outputs": [
    {
     "data": {
      "image/png": "[encoded data removed]",
      "text/plain": [
       "<Figure size 432x288 with 1 Axes>"
      ]
     },
     "metadata": {},
     "output_type": "display_data"
    }
   ],
   "source": [
    "### КОД РЕВЬЮЕРА 2\n",
    "bank.groupby('products').agg({'churn':'mean'}).plot.bar().axhline(bank.churn.mean(),c='red');"
   ]
  },
  {
   "cell_type": "markdown",
   "id": "f557b9c6",
   "metadata": {},
   "source": [
    "#### Распределение  отточных и неотточных клиентов по возрасту"
   ]
  },
  {
   "cell_type": "code",
   "execution_count": 48,
   "id": "ae972dde",
   "metadata": {},
   "outputs": [
    {
     "data": {
      "image/png": "[encoded data removed]",
      "text/plain": [
       "<Figure size 576x432 with 1 Axes>"
      ]
     },
     "metadata": {},
     "output_type": "display_data"
    }
   ],
   "source": [
    "plt.figure(figsize=(8, 6))\n",
    "sns.kdeplot(data=bank[bank['churn'] == 0], x='age', label='Не отточный', shade=True, color='blue')\n",
    "sns.kdeplot(data=bank[bank['churn'] == 1], x='age', label='Отточный', shade=True, color='orange')\n",
    "plt.xlabel('Возраст')\n",
    "plt.ylabel('Плотность')\n",
    "plt.title('Распределение возраста отточных и неотточных клиентов')\n",
    "plt.legend(title='Отток')\n",
    "plt.show()"
   ]
  },
  {
   "cell_type": "markdown",
   "id": "b313722f",
   "metadata": {},
   "source": [
    "#### Распределение  отточных и неотточных клиентов в городе Ростов Великий"
   ]
  },
  {
   "cell_type": "code",
   "execution_count": 49,
   "id": "c5db883b",
   "metadata": {},
   "outputs": [
    {
     "data": {
      "image/png": "[encoded data removed]",
      "text/plain": [
       "<Figure size 576x432 with 1 Axes>"
      ]
     },
     "metadata": {},
     "output_type": "display_data"
    }
   ],
   "source": [
    "plt.figure(figsize=(8, 6))\n",
    "sns.countplot(data=bank[bank['city'] == 'Ростов Великий'], x='churn', palette='Set2')\n",
    "plt.xlabel('Тип клиента')\n",
    "plt.ylabel('Количество клиентов')\n",
    "plt.title('Количество отточных и неотточных клиентов в городе Ростов Великий')\n",
    "plt.xticks([0, 1], ['Не отточный', 'Отточный'])\n",
    "plt.show()"
   ]
  },
  {
   "cell_type": "code",
   "execution_count": 50,
   "id": "e19cf314",
   "metadata": {},
   "outputs": [
    {
     "data": {
      "image/png": "[encoded data removed]",
      "text/plain": [
       "<Figure size 576x432 with 1 Axes>"
      ]
     },
     "metadata": {},
     "output_type": "display_data"
    }
   ],
   "source": [
    "plt.figure(figsize=(8, 6))\n",
    "churn_counts = bank[bank['city'] == 'Ростов Великий']['churn'].value_counts()\n",
    "churn_percent = churn_counts / churn_counts.sum() * 100\n",
    "\n",
    "sns.barplot(x=churn_counts.index, y=churn_percent, palette='Set2')\n",
    "plt.xlabel('Тип клиента')\n",
    "plt.ylabel('Процент клиентов')\n",
    "plt.title('Уровень оттока в городе Ростов Великий')\n",
    "plt.xticks([0, 1], ['Неотточный', 'Отточный'])\n",
    "plt.axhline(y=churn_percent.mean(), color='red', linestyle='-', label='Средний отток')\n",
    "plt.legend()\n",
    "plt.show()"
   ]
  },
  {
   "cell_type": "markdown",
   "id": "6151ad29",
   "metadata": {},
   "source": [
    "#### Распределение лояльности отточных и неотточных клиентов"
   ]
  },
  {
   "cell_type": "code",
   "execution_count": 51,
   "id": "8573bf74",
   "metadata": {},
   "outputs": [
    {
     "data": {
      "image/png": "[encoded data removed]",
      "text/plain": [
       "<Figure size 576x432 with 1 Axes>"
      ]
     },
     "metadata": {},
     "output_type": "display_data"
    }
   ],
   "source": [
    "plt.figure(figsize=(8, 6))\n",
    "sns.kdeplot(data=bank[bank['churn'] == 0], x='loyalty', label='Не отточный', shade=True, color='blue')\n",
    "sns.kdeplot(data=bank[bank['churn'] == 1], x='loyalty', label='Отточный', shade=True, color='orange')\n",
    "plt.xlabel('Лояльность')\n",
    "plt.ylabel('Плотность')\n",
    "plt.title('Распределение лояльности отточных и неотточных клиентов')\n",
    "plt.legend(title='Отток')\n",
    "plt.show()"
   ]
  },
  {
   "cell_type": "markdown",
   "id": "d3ff6ba8",
   "metadata": {},
   "source": [
    "#### Распределение баланса отточных и неотточных клиентов"
   ]
  },
  {
   "cell_type": "code",
   "execution_count": 52,
   "id": "a673443f",
   "metadata": {
    "scrolled": false
   },
   "outputs": [
    {
     "data": {
      "image/png": "[encoded data removed]",
      "text/plain": [
       "<Figure size 576x432 with 1 Axes>"
      ]
     },
     "metadata": {},
     "output_type": "display_data"
    }
   ],
   "source": [
    "plt.figure(figsize=(8, 6))\n",
    "sns.kdeplot(data=bank[bank['churn'] == 0], x='balance', label='Не отточный', shade=True, color='blue')\n",
    "sns.kdeplot(data=bank[bank['churn'] == 1], x='balance', label='Отточный', shade=True, color='orange')\n",
    "plt.xlabel('Баланс')\n",
    "plt.ylabel('Плотность')\n",
    "plt.title('Распределение баланса отточных и неотточных клиентов')\n",
    "plt.legend(title='Отток')\n",
    "plt.show()"
   ]
  },
  {
   "cell_type": "markdown",
   "id": "91f13fdf",
   "metadata": {},
   "source": [
    "#### Распределение доходов отточных и неотточных клиентов"
   ]
  },
  {
   "cell_type": "code",
   "execution_count": 54,
   "id": "4cdd57b0",
   "metadata": {},
   "outputs": [
    {
     "data": {
      "image/png": "[encoded data removed]",
      "text/plain": [
       "<Figure size 576x432 with 1 Axes>"
      ]
     },
     "metadata": {},
     "output_type": "display_data"
    }
   ],
   "source": [
    "plt.figure(figsize=(8, 6))\n",
    "sns.kdeplot(data=bank[bank['churn'] == 0], x='estimated_salary', label='Не отточный', shade=True, color='blue')\n",
    "sns.kdeplot(data=bank[bank['churn'] == 1], x='estimated_salary', label='Отточный', shade=True, color='orange')\n",
    "plt.xlabel('Оценочная зарплата')\n",
    "plt.ylabel('Плотность')\n",
    "plt.title('Распределение доходов отточных и неотточных клиентов')\n",
    "plt.legend(title='Отток')\n",
    "plt.show()"
   ]
  },
  {
   "cell_type": "code",
   "execution_count": 55,
   "id": "714ae01e",
   "metadata": {},
   "outputs": [
    {
     "data": {
      "image/png": "[encoded data removed]",
      "text/plain": [
       "<Figure size 576x432 with 1 Axes>"
      ]
     },
     "metadata": {},
     "output_type": "display_data"
    }
   ],
   "source": [
    "plt.figure(figsize=(8, 6))\n",
    "sns.kdeplot(data=bank[bank['churn'] == 0], x='score', label='Не отточный', shade=True, color='blue')\n",
    "sns.kdeplot(data=bank[bank['churn'] == 1], x='score', label='Отточный', shade=True, color='orange')\n",
    "plt.xlabel('Score')\n",
    "plt.ylabel('Плотность')\n",
    "plt.title('Распределение баллов кредитного скоринга отточных и неотточных клиентов')\n",
    "plt.legend(title='Отток')\n",
    "plt.show()"
   ]
  },
  {
   "cell_type": "markdown",
   "id": "4824a0fe",
   "metadata": {},
   "source": [
    "### Проверка гипотез"
   ]
  },
  {
   "cell_type": "markdown",
   "id": "1e2955b5",
   "metadata": {},
   "source": [
    "#### Формулировка первой гипотезы:  \n",
    "Нулевая гипотеза: разницы между доходами отточных и неотточных клиентов нет  \n",
    "Альтернативная гипотеза: разница между доходами отточных и неотточных клиентов есть"
   ]
  },
  {
   "cell_type": "markdown",
   "id": "d0d93a91",
   "metadata": {},
   "source": [
    "##### проверка  t-критерием "
   ]
  },
  {
   "cell_type": "code",
   "execution_count": 56,
   "id": "cba5db84",
   "metadata": {},
   "outputs": [
    {
     "name": "stdout",
     "output_type": "stream",
     "text": [
      "t-статистика: 1.209653638019264\n",
      "p-значение: 0.22644042802223352\n",
      "Не удалось отвергнуть нулевую гипотезу: разницы между доходами отточных и неотточных клиентов нет\n"
     ]
    }
   ],
   "source": [
    "churned = bank[bank['churn'] == 1]['estimated_salary']\n",
    "not_churned = bank[bank['churn'] == 0]['estimated_salary']\n",
    "\n",
    "t, p = ttest_ind(churned, not_churned)\n",
    "print('t-статистика:', t)\n",
    "print('p-значение:', p)\n",
    "\n",
    "alpha = 0.05\n",
    "if p < alpha:\n",
    "    print('Отвергаем нулевую гипотезу: разница между доходами отточных и неотточных клиентов есть')\n",
    "else:\n",
    "    print('Не удалось отвергнуть нулевую гипотезу: разницы между доходами отточных и неотточных клиентов нет')\n"
   ]
  },
  {
   "cell_type": "markdown",
   "id": "1d6aa4f9",
   "metadata": {},
   "source": [
    "##### проверка u-критерием "
   ]
  },
  {
   "cell_type": "code",
   "execution_count": 57,
   "id": "e0c6a6fc",
   "metadata": {
    "scrolled": true
   },
   "outputs": [
    {
     "name": "stdout",
     "output_type": "stream",
     "text": [
      "статистика U: 8250768.0\n",
      "p-значение: 0.22705150930153783\n",
      "Не удалось отвергнуть нулевую гипотезу: разницы между доходами отточных и неотточных клиентов нет\n"
     ]
    }
   ],
   "source": [
    "churned = bank[bank['churn'] == 1]['estimated_salary']\n",
    "not_churned = bank[bank['churn'] == 0]['estimated_salary']\n",
    "\n",
    "u, p = mannwhitneyu(churned, not_churned, alternative='two-sided')\n",
    "print('статистика U:', u)\n",
    "print('p-значение:', p)\n",
    "\n",
    "alpha = 0.05\n",
    "if p < alpha:\n",
    "    print('Отвергаем нулевую гипотезу: разница между доходами отточных и неотточных клиентов есть')\n",
    "else:\n",
    "    print('Не удалось отвергнуть нулевую гипотезу: разницы между доходами отточных и неотточных клиентов нет')"
   ]
  },
  {
   "cell_type": "markdown",
   "id": "28c82b7d",
   "metadata": {},
   "source": [
    "вообще, данные критерии теоретически могут давать разные результаты, т.к. критерий стьюдента предполагает нормальное распределение данных, а U-критерий Манна-Уитни не делает такого предположения  \n",
    "Если данные не соответствуют предположению о нормальности, результаты двух критериев могут отличаться"
   ]
  },
  {
   "cell_type": "markdown",
   "id": "664d0df4",
   "metadata": {},
   "source": [
    "обе гипотезы (как и графики ранее) подтверждают, что различий между доходами отточных и неотточных клентов нет."
   ]
  },
  {
   "cell_type": "markdown",
   "id": "b420ed73",
   "metadata": {},
   "source": [
    "#### Формулировка второй гипотезы:  \n",
    "считаю важным проверить, есть ли взаимосвязь между возрастом или оттоком, так как на графике наблюдается отток в районе 45 лет, но непонятно, закономерность это или нет\n",
    "\n",
    "Нулевая гипотеза: разницы между возрастом  отточных и неотточных клиентов нет  \n",
    "Альтернативная гипотеза: разница между возастом продуктов отточных и неотточных клиентов есть\n"
   ]
  },
  {
   "cell_type": "code",
   "execution_count": 58,
   "id": "27ef2f8c",
   "metadata": {},
   "outputs": [
    {
     "name": "stdout",
     "output_type": "stream",
     "text": [
      "t-статистика: 29.76681499437077\n",
      "p-значение: 1.2399313093427738e-186\n",
      "Отвергаем нулевую гипотезу. Существует статистически значимая разница в возрасте между отточными и неотточными клиентами.\n"
     ]
    }
   ],
   "source": [
    "age_churned = bank[bank['churn'] == 1]['age']\n",
    "age_not_churned = bank[bank['churn'] == 0]['age']\n",
    "t_stat, p_value = ttest_ind(age_churned, age_not_churned)\n",
    "print(\"t-статистика:\", t_stat)\n",
    "print(\"p-значение:\", p_value)\n",
    "\n",
    "alpha = 0.05  \n",
    "if p_value < alpha:\n",
    "    print(\"Отвергаем нулевую гипотезу. Существует статистически значимая разница в возрасте между отточными и неотточными клиентами.\")\n",
    "else:\n",
    "    print(\"Не отвергаем нулевую гипотезу. Нет статистически значимой разницы в возрасте между отточными и неотточными клиентами.\")\n"
   ]
  },
  {
   "cell_type": "markdown",
   "id": "a73f5e12",
   "metadata": {},
   "source": [
    "### Сегментизация"
   ]
  },
  {
   "cell_type": "markdown",
   "id": "20e6a177",
   "metadata": {},
   "source": [
    "Мы выделили основные криетрии неотточногго клиента:   \n",
    "- пол (скорее всего, это мужчина)\n",
    "- местоположение (скорее всего он из Ярославля)\n",
    "- возраст около 35-40 лет\n",
    "- на его балансе от 110000 до 130000\n",
    "- у него 2 продукта\n",
    "- и он является лояльным клиентом"
   ]
  },
  {
   "cell_type": "code",
   "execution_count": 59,
   "id": "756d4c30",
   "metadata": {
    "scrolled": false
   },
   "outputs": [
    {
     "name": "stdout",
     "output_type": "stream",
     "text": [
      "пол:\n",
      "Количество неотточных клиентов: 898\n",
      "Процент неотточных клиентов: 16.46%\n",
      "\n",
      "Ярославль:\n",
      "Количество неотточных клиентов: 810\n",
      "Процент неотточных клиентов: 16.15%\n",
      "\n",
      "возраст:\n",
      "Количество неотточных клиентов: 396\n",
      "Процент неотточных клиентов: 14.45%\n",
      "\n",
      "баланс:\n",
      "Количество неотточных клиентов: 946\n",
      "Процент неотточных клиентов: 17.88%\n",
      "\n",
      "2 продукта:\n",
      "Количество неотточных клиентов: 348\n",
      "Процент неотточных клиентов: 7.58%\n",
      "\n",
      "лояльность:\n",
      "Количество неотточных клиентов: 735\n",
      "Процент неотточных клиентов: 14.27%\n",
      "\n"
     ]
    }
   ],
   "source": [
    "bank_gender = bank.query(\"gender == 'М'\")\n",
    "bank_city = bank.query(\"city == 'Ярославль'\")\n",
    "bank_age = bank.query(\"age >= 35 and age <= 40\")\n",
    "bank_balance = bank.query(\"balance >= 110000 and balance <= 130000\")\n",
    "bank_products = bank.query(\"products == 2\")\n",
    "bank_loyalty = bank.query(\"loyalty == 1\")\n",
    "\n",
    "criteria = ['пол', 'Ярославль', 'возраст', 'баланс', '2 продукта', 'лояльность']\n",
    "values = [bank_gender, bank_city, bank_age, bank_balance, bank_products, bank_loyalty]\n",
    "\n",
    "for criterion, value in zip(criteria, values):\n",
    "    total_clients = value.shape[0]\n",
    "    churned_clients = value[value['churn'] == 1].shape[0]\n",
    "    churn_percentage = (churned_clients / total_clients) * 100\n",
    "    \n",
    "    print(f\"{criterion}:\")\n",
    "    print(f\"Количество неотточных клиентов: {churned_clients}\")\n",
    "    print(f\"Процент неотточных клиентов: {churn_percentage:.2f}%\")\n",
    "    print(\"\")\n"
   ]
  },
  {
   "cell_type": "markdown",
   "id": "2aa0433a",
   "metadata": {},
   "source": [
    "процент неоттока в каждой группе \n",
    "пол+ярославль, возраст+лояльность, 1-2 продукта+баланс"
   ]
  },
  {
   "cell_type": "code",
   "execution_count": 60,
   "id": "733f4ce3",
   "metadata": {},
   "outputs": [],
   "source": [
    "# Пол + Ярославль\n",
    "segment1 = bank[(bank['gender'] == 'М') & (bank['city'] == 'Ярославль')]\n",
    "\n",
    "# Возраст + Лояльность\n",
    "segment2 = bank[(bank['age'] >= 35) & (bank['age'] <= 40) & (bank['loyalty'] == 1)]\n",
    "\n",
    "# 2 продукта + Баланс\n",
    "segment3 = bank[(bank['products'].isin([2])) & (bank['balance'] >= 110000) & (bank['balance'] <= 130000)]"
   ]
  },
  {
   "cell_type": "code",
   "execution_count": 61,
   "id": "aa6c6da7",
   "metadata": {
    "scrolled": false
   },
   "outputs": [
    {
     "name": "stdout",
     "output_type": "stream",
     "text": [
      "Пол + Ярославль:\n",
      "Процент неотточных клиентов: 12.71%\n",
      "\n"
     ]
    },
    {
     "data": {
      "image/png": "[encoded data removed]",
      "text/plain": [
       "<Figure size 432x288 with 1 Axes>"
      ]
     },
     "metadata": {},
     "output_type": "display_data"
    },
    {
     "name": "stdout",
     "output_type": "stream",
     "text": [
      "Возраст + Лояльность:\n",
      "Процент неотточных клиентов: 10.90%\n",
      "\n"
     ]
    },
    {
     "data": {
      "image/png": "[encoded data removed]",
      "text/plain": [
       "<Figure size 432x288 with 1 Axes>"
      ]
     },
     "metadata": {},
     "output_type": "display_data"
    },
    {
     "name": "stdout",
     "output_type": "stream",
     "text": [
      "2 продукта + Баланс:\n",
      "Процент неотточных клиентов: 5.53%\n",
      "\n"
     ]
    },
    {
     "data": {
      "image/png": "[encoded data removed]",
      "text/plain": [
       "<Figure size 432x288 with 1 Axes>"
      ]
     },
     "metadata": {},
     "output_type": "display_data"
    },
    {
     "name": "stdout",
     "output_type": "stream",
     "text": [
      "Пол + Ярославль:\n",
      "Процент неотточных клиентов: 12.71%\n",
      "\n",
      "Возраст + Лояльность:\n",
      "Процент неотточных клиентов: 10.90%\n",
      "\n",
      "2 продукта + Баланс:\n",
      "Процент неотточных клиентов: 5.53%\n",
      "\n"
     ]
    }
   ],
   "source": [
    "segments = {\n",
    "    'Пол + Ярославль': segment1,\n",
    "    'Возраст + Лояльность': segment2,\n",
    "    '2 продукта + Баланс': segment3\n",
    "}\n",
    "\n",
    "for segment, data in segments.items():\n",
    "    churned_clients = data[data['churn'] == 1]\n",
    "    not_churned_clients = data[data['churn'] == 0]\n",
    "\n",
    "    churned_count = churned_clients.shape[0]\n",
    "    not_churned_count = not_churned_clients.shape[0]\n",
    "\n",
    "    labels = ['Отток', 'Неотток']\n",
    "    values = [churned_count, not_churned_count]\n",
    "    colors = ['red', 'green']\n",
    "фsegments = {\n",
    "    'Пол + Ярославль': segment1,\n",
    "    'Возраст + Лояльность': segment2,\n",
    "    '2 продукта + Баланс': segment3\n",
    "}\n",
    "\n",
    "for segment, data in segments.items():\n",
    "    churned_clients = data[data['churn'] == 1]\n",
    "    not_churned_clients = data[data['churn'] == 0]\n",
    "\n",
    "    churned_count = churned_clients.shape[0]\n",
    "    not_churned_count = not_churned_clients.shape[0]\n",
    "    total_clients = churned_count + not_churned_count\n",
    "\n",
    "    churn_percentage = (not_churned_count / total_clients) * 100\n",
    "    not_churned_percentage = 100 - churn_percentage\n",
    "\n",
    "    print(f\"{segment}:\")\n",
    "    print(f\"Процент неотточных клиентов: {not_churned_percentage:.2f}%\")\n",
    "    print(\"\")\n",
    "\n",
    "    plt.bar(labels, values, color=colors)\n",
    "    plt.title(segment)\n",
    "    plt.xlabel('Статус клиента')\n",
    "    plt.ylabel('Количество клиентов')\n",
    "    plt.show()\n",
    "    \n",
    "for segment, data in segments.items():\n",
    "    churned_clients = data[data['churn'] == 1]\n",
    "    not_churned_clients = data[data['churn'] == 0]\n",
    "\n",
    "    churned_count = churned_clients.shape[0]\n",
    "    not_churned_count = not_churned_clients.shape[0]\n",
    "    total_clients = churned_count + not_churned_count\n",
    "\n",
    "    churn_percentage = (not_churned_count / total_clients) * 100\n",
    "    not_churned_percentage = 100 - churn_percentage\n",
    "\n",
    "    print(f\"{segment}:\")\n",
    "    print(f\"Процент неотточных клиентов: {not_churned_percentage:.2f}%\")\n",
    "    print(\"\")"
   ]
  },
  {
   "cell_type": "markdown",
   "id": "a0a39a2f",
   "metadata": {},
   "source": [
    "видим, что самый эффективный сегмент - 3 (с 1-2 продуктами и балансом от 110000 до 130000)"
   ]
  },
  {
   "cell_type": "markdown",
   "id": "47049583",
   "metadata": {},
   "source": [
    "###  Общие выводы"
   ]
  },
  {
   "cell_type": "markdown",
   "id": "303241cc",
   "metadata": {},
   "source": [
    "Были сформиорваны портреты отточного клиента:  \n",
    "-скорее всего это женищина  \n",
    "-возраст в промежутке между 44 и 45  \n",
    "-скорее всего она из Ростова или Ярославля -баланс около 91000р  \n",
    "-средняя зп 101000р\n",
    "\n",
    "и неотточного клиента:  \n",
    "-скорее всего, это мужчина  \n",
    "-скорее всего он из Ярославля  \n",
    "-возраст около 37-38 лет  \n",
    "-на его балансе около 73000р  \n",
    "-у него 2 продукта"
   ]
  },
  {
   "cell_type": "markdown",
   "id": "31a5377d",
   "metadata": {},
   "source": [
    "проверены две гипотезы:\n",
    "\n",
    "1. средний доход отточных и неотточных клиентов равен\n",
    "2. существует статистически значимая разница в возрасте между отточными и неотточными клиентами."
   ]
  },
  {
   "cell_type": "markdown",
   "id": "910973d3",
   "metadata": {},
   "source": [
    "Рекомендации отделу маркетинга по привлечению неотточных клиентов:  \n",
    "- Провести таргетированную рекламную кампанию, ориентированную на клиентов в городах, наша ЦА это клиенты 30-40 лет.  \n",
    "- С учётом того, что самые лояльные - клиенты с 2 продуктами, клиентам, которые просто открывают у нас счёт, нужно предлагать открыть дополнительный продукт (вклад, НСЖ/ИСЖ)\n",
    "- С учётом того, что самые лояльные - люди с балансом 110000 до 130000, предлагать людям свои свободные сбережения хранить в нашем банке, создавать выгодные условия для обычного счёта"
   ]
  },
  {
   "cell_type": "code",
   "execution_count": null,
   "id": "9b70850f",
   "metadata": {},
   "outputs": [],
   "source": []
  }
 ],
 "metadata": {
  "ExecuteTimeLog": [
   {
    "duration": 1455,
    "start_time": "2023-05-18T19:23:32.083Z"
   },
   {
    "duration": 0,
    "start_time": "2023-05-18T19:23:33.540Z"
   },
   {
    "duration": 0,
    "start_time": "2023-05-18T19:23:33.541Z"
   },
   {
    "duration": 0,
    "start_time": "2023-05-18T19:23:33.542Z"
   },
   {
    "duration": 0,
    "start_time": "2023-05-18T19:23:33.543Z"
   },
   {
    "duration": 0,
    "start_time": "2023-05-18T19:23:33.544Z"
   },
   {
    "duration": 0,
    "start_time": "2023-05-18T19:23:33.546Z"
   },
   {
    "duration": 0,
    "start_time": "2023-05-18T19:23:33.547Z"
   },
   {
    "duration": 0,
    "start_time": "2023-05-18T19:23:33.548Z"
   },
   {
    "duration": 0,
    "start_time": "2023-05-18T19:23:33.549Z"
   },
   {
    "duration": 0,
    "start_time": "2023-05-18T19:23:33.550Z"
   },
   {
    "duration": 0,
    "start_time": "2023-05-18T19:23:33.551Z"
   },
   {
    "duration": 0,
    "start_time": "2023-05-18T19:23:33.552Z"
   },
   {
    "duration": 15,
    "start_time": "2023-05-18T19:24:40.745Z"
   },
   {
    "duration": 8,
    "start_time": "2023-05-18T19:24:40.873Z"
   },
   {
    "duration": 3369,
    "start_time": "2023-05-18T19:24:59.775Z"
   },
   {
    "duration": 14,
    "start_time": "2023-05-18T19:25:06.959Z"
   },
   {
    "duration": 4342,
    "start_time": "2023-05-18T19:25:19.909Z"
   },
   {
    "duration": 45,
    "start_time": "2023-05-18T19:25:27.990Z"
   },
   {
    "duration": 24,
    "start_time": "2023-05-18T19:25:30.058Z"
   },
   {
    "duration": 10,
    "start_time": "2023-05-18T19:25:30.590Z"
   },
   {
    "duration": 150,
    "start_time": "2023-05-18T19:25:54.655Z"
   },
   {
    "duration": 14,
    "start_time": "2023-05-18T19:26:31.841Z"
   },
   {
    "duration": 15,
    "start_time": "2023-05-18T19:26:32.715Z"
   },
   {
    "duration": 10,
    "start_time": "2023-05-18T19:26:33.246Z"
   },
   {
    "duration": 14,
    "start_time": "2023-05-18T19:26:34.181Z"
   },
   {
    "duration": 3,
    "start_time": "2023-05-18T19:26:34.469Z"
   },
   {
    "duration": 3,
    "start_time": "2023-05-18T19:26:34.700Z"
   },
   {
    "duration": 16,
    "start_time": "2023-05-18T19:26:34.970Z"
   },
   {
    "duration": 17,
    "start_time": "2023-05-18T19:26:35.182Z"
   },
   {
    "duration": 8,
    "start_time": "2023-05-18T19:26:35.443Z"
   },
   {
    "duration": 11,
    "start_time": "2023-05-18T19:26:36.176Z"
   },
   {
    "duration": 13,
    "start_time": "2023-05-18T19:26:37.549Z"
   },
   {
    "duration": 18,
    "start_time": "2023-05-18T19:27:09.959Z"
   },
   {
    "duration": 17,
    "start_time": "2023-05-18T19:27:13.549Z"
   },
   {
    "duration": 13,
    "start_time": "2023-05-18T19:27:59.911Z"
   },
   {
    "duration": 12,
    "start_time": "2023-05-18T19:28:13.685Z"
   },
   {
    "duration": 12,
    "start_time": "2023-05-18T19:28:25.413Z"
   },
   {
    "duration": 12,
    "start_time": "2023-05-18T19:28:59.516Z"
   },
   {
    "duration": 173,
    "start_time": "2023-05-18T19:30:56.739Z"
   },
   {
    "duration": 175,
    "start_time": "2023-05-18T19:31:07.802Z"
   },
   {
    "duration": 449,
    "start_time": "2023-05-18T19:31:33.656Z"
   },
   {
    "duration": 340,
    "start_time": "2023-05-18T19:32:08.620Z"
   },
   {
    "duration": 61537,
    "start_time": "2023-05-18T19:32:33.719Z"
   },
   {
    "duration": 0,
    "start_time": "2023-05-18T19:33:35.259Z"
   },
   {
    "duration": 0,
    "start_time": "2023-05-18T19:33:35.260Z"
   },
   {
    "duration": 173,
    "start_time": "2023-05-18T19:33:38.494Z"
   },
   {
    "duration": 222,
    "start_time": "2023-05-18T19:33:50.649Z"
   },
   {
    "duration": 200,
    "start_time": "2023-05-18T19:33:59.404Z"
   },
   {
    "duration": 172,
    "start_time": "2023-05-18T19:34:07.609Z"
   },
   {
    "duration": 4,
    "start_time": "2023-05-18T19:37:04.015Z"
   },
   {
    "duration": 10,
    "start_time": "2023-05-18T19:37:04.156Z"
   },
   {
    "duration": 15,
    "start_time": "2023-05-18T19:37:05.425Z"
   },
   {
    "duration": 51,
    "start_time": "2023-05-18T19:37:08.209Z"
   },
   {
    "duration": 1735,
    "start_time": "2023-05-19T15:03:56.182Z"
   },
   {
    "duration": 3522,
    "start_time": "2023-05-19T15:04:15.912Z"
   },
   {
    "duration": 64,
    "start_time": "2023-05-19T15:05:45.724Z"
   },
   {
    "duration": 1080,
    "start_time": "2023-05-19T15:05:52.359Z"
   },
   {
    "duration": 18,
    "start_time": "2023-05-19T15:05:55.723Z"
   },
   {
    "duration": 961,
    "start_time": "2023-05-19T15:06:02.682Z"
   },
   {
    "duration": 1316,
    "start_time": "2023-05-19T15:06:05.990Z"
   },
   {
    "duration": 15,
    "start_time": "2023-05-19T15:06:07.910Z"
   },
   {
    "duration": 18,
    "start_time": "2023-05-19T15:06:10.804Z"
   },
   {
    "duration": 1240,
    "start_time": "2023-05-19T15:06:18.821Z"
   },
   {
    "duration": 13,
    "start_time": "2023-05-19T15:06:43.582Z"
   },
   {
    "duration": 23,
    "start_time": "2023-05-19T15:06:53.147Z"
   },
   {
    "duration": 15,
    "start_time": "2023-05-19T15:06:54.100Z"
   },
   {
    "duration": 3,
    "start_time": "2023-05-19T15:06:57.507Z"
   },
   {
    "duration": 4,
    "start_time": "2023-05-19T15:06:58.281Z"
   },
   {
    "duration": 36,
    "start_time": "2023-05-19T15:06:58.855Z"
   },
   {
    "duration": 15,
    "start_time": "2023-05-19T15:06:59.707Z"
   },
   {
    "duration": 10,
    "start_time": "2023-05-19T15:07:01.399Z"
   },
   {
    "duration": 11,
    "start_time": "2023-05-19T15:07:02.495Z"
   },
   {
    "duration": 17,
    "start_time": "2023-05-19T15:07:02.891Z"
   },
   {
    "duration": 2466,
    "start_time": "2023-05-19T15:07:18.824Z"
   },
   {
    "duration": 1281,
    "start_time": "2023-05-19T15:07:21.297Z"
   },
   {
    "duration": 151,
    "start_time": "2023-05-19T15:07:28.328Z"
   },
   {
    "duration": 1002,
    "start_time": "2023-05-19T15:07:30.557Z"
   },
   {
    "duration": 25,
    "start_time": "2023-05-19T15:07:32.123Z"
   },
   {
    "duration": 16,
    "start_time": "2023-05-19T15:07:32.708Z"
   },
   {
    "duration": 10,
    "start_time": "2023-05-19T15:07:33.193Z"
   },
   {
    "duration": 15,
    "start_time": "2023-05-19T15:07:34.293Z"
   },
   {
    "duration": 4,
    "start_time": "2023-05-19T15:07:34.792Z"
   },
   {
    "duration": 8,
    "start_time": "2023-05-19T15:07:35.282Z"
   },
   {
    "duration": 17,
    "start_time": "2023-05-19T15:07:35.642Z"
   },
   {
    "duration": 12,
    "start_time": "2023-05-19T15:07:36.133Z"
   },
   {
    "duration": 8,
    "start_time": "2023-05-19T15:07:36.524Z"
   },
   {
    "duration": 11,
    "start_time": "2023-05-19T15:07:37.403Z"
   },
   {
    "duration": 30,
    "start_time": "2023-05-19T15:07:38.449Z"
   },
   {
    "duration": 4,
    "start_time": "2023-05-19T15:08:14.794Z"
   },
   {
    "duration": 9,
    "start_time": "2023-05-19T15:08:17.974Z"
   },
   {
    "duration": 4,
    "start_time": "2023-05-19T15:08:18.606Z"
   },
   {
    "duration": 20,
    "start_time": "2023-05-19T15:08:19.124Z"
   },
   {
    "duration": 3,
    "start_time": "2023-05-19T15:08:34.610Z"
   },
   {
    "duration": 4,
    "start_time": "2023-05-19T15:08:35.391Z"
   },
   {
    "duration": 27,
    "start_time": "2023-05-19T15:08:35.976Z"
   },
   {
    "duration": 13,
    "start_time": "2023-05-19T15:08:36.839Z"
   },
   {
    "duration": 11,
    "start_time": "2023-05-19T15:08:37.408Z"
   },
   {
    "duration": 19,
    "start_time": "2023-05-19T15:08:38.456Z"
   },
   {
    "duration": 30,
    "start_time": "2023-05-19T15:08:40.367Z"
   },
   {
    "duration": 24,
    "start_time": "2023-05-19T15:10:08.964Z"
   },
   {
    "duration": 17,
    "start_time": "2023-05-19T15:10:44.771Z"
   },
   {
    "duration": 12,
    "start_time": "2023-05-19T15:28:11.992Z"
   },
   {
    "duration": 238,
    "start_time": "2023-05-19T15:28:12.892Z"
   },
   {
    "duration": 1045,
    "start_time": "2023-05-19T15:28:13.376Z"
   },
   {
    "duration": 0,
    "start_time": "2023-05-19T15:28:14.423Z"
   },
   {
    "duration": 58,
    "start_time": "2023-05-19T15:47:31.585Z"
   },
   {
    "duration": 2230,
    "start_time": "2023-05-19T15:48:21.117Z"
   },
   {
    "duration": 1236,
    "start_time": "2023-05-19T15:48:23.350Z"
   },
   {
    "duration": 125,
    "start_time": "2023-05-19T15:48:24.588Z"
   },
   {
    "duration": 1240,
    "start_time": "2023-05-19T15:48:25.991Z"
   },
   {
    "duration": 16,
    "start_time": "2023-05-19T15:48:29.796Z"
   },
   {
    "duration": 31,
    "start_time": "2023-05-19T15:48:30.552Z"
   },
   {
    "duration": 11,
    "start_time": "2023-05-19T15:48:31.174Z"
   },
   {
    "duration": 15,
    "start_time": "2023-05-19T15:48:32.292Z"
   },
   {
    "duration": 3,
    "start_time": "2023-05-19T15:48:34.020Z"
   },
   {
    "duration": 3,
    "start_time": "2023-05-19T15:50:21.329Z"
   },
   {
    "duration": 16,
    "start_time": "2023-05-19T15:50:22.184Z"
   },
   {
    "duration": 12,
    "start_time": "2023-05-19T15:50:23.803Z"
   },
   {
    "duration": 13,
    "start_time": "2023-05-19T15:50:24.576Z"
   },
   {
    "duration": 9,
    "start_time": "2023-05-19T15:50:25.606Z"
   },
   {
    "duration": 17,
    "start_time": "2023-05-19T15:50:26.688Z"
   },
   {
    "duration": 2236,
    "start_time": "2023-05-19T15:50:43.673Z"
   },
   {
    "duration": 1271,
    "start_time": "2023-05-19T15:50:45.911Z"
   },
   {
    "duration": 160,
    "start_time": "2023-05-19T15:50:47.184Z"
   },
   {
    "duration": 6227,
    "start_time": "2023-05-19T15:51:20.094Z"
   },
   {
    "duration": 13,
    "start_time": "2023-05-19T15:51:27.828Z"
   },
   {
    "duration": 31,
    "start_time": "2023-05-19T15:51:28.540Z"
   },
   {
    "duration": 13,
    "start_time": "2023-05-19T15:51:29.111Z"
   },
   {
    "duration": 15,
    "start_time": "2023-05-19T15:51:32.322Z"
   },
   {
    "duration": 4,
    "start_time": "2023-05-19T15:51:33.728Z"
   },
   {
    "duration": 5,
    "start_time": "2023-05-19T15:51:35.172Z"
   },
   {
    "duration": 15,
    "start_time": "2023-05-19T15:51:35.629Z"
   },
   {
    "duration": 13,
    "start_time": "2023-05-19T15:51:36.779Z"
   },
   {
    "duration": 9,
    "start_time": "2023-05-19T15:51:37.385Z"
   },
   {
    "duration": 10,
    "start_time": "2023-05-19T15:51:38.615Z"
   },
   {
    "duration": 22,
    "start_time": "2023-05-19T15:51:40.644Z"
   },
   {
    "duration": 4,
    "start_time": "2023-05-19T15:52:23.482Z"
   },
   {
    "duration": 5,
    "start_time": "2023-05-19T15:52:26.201Z"
   },
   {
    "duration": 16,
    "start_time": "2023-05-19T15:52:27.218Z"
   },
   {
    "duration": 12,
    "start_time": "2023-05-19T15:53:24.285Z"
   },
   {
    "duration": 232,
    "start_time": "2023-05-19T15:53:32.666Z"
   },
   {
    "duration": 17,
    "start_time": "2023-05-19T15:54:50.769Z"
   },
   {
    "duration": 27,
    "start_time": "2023-05-19T16:10:26.153Z"
   },
   {
    "duration": 4,
    "start_time": "2023-05-19T16:10:26.677Z"
   },
   {
    "duration": 3,
    "start_time": "2023-05-19T16:10:27.081Z"
   },
   {
    "duration": 15,
    "start_time": "2023-05-19T16:10:27.593Z"
   },
   {
    "duration": 12,
    "start_time": "2023-05-19T16:10:28.186Z"
   },
   {
    "duration": 9,
    "start_time": "2023-05-19T16:10:28.872Z"
   },
   {
    "duration": 10,
    "start_time": "2023-05-19T16:10:31.135Z"
   },
   {
    "duration": 4,
    "start_time": "2023-05-19T16:10:47.180Z"
   },
   {
    "duration": 165,
    "start_time": "2023-05-19T16:12:33.314Z"
   },
   {
    "duration": 2118,
    "start_time": "2023-05-19T16:12:44.851Z"
   },
   {
    "duration": 1298,
    "start_time": "2023-05-19T16:12:46.972Z"
   },
   {
    "duration": 118,
    "start_time": "2023-05-19T16:12:48.900Z"
   },
   {
    "duration": 39,
    "start_time": "2023-05-19T16:12:54.168Z"
   },
   {
    "duration": 14,
    "start_time": "2023-05-19T16:12:55.899Z"
   },
   {
    "duration": 21,
    "start_time": "2023-05-19T16:12:58.750Z"
   },
   {
    "duration": 823,
    "start_time": "2023-05-19T16:12:59.621Z"
   },
   {
    "duration": 847,
    "start_time": "2023-05-19T16:13:12.645Z"
   },
   {
    "duration": 13,
    "start_time": "2023-05-19T16:13:20.391Z"
   },
   {
    "duration": 15,
    "start_time": "2023-05-19T16:13:25.125Z"
   },
   {
    "duration": 17,
    "start_time": "2023-05-19T16:13:27.312Z"
   },
   {
    "duration": 4,
    "start_time": "2023-05-19T16:13:28.279Z"
   },
   {
    "duration": 4,
    "start_time": "2023-05-19T16:13:29.132Z"
   },
   {
    "duration": 19,
    "start_time": "2023-05-19T16:13:29.799Z"
   },
   {
    "duration": 18,
    "start_time": "2023-05-19T16:13:30.448Z"
   },
   {
    "duration": 9,
    "start_time": "2023-05-19T16:13:31.020Z"
   },
   {
    "duration": 11,
    "start_time": "2023-05-19T16:13:35.738Z"
   },
   {
    "duration": 4,
    "start_time": "2023-05-19T16:13:37.381Z"
   },
   {
    "duration": 15,
    "start_time": "2023-05-19T16:13:38.304Z"
   },
   {
    "duration": 2056,
    "start_time": "2023-05-19T16:14:43.314Z"
   },
   {
    "duration": 1208,
    "start_time": "2023-05-19T16:14:45.373Z"
   },
   {
    "duration": 123,
    "start_time": "2023-05-19T16:14:46.583Z"
   },
   {
    "duration": 0,
    "start_time": "2023-05-19T16:14:46.708Z"
   },
   {
    "duration": 9,
    "start_time": "2023-05-19T16:14:47.770Z"
   },
   {
    "duration": 40,
    "start_time": "2023-05-19T16:15:04.012Z"
   },
   {
    "duration": 13,
    "start_time": "2023-05-19T16:15:04.431Z"
   },
   {
    "duration": 17,
    "start_time": "2023-05-19T16:15:05.280Z"
   },
   {
    "duration": 9,
    "start_time": "2023-05-19T16:15:06.278Z"
   },
   {
    "duration": 13,
    "start_time": "2023-05-19T16:15:08.740Z"
   },
   {
    "duration": 4,
    "start_time": "2023-05-19T16:15:22.816Z"
   },
   {
    "duration": 3,
    "start_time": "2023-05-19T16:15:27.415Z"
   },
   {
    "duration": 14,
    "start_time": "2023-05-19T16:15:28.029Z"
   },
   {
    "duration": 13,
    "start_time": "2023-05-19T16:15:30.741Z"
   },
   {
    "duration": 9,
    "start_time": "2023-05-19T16:15:31.801Z"
   },
   {
    "duration": 10,
    "start_time": "2023-05-19T16:15:33.467Z"
   },
   {
    "duration": 4,
    "start_time": "2023-05-19T16:15:34.947Z"
   },
   {
    "duration": 15,
    "start_time": "2023-05-19T16:15:36.195Z"
   },
   {
    "duration": 15,
    "start_time": "2023-05-19T16:15:57.583Z"
   },
   {
    "duration": 12,
    "start_time": "2023-05-19T16:16:01.098Z"
   },
   {
    "duration": 212,
    "start_time": "2023-05-19T16:16:02.893Z"
   },
   {
    "duration": 208,
    "start_time": "2023-05-19T17:40:28.267Z"
   },
   {
    "duration": 2175,
    "start_time": "2023-05-19T17:41:16.738Z"
   },
   {
    "duration": 1250,
    "start_time": "2023-05-19T17:41:18.917Z"
   },
   {
    "duration": 40,
    "start_time": "2023-05-19T17:41:26.516Z"
   },
   {
    "duration": 16,
    "start_time": "2023-05-19T17:41:26.970Z"
   },
   {
    "duration": 17,
    "start_time": "2023-05-19T17:41:32.307Z"
   },
   {
    "duration": 11,
    "start_time": "2023-05-19T17:41:36.960Z"
   },
   {
    "duration": 14,
    "start_time": "2023-05-19T17:41:38.088Z"
   },
   {
    "duration": 5,
    "start_time": "2023-05-19T17:41:38.765Z"
   },
   {
    "duration": 4,
    "start_time": "2023-05-19T17:41:39.270Z"
   },
   {
    "duration": 14,
    "start_time": "2023-05-19T17:41:39.906Z"
   },
   {
    "duration": 19,
    "start_time": "2023-05-19T17:41:40.689Z"
   },
   {
    "duration": 14,
    "start_time": "2023-05-19T17:41:41.314Z"
   },
   {
    "duration": 17,
    "start_time": "2023-05-19T17:41:43.754Z"
   },
   {
    "duration": 7,
    "start_time": "2023-05-19T17:41:46.947Z"
   },
   {
    "duration": 21,
    "start_time": "2023-05-19T17:42:35.817Z"
   },
   {
    "duration": 208,
    "start_time": "2023-05-19T17:42:40.927Z"
   },
   {
    "duration": 9,
    "start_time": "2023-05-19T17:43:35.300Z"
   },
   {
    "duration": 2108,
    "start_time": "2023-05-19T17:44:49.858Z"
   },
   {
    "duration": 1272,
    "start_time": "2023-05-19T17:44:51.969Z"
   },
   {
    "duration": 40,
    "start_time": "2023-05-19T17:44:53.243Z"
   },
   {
    "duration": 15,
    "start_time": "2023-05-19T17:44:53.512Z"
   },
   {
    "duration": 17,
    "start_time": "2023-05-19T17:44:54.054Z"
   },
   {
    "duration": 10,
    "start_time": "2023-05-19T17:44:54.718Z"
   },
   {
    "duration": 15,
    "start_time": "2023-05-19T17:44:55.612Z"
   },
   {
    "duration": 5,
    "start_time": "2023-05-19T17:44:56.202Z"
   },
   {
    "duration": 5,
    "start_time": "2023-05-19T17:44:57.128Z"
   },
   {
    "duration": 22,
    "start_time": "2023-05-19T17:44:57.575Z"
   },
   {
    "duration": 16,
    "start_time": "2023-05-19T17:44:58.074Z"
   },
   {
    "duration": 12,
    "start_time": "2023-05-19T17:44:58.604Z"
   },
   {
    "duration": 15,
    "start_time": "2023-05-19T17:44:59.621Z"
   },
   {
    "duration": 5,
    "start_time": "2023-05-19T17:45:00.655Z"
   },
   {
    "duration": 20,
    "start_time": "2023-05-19T17:45:01.269Z"
   },
   {
    "duration": 198,
    "start_time": "2023-05-19T17:45:03.751Z"
   },
   {
    "duration": 215,
    "start_time": "2023-05-19T17:49:00.342Z"
   },
   {
    "duration": 14,
    "start_time": "2023-05-19T17:50:30.259Z"
   },
   {
    "duration": 198,
    "start_time": "2023-05-19T17:50:55.074Z"
   },
   {
    "duration": 2258,
    "start_time": "2023-05-19T17:51:18.370Z"
   },
   {
    "duration": 1332,
    "start_time": "2023-05-19T17:51:20.631Z"
   },
   {
    "duration": 3433,
    "start_time": "2023-05-19T17:52:46.473Z"
   },
   {
    "duration": 43,
    "start_time": "2023-05-19T17:52:53.118Z"
   },
   {
    "duration": 20,
    "start_time": "2023-05-19T17:52:53.523Z"
   },
   {
    "duration": 25,
    "start_time": "2023-05-19T17:52:54.046Z"
   },
   {
    "duration": 14,
    "start_time": "2023-05-19T17:52:54.466Z"
   },
   {
    "duration": 15,
    "start_time": "2023-05-19T17:52:55.381Z"
   },
   {
    "duration": 4,
    "start_time": "2023-05-19T17:52:55.872Z"
   },
   {
    "duration": 4,
    "start_time": "2023-05-19T17:52:57.085Z"
   },
   {
    "duration": 21,
    "start_time": "2023-05-19T17:52:57.524Z"
   },
   {
    "duration": 18,
    "start_time": "2023-05-19T17:52:57.999Z"
   },
   {
    "duration": 13,
    "start_time": "2023-05-19T17:52:58.771Z"
   },
   {
    "duration": 12,
    "start_time": "2023-05-19T17:52:59.854Z"
   },
   {
    "duration": 4,
    "start_time": "2023-05-19T17:53:09.587Z"
   },
   {
    "duration": 19,
    "start_time": "2023-05-19T17:53:10.255Z"
   },
   {
    "duration": 219,
    "start_time": "2023-05-19T17:53:11.960Z"
   },
   {
    "duration": 210,
    "start_time": "2023-05-19T17:53:28.193Z"
   },
   {
    "duration": 229,
    "start_time": "2023-05-19T17:53:36.571Z"
   },
   {
    "duration": 61,
    "start_time": "2023-05-19T17:55:42.034Z"
   },
   {
    "duration": 82,
    "start_time": "2023-05-19T17:56:48.843Z"
   },
   {
    "duration": 55,
    "start_time": "2023-05-19T17:57:49.602Z"
   },
   {
    "duration": 60,
    "start_time": "2023-05-19T17:58:32.678Z"
   },
   {
    "duration": 78,
    "start_time": "2023-05-19T18:01:08.725Z"
   },
   {
    "duration": 17,
    "start_time": "2023-05-19T18:01:59.736Z"
   },
   {
    "duration": 59,
    "start_time": "2023-05-19T18:02:03.771Z"
   },
   {
    "duration": 146,
    "start_time": "2023-05-19T18:02:04.457Z"
   },
   {
    "duration": 155,
    "start_time": "2023-05-19T18:02:05.056Z"
   },
   {
    "duration": 185,
    "start_time": "2023-05-19T18:02:05.540Z"
   },
   {
    "duration": 129,
    "start_time": "2023-05-19T18:02:07.070Z"
   },
   {
    "duration": 29,
    "start_time": "2023-05-19T18:02:10.750Z"
   },
   {
    "duration": 6,
    "start_time": "2023-05-19T18:02:12.175Z"
   },
   {
    "duration": 162,
    "start_time": "2023-05-19T18:02:12.704Z"
   },
   {
    "duration": 139,
    "start_time": "2023-05-19T18:02:13.070Z"
   },
   {
    "duration": 159,
    "start_time": "2023-05-19T18:02:13.491Z"
   },
   {
    "duration": 76,
    "start_time": "2023-05-19T18:02:13.938Z"
   },
   {
    "duration": 1430,
    "start_time": "2023-05-19T18:02:24.255Z"
   },
   {
    "duration": 1286,
    "start_time": "2023-05-19T18:02:25.687Z"
   },
   {
    "duration": 251,
    "start_time": "2023-05-19T18:02:28.908Z"
   },
   {
    "duration": 254,
    "start_time": "2023-05-19T18:02:29.874Z"
   },
   {
    "duration": 136,
    "start_time": "2023-05-19T18:02:30.764Z"
   },
   {
    "duration": 370,
    "start_time": "2023-05-19T18:02:31.789Z"
   },
   {
    "duration": 278,
    "start_time": "2023-05-19T18:02:33.172Z"
   },
   {
    "duration": 273,
    "start_time": "2023-05-19T18:02:34.128Z"
   },
   {
    "duration": 300,
    "start_time": "2023-05-19T18:06:08.910Z"
   },
   {
    "duration": 266,
    "start_time": "2023-05-19T18:06:36.924Z"
   },
   {
    "duration": 308,
    "start_time": "2023-05-19T18:12:57.571Z"
   },
   {
    "duration": 289,
    "start_time": "2023-05-19T18:14:21.251Z"
   },
   {
    "duration": 277,
    "start_time": "2023-05-19T18:15:01.572Z"
   },
   {
    "duration": 254,
    "start_time": "2023-05-19T18:26:45.505Z"
   },
   {
    "duration": 304,
    "start_time": "2023-05-19T18:27:23.765Z"
   },
   {
    "duration": 277,
    "start_time": "2023-05-19T18:27:46.783Z"
   },
   {
    "duration": 363,
    "start_time": "2023-05-19T18:28:04.170Z"
   },
   {
    "duration": 253,
    "start_time": "2023-05-19T18:28:25.906Z"
   },
   {
    "duration": 299,
    "start_time": "2023-05-19T18:28:51.326Z"
   },
   {
    "duration": 279,
    "start_time": "2023-05-19T18:29:40.067Z"
   },
   {
    "duration": 278,
    "start_time": "2023-05-19T18:29:51.397Z"
   },
   {
    "duration": 280,
    "start_time": "2023-05-19T18:29:51.941Z"
   },
   {
    "duration": 254,
    "start_time": "2023-05-19T18:29:53.175Z"
   },
   {
    "duration": 141,
    "start_time": "2023-05-19T18:29:57.977Z"
   },
   {
    "duration": 312,
    "start_time": "2023-05-19T18:29:58.502Z"
   },
   {
    "duration": 271,
    "start_time": "2023-05-19T18:29:59.537Z"
   },
   {
    "duration": 274,
    "start_time": "2023-05-19T18:30:00.425Z"
   },
   {
    "duration": 367,
    "start_time": "2023-05-19T18:30:01.309Z"
   },
   {
    "duration": 301,
    "start_time": "2023-05-19T18:30:01.709Z"
   },
   {
    "duration": 83,
    "start_time": "2023-05-19T18:30:35.786Z"
   },
   {
    "duration": 12,
    "start_time": "2023-05-19T18:39:18.385Z"
   },
   {
    "duration": 18,
    "start_time": "2023-05-19T18:39:19.562Z"
   },
   {
    "duration": 122,
    "start_time": "2023-05-19T18:58:26.780Z"
   },
   {
    "duration": 172,
    "start_time": "2023-05-19T18:58:33.399Z"
   },
   {
    "duration": 148,
    "start_time": "2023-05-19T18:59:50.274Z"
   },
   {
    "duration": 283,
    "start_time": "2023-05-20T08:52:33.990Z"
   },
   {
    "duration": 297,
    "start_time": "2023-05-20T08:56:57.595Z"
   },
   {
    "duration": 337,
    "start_time": "2023-05-20T08:57:07.850Z"
   },
   {
    "duration": 284,
    "start_time": "2023-05-20T08:57:52.831Z"
   },
   {
    "duration": 13,
    "start_time": "2023-05-20T09:16:05.823Z"
   },
   {
    "duration": 15,
    "start_time": "2023-05-20T09:16:16.478Z"
   },
   {
    "duration": 875,
    "start_time": "2023-05-20T09:18:19.837Z"
   },
   {
    "duration": 11,
    "start_time": "2023-05-20T09:18:31.425Z"
   },
   {
    "duration": 3781,
    "start_time": "2023-05-20T09:27:10.009Z"
   },
   {
    "duration": 137,
    "start_time": "2023-05-20T09:27:13.792Z"
   },
   {
    "duration": 13,
    "start_time": "2023-05-20T09:27:13.931Z"
   },
   {
    "duration": 27,
    "start_time": "2023-05-20T09:27:13.946Z"
   },
   {
    "duration": 21,
    "start_time": "2023-05-20T09:27:13.974Z"
   },
   {
    "duration": 15,
    "start_time": "2023-05-20T09:27:13.997Z"
   },
   {
    "duration": 4,
    "start_time": "2023-05-20T09:27:14.551Z"
   },
   {
    "duration": 6,
    "start_time": "2023-05-20T09:27:14.878Z"
   },
   {
    "duration": 15,
    "start_time": "2023-05-20T09:27:15.111Z"
   },
   {
    "duration": 14,
    "start_time": "2023-05-20T09:27:15.602Z"
   },
   {
    "duration": 8,
    "start_time": "2023-05-20T09:27:15.902Z"
   },
   {
    "duration": 11,
    "start_time": "2023-05-20T09:27:16.631Z"
   },
   {
    "duration": 5,
    "start_time": "2023-05-20T09:27:17.136Z"
   },
   {
    "duration": 17,
    "start_time": "2023-05-20T09:27:17.406Z"
   },
   {
    "duration": 244,
    "start_time": "2023-05-20T09:27:17.973Z"
   },
   {
    "duration": 18,
    "start_time": "2023-05-20T09:27:18.873Z"
   },
   {
    "duration": 13,
    "start_time": "2023-05-20T09:27:19.536Z"
   },
   {
    "duration": 80,
    "start_time": "2023-05-20T09:27:20.395Z"
   },
   {
    "duration": 32,
    "start_time": "2023-05-20T09:27:22.147Z"
   },
   {
    "duration": 77,
    "start_time": "2023-05-20T09:27:22.648Z"
   },
   {
    "duration": 190,
    "start_time": "2023-05-20T09:27:23.197Z"
   },
   {
    "duration": 126,
    "start_time": "2023-05-20T09:27:23.626Z"
   },
   {
    "duration": 186,
    "start_time": "2023-05-20T09:27:24.131Z"
   },
   {
    "duration": 32,
    "start_time": "2023-05-20T09:27:25.435Z"
   },
   {
    "duration": 28,
    "start_time": "2023-05-20T09:27:26.918Z"
   },
   {
    "duration": 7,
    "start_time": "2023-05-20T09:27:27.886Z"
   },
   {
    "duration": 140,
    "start_time": "2023-05-20T09:27:28.316Z"
   },
   {
    "duration": 147,
    "start_time": "2023-05-20T09:27:28.786Z"
   },
   {
    "duration": 210,
    "start_time": "2023-05-20T09:27:29.237Z"
   },
   {
    "duration": 165,
    "start_time": "2023-05-20T09:27:29.588Z"
   },
   {
    "duration": 1458,
    "start_time": "2023-05-20T09:27:30.541Z"
   },
   {
    "duration": 1393,
    "start_time": "2023-05-20T09:27:32.001Z"
   },
   {
    "duration": 26,
    "start_time": "2023-05-20T09:27:37.292Z"
   },
   {
    "duration": 14,
    "start_time": "2023-05-20T09:27:39.195Z"
   },
   {
    "duration": 156,
    "start_time": "2023-05-20T09:27:39.755Z"
   },
   {
    "duration": 145,
    "start_time": "2023-05-20T09:27:40.276Z"
   },
   {
    "duration": 186,
    "start_time": "2023-05-20T09:27:41.452Z"
   },
   {
    "duration": 86,
    "start_time": "2023-05-20T09:27:42.516Z"
   },
   {
    "duration": 1647,
    "start_time": "2023-05-20T09:27:44.647Z"
   },
   {
    "duration": 1925,
    "start_time": "2023-05-20T09:27:46.298Z"
   },
   {
    "duration": 375,
    "start_time": "2023-05-20T09:28:09.920Z"
   },
   {
    "duration": 268,
    "start_time": "2023-05-20T09:28:10.297Z"
   },
   {
    "duration": 301,
    "start_time": "2023-05-20T09:28:10.568Z"
   },
   {
    "duration": 319,
    "start_time": "2023-05-20T09:28:10.877Z"
   },
   {
    "duration": 186,
    "start_time": "2023-05-20T09:28:11.198Z"
   },
   {
    "duration": 299,
    "start_time": "2023-05-20T09:28:11.433Z"
   },
   {
    "duration": 353,
    "start_time": "2023-05-20T09:28:11.735Z"
   },
   {
    "duration": 393,
    "start_time": "2023-05-20T09:28:12.149Z"
   },
   {
    "duration": 310,
    "start_time": "2023-05-20T09:28:12.919Z"
   },
   {
    "duration": 313,
    "start_time": "2023-05-20T09:28:13.413Z"
   },
   {
    "duration": 17,
    "start_time": "2023-05-20T09:28:16.283Z"
   },
   {
    "duration": 22,
    "start_time": "2023-05-20T09:28:17.091Z"
   },
   {
    "duration": 11,
    "start_time": "2023-05-20T09:28:41.392Z"
   },
   {
    "duration": 1367,
    "start_time": "2023-05-20T09:31:15.881Z"
   },
   {
    "duration": 1261,
    "start_time": "2023-05-20T09:35:20.328Z"
   },
   {
    "duration": 1370,
    "start_time": "2023-05-20T09:36:24.281Z"
   },
   {
    "duration": 1306,
    "start_time": "2023-05-20T09:36:46.986Z"
   },
   {
    "duration": 1301,
    "start_time": "2023-05-20T09:37:22.684Z"
   },
   {
    "duration": 10,
    "start_time": "2023-05-20T09:38:49.894Z"
   },
   {
    "duration": 1187,
    "start_time": "2023-05-20T09:38:59.484Z"
   },
   {
    "duration": 1450,
    "start_time": "2023-05-20T09:44:33.526Z"
   },
   {
    "duration": 77,
    "start_time": "2023-05-20T09:56:30.876Z"
   },
   {
    "duration": 540,
    "start_time": "2023-05-20T10:02:40.150Z"
   },
   {
    "duration": 459,
    "start_time": "2023-05-20T10:05:11.784Z"
   },
   {
    "duration": 548,
    "start_time": "2023-05-20T10:06:51.624Z"
   },
   {
    "duration": 435,
    "start_time": "2023-05-20T10:07:11.764Z"
   },
   {
    "duration": 487,
    "start_time": "2023-05-20T10:07:52.418Z"
   },
   {
    "duration": 446,
    "start_time": "2023-05-20T10:12:03.180Z"
   },
   {
    "duration": 480,
    "start_time": "2023-05-20T10:12:13.730Z"
   },
   {
    "duration": 669,
    "start_time": "2023-05-20T10:12:28.703Z"
   },
   {
    "duration": 32,
    "start_time": "2023-05-20T10:26:15.490Z"
   },
   {
    "duration": 36,
    "start_time": "2023-05-20T10:26:18.082Z"
   },
   {
    "duration": 805,
    "start_time": "2023-05-20T10:26:22.820Z"
   },
   {
    "duration": 17,
    "start_time": "2023-05-20T10:29:11.488Z"
   },
   {
    "duration": 18,
    "start_time": "2023-05-20T10:29:46.374Z"
   },
   {
    "duration": 46,
    "start_time": "2023-05-20T10:31:43.964Z"
   },
   {
    "duration": 32,
    "start_time": "2023-05-20T10:32:32.885Z"
   },
   {
    "duration": 31,
    "start_time": "2023-05-20T10:32:40.780Z"
   },
   {
    "duration": 31,
    "start_time": "2023-05-20T10:32:44.392Z"
   },
   {
    "duration": 804,
    "start_time": "2023-05-20T10:34:45.750Z"
   },
   {
    "duration": 180,
    "start_time": "2023-05-20T10:39:21.524Z"
   },
   {
    "duration": 33,
    "start_time": "2023-05-20T10:49:43.469Z"
   },
   {
    "duration": 3466,
    "start_time": "2023-05-20T10:50:27.542Z"
   },
   {
    "duration": 42,
    "start_time": "2023-05-20T10:50:31.011Z"
   },
   {
    "duration": 25,
    "start_time": "2023-05-20T10:50:31.055Z"
   },
   {
    "duration": 41,
    "start_time": "2023-05-20T10:50:31.083Z"
   },
   {
    "duration": 38,
    "start_time": "2023-05-20T10:50:31.125Z"
   },
   {
    "duration": 41,
    "start_time": "2023-05-20T10:50:31.165Z"
   },
   {
    "duration": 39,
    "start_time": "2023-05-20T10:50:31.209Z"
   },
   {
    "duration": 38,
    "start_time": "2023-05-20T10:50:31.250Z"
   },
   {
    "duration": 57,
    "start_time": "2023-05-20T10:50:31.290Z"
   },
   {
    "duration": 45,
    "start_time": "2023-05-20T10:50:31.349Z"
   },
   {
    "duration": 40,
    "start_time": "2023-05-20T10:50:31.396Z"
   },
   {
    "duration": 35,
    "start_time": "2023-05-20T10:50:31.437Z"
   },
   {
    "duration": 40,
    "start_time": "2023-05-20T10:50:31.474Z"
   },
   {
    "duration": 34,
    "start_time": "2023-05-20T10:50:31.516Z"
   },
   {
    "duration": 206,
    "start_time": "2023-05-20T10:50:31.925Z"
   },
   {
    "duration": 9,
    "start_time": "2023-05-20T10:50:32.276Z"
   },
   {
    "duration": 12,
    "start_time": "2023-05-20T10:50:32.642Z"
   },
   {
    "duration": 67,
    "start_time": "2023-05-20T10:50:33.164Z"
   },
   {
    "duration": 18,
    "start_time": "2023-05-20T10:50:33.880Z"
   },
   {
    "duration": 61,
    "start_time": "2023-05-20T10:50:34.043Z"
   },
   {
    "duration": 148,
    "start_time": "2023-05-20T10:50:34.225Z"
   },
   {
    "duration": 115,
    "start_time": "2023-05-20T10:50:34.408Z"
   },
   {
    "duration": 176,
    "start_time": "2023-05-20T10:50:34.597Z"
   },
   {
    "duration": 29,
    "start_time": "2023-05-20T10:50:35.174Z"
   },
   {
    "duration": 24,
    "start_time": "2023-05-20T10:50:35.790Z"
   },
   {
    "duration": 5,
    "start_time": "2023-05-20T10:50:36.169Z"
   },
   {
    "duration": 129,
    "start_time": "2023-05-20T10:50:36.364Z"
   },
   {
    "duration": 130,
    "start_time": "2023-05-20T10:50:36.542Z"
   },
   {
    "duration": 139,
    "start_time": "2023-05-20T10:50:36.742Z"
   },
   {
    "duration": 163,
    "start_time": "2023-05-20T10:50:36.908Z"
   },
   {
    "duration": 1323,
    "start_time": "2023-05-20T10:50:37.274Z"
   },
   {
    "duration": 1443,
    "start_time": "2023-05-20T10:50:38.600Z"
   },
   {
    "duration": 207,
    "start_time": "2023-05-20T10:50:40.045Z"
   },
   {
    "duration": 286,
    "start_time": "2023-05-20T10:50:40.258Z"
   },
   {
    "duration": 292,
    "start_time": "2023-05-20T10:50:40.546Z"
   },
   {
    "duration": 261,
    "start_time": "2023-05-20T10:50:40.840Z"
   },
   {
    "duration": 170,
    "start_time": "2023-05-20T10:50:41.102Z"
   },
   {
    "duration": 269,
    "start_time": "2023-05-20T10:50:41.274Z"
   },
   {
    "duration": 378,
    "start_time": "2023-05-20T10:50:41.545Z"
   },
   {
    "duration": 275,
    "start_time": "2023-05-20T10:50:41.925Z"
   },
   {
    "duration": 43,
    "start_time": "2023-05-20T10:50:42.201Z"
   },
   {
    "duration": 0,
    "start_time": "2023-05-20T10:50:42.246Z"
   },
   {
    "duration": 0,
    "start_time": "2023-05-20T10:50:42.247Z"
   },
   {
    "duration": 0,
    "start_time": "2023-05-20T10:50:42.249Z"
   },
   {
    "duration": 11,
    "start_time": "2023-05-20T10:50:43.116Z"
   },
   {
    "duration": 139,
    "start_time": "2023-05-20T10:50:44.702Z"
   },
   {
    "duration": 48,
    "start_time": "2023-05-20T10:52:17.450Z"
   },
   {
    "duration": 38,
    "start_time": "2023-05-20T10:53:03.879Z"
   },
   {
    "duration": 49,
    "start_time": "2023-05-20T10:54:21.141Z"
   },
   {
    "duration": 34,
    "start_time": "2023-05-20T10:54:58.281Z"
   },
   {
    "duration": 17,
    "start_time": "2023-05-20T10:55:35.802Z"
   },
   {
    "duration": 13,
    "start_time": "2023-05-20T10:59:08.614Z"
   },
   {
    "duration": 69,
    "start_time": "2023-05-20T11:03:29.202Z"
   },
   {
    "duration": 139,
    "start_time": "2023-05-20T11:03:49.504Z"
   },
   {
    "duration": 67,
    "start_time": "2023-05-20T11:06:31.554Z"
   },
   {
    "duration": 17,
    "start_time": "2023-05-20T11:06:56.698Z"
   },
   {
    "duration": 71,
    "start_time": "2023-05-20T11:08:11.855Z"
   },
   {
    "duration": 387,
    "start_time": "2023-05-20T11:09:25.608Z"
   },
   {
    "duration": 342,
    "start_time": "2023-05-20T11:17:53.744Z"
   },
   {
    "duration": 14,
    "start_time": "2023-05-20T11:18:31.220Z"
   },
   {
    "duration": 12,
    "start_time": "2023-05-20T11:18:41.510Z"
   },
   {
    "duration": 348,
    "start_time": "2023-05-20T11:18:42.237Z"
   },
   {
    "duration": 833,
    "start_time": "2023-05-20T11:38:50.738Z"
   },
   {
    "duration": 727,
    "start_time": "2023-05-20T11:45:24.196Z"
   },
   {
    "duration": 514,
    "start_time": "2023-05-20T11:46:41.942Z"
   },
   {
    "duration": 711,
    "start_time": "2023-05-20T12:03:39.409Z"
   },
   {
    "duration": 1183,
    "start_time": "2023-05-20T12:05:31.612Z"
   },
   {
    "duration": 313,
    "start_time": "2023-05-20T12:51:06.848Z"
   },
   {
    "duration": 332,
    "start_time": "2023-05-20T12:51:14.610Z"
   },
   {
    "duration": 362,
    "start_time": "2023-05-20T12:51:47.146Z"
   },
   {
    "duration": 12,
    "start_time": "2023-05-20T12:53:51.909Z"
   },
   {
    "duration": 460,
    "start_time": "2023-05-20T12:54:15.652Z"
   },
   {
    "duration": 324,
    "start_time": "2023-05-20T12:58:04.222Z"
   },
   {
    "duration": 42,
    "start_time": "2023-05-20T12:58:05.076Z"
   },
   {
    "duration": 3452,
    "start_time": "2023-05-20T13:06:45.819Z"
   },
   {
    "duration": 41,
    "start_time": "2023-05-20T13:06:49.273Z"
   },
   {
    "duration": 15,
    "start_time": "2023-05-20T13:06:49.315Z"
   },
   {
    "duration": 17,
    "start_time": "2023-05-20T13:06:49.332Z"
   },
   {
    "duration": 9,
    "start_time": "2023-05-20T13:06:49.351Z"
   },
   {
    "duration": 13,
    "start_time": "2023-05-20T13:06:49.361Z"
   },
   {
    "duration": 10,
    "start_time": "2023-05-20T13:06:49.375Z"
   },
   {
    "duration": 6,
    "start_time": "2023-05-20T13:06:49.386Z"
   },
   {
    "duration": 15,
    "start_time": "2023-05-20T13:06:49.393Z"
   },
   {
    "duration": 17,
    "start_time": "2023-05-20T13:06:49.410Z"
   },
   {
    "duration": 34,
    "start_time": "2023-05-20T13:06:49.429Z"
   },
   {
    "duration": 12,
    "start_time": "2023-05-20T13:06:49.465Z"
   },
   {
    "duration": 15,
    "start_time": "2023-05-20T13:06:49.479Z"
   },
   {
    "duration": 15,
    "start_time": "2023-05-20T13:06:49.594Z"
   },
   {
    "duration": 202,
    "start_time": "2023-05-20T13:06:50.133Z"
   },
   {
    "duration": 8,
    "start_time": "2023-05-20T13:06:50.485Z"
   },
   {
    "duration": 11,
    "start_time": "2023-05-20T13:06:50.832Z"
   },
   {
    "duration": 64,
    "start_time": "2023-05-20T13:06:51.832Z"
   },
   {
    "duration": 19,
    "start_time": "2023-05-20T13:06:52.594Z"
   },
   {
    "duration": 56,
    "start_time": "2023-05-20T13:06:52.765Z"
   },
   {
    "duration": 130,
    "start_time": "2023-05-20T13:06:52.947Z"
   },
   {
    "duration": 121,
    "start_time": "2023-05-20T13:06:53.178Z"
   },
   {
    "duration": 175,
    "start_time": "2023-05-20T13:06:53.302Z"
   },
   {
    "duration": 26,
    "start_time": "2023-05-20T13:06:53.781Z"
   },
   {
    "duration": 26,
    "start_time": "2023-05-20T13:06:54.317Z"
   },
   {
    "duration": 5,
    "start_time": "2023-05-20T13:06:54.667Z"
   },
   {
    "duration": 130,
    "start_time": "2023-05-20T13:06:54.860Z"
   },
   {
    "duration": 112,
    "start_time": "2023-05-20T13:06:55.012Z"
   },
   {
    "duration": 119,
    "start_time": "2023-05-20T13:06:55.199Z"
   },
   {
    "duration": 131,
    "start_time": "2023-05-20T13:06:55.366Z"
   },
   {
    "duration": 1257,
    "start_time": "2023-05-20T13:06:55.696Z"
   },
   {
    "duration": 1244,
    "start_time": "2023-05-20T13:06:56.956Z"
   },
   {
    "duration": 203,
    "start_time": "2023-05-20T13:06:58.203Z"
   },
   {
    "duration": 309,
    "start_time": "2023-05-20T13:06:58.409Z"
   },
   {
    "duration": 339,
    "start_time": "2023-05-20T13:06:58.721Z"
   },
   {
    "duration": 277,
    "start_time": "2023-05-20T13:06:59.062Z"
   },
   {
    "duration": 160,
    "start_time": "2023-05-20T13:06:59.341Z"
   },
   {
    "duration": 271,
    "start_time": "2023-05-20T13:06:59.504Z"
   },
   {
    "duration": 381,
    "start_time": "2023-05-20T13:06:59.778Z"
   },
   {
    "duration": 262,
    "start_time": "2023-05-20T13:07:00.162Z"
   },
   {
    "duration": 51,
    "start_time": "2023-05-20T13:07:00.427Z"
   },
   {
    "duration": 0,
    "start_time": "2023-05-20T13:07:00.480Z"
   },
   {
    "duration": 0,
    "start_time": "2023-05-20T13:07:00.481Z"
   },
   {
    "duration": 17,
    "start_time": "2023-05-20T13:07:00.628Z"
   },
   {
    "duration": 10,
    "start_time": "2023-05-20T13:07:01.543Z"
   },
   {
    "duration": 32,
    "start_time": "2023-05-20T13:07:02.684Z"
   },
   {
    "duration": 11,
    "start_time": "2023-05-20T13:07:03.061Z"
   },
   {
    "duration": 342,
    "start_time": "2023-05-20T13:07:03.264Z"
   },
   {
    "duration": 104,
    "start_time": "2023-05-20T13:07:08.136Z"
   },
   {
    "duration": 12,
    "start_time": "2023-05-20T13:09:37.620Z"
   },
   {
    "duration": 11,
    "start_time": "2023-05-20T13:10:27.164Z"
   },
   {
    "duration": 21,
    "start_time": "2023-05-20T13:11:15.861Z"
   },
   {
    "duration": 3764,
    "start_time": "2023-05-21T10:24:30.779Z"
   },
   {
    "duration": 75,
    "start_time": "2023-05-21T10:24:34.545Z"
   },
   {
    "duration": 10,
    "start_time": "2023-05-21T10:24:34.622Z"
   },
   {
    "duration": 12,
    "start_time": "2023-05-21T10:24:34.634Z"
   },
   {
    "duration": 8,
    "start_time": "2023-05-21T10:24:34.647Z"
   },
   {
    "duration": 10,
    "start_time": "2023-05-21T10:24:34.656Z"
   },
   {
    "duration": 16,
    "start_time": "2023-05-21T10:24:34.667Z"
   },
   {
    "duration": 5,
    "start_time": "2023-05-21T10:24:34.684Z"
   },
   {
    "duration": 12,
    "start_time": "2023-05-21T10:24:34.690Z"
   },
   {
    "duration": 11,
    "start_time": "2023-05-21T10:24:34.704Z"
   },
   {
    "duration": 6,
    "start_time": "2023-05-21T10:24:34.716Z"
   },
   {
    "duration": 6,
    "start_time": "2023-05-21T10:24:34.723Z"
   },
   {
    "duration": 13,
    "start_time": "2023-05-21T10:24:34.730Z"
   },
   {
    "duration": 13,
    "start_time": "2023-05-21T10:24:34.744Z"
   },
   {
    "duration": 172,
    "start_time": "2023-05-21T10:24:34.759Z"
   },
   {
    "duration": 7,
    "start_time": "2023-05-21T10:24:34.933Z"
   },
   {
    "duration": 11,
    "start_time": "2023-05-21T10:24:34.941Z"
   },
   {
    "duration": 65,
    "start_time": "2023-05-21T10:24:34.954Z"
   },
   {
    "duration": 13,
    "start_time": "2023-05-21T10:24:35.021Z"
   },
   {
    "duration": 54,
    "start_time": "2023-05-21T10:24:35.036Z"
   },
   {
    "duration": 102,
    "start_time": "2023-05-21T10:24:35.091Z"
   },
   {
    "duration": 95,
    "start_time": "2023-05-21T10:24:35.194Z"
   },
   {
    "duration": 135,
    "start_time": "2023-05-21T10:24:35.290Z"
   },
   {
    "duration": 20,
    "start_time": "2023-05-21T10:24:35.427Z"
   },
   {
    "duration": 17,
    "start_time": "2023-05-21T10:24:35.449Z"
   },
   {
    "duration": 18,
    "start_time": "2023-05-21T10:24:35.468Z"
   },
   {
    "duration": 110,
    "start_time": "2023-05-21T10:24:35.487Z"
   },
   {
    "duration": 97,
    "start_time": "2023-05-21T10:24:35.600Z"
   },
   {
    "duration": 106,
    "start_time": "2023-05-21T10:24:35.699Z"
   },
   {
    "duration": 101,
    "start_time": "2023-05-21T10:24:35.806Z"
   },
   {
    "duration": 989,
    "start_time": "2023-05-21T10:24:35.908Z"
   },
   {
    "duration": 1011,
    "start_time": "2023-05-21T10:24:36.898Z"
   },
   {
    "duration": 153,
    "start_time": "2023-05-21T10:24:37.911Z"
   },
   {
    "duration": 255,
    "start_time": "2023-05-21T10:24:38.066Z"
   },
   {
    "duration": 227,
    "start_time": "2023-05-21T10:24:38.323Z"
   },
   {
    "duration": 196,
    "start_time": "2023-05-21T10:24:38.552Z"
   },
   {
    "duration": 119,
    "start_time": "2023-05-21T10:24:38.750Z"
   },
   {
    "duration": 257,
    "start_time": "2023-05-21T10:24:38.871Z"
   },
   {
    "duration": 270,
    "start_time": "2023-05-21T10:24:39.130Z"
   },
   {
    "duration": 200,
    "start_time": "2023-05-21T10:24:39.401Z"
   },
   {
    "duration": 89,
    "start_time": "2023-05-21T10:24:39.602Z"
   },
   {
    "duration": 0,
    "start_time": "2023-05-21T10:24:39.692Z"
   },
   {
    "duration": 0,
    "start_time": "2023-05-21T10:24:39.693Z"
   },
   {
    "duration": 0,
    "start_time": "2023-05-21T10:24:39.694Z"
   },
   {
    "duration": 0,
    "start_time": "2023-05-21T10:24:39.695Z"
   },
   {
    "duration": 0,
    "start_time": "2023-05-21T10:24:39.696Z"
   },
   {
    "duration": 0,
    "start_time": "2023-05-21T10:24:39.696Z"
   },
   {
    "duration": 0,
    "start_time": "2023-05-21T10:24:39.697Z"
   },
   {
    "duration": 102,
    "start_time": "2023-05-21T10:26:05.983Z"
   },
   {
    "duration": 204,
    "start_time": "2023-05-21T10:26:18.017Z"
   },
   {
    "duration": 205,
    "start_time": "2023-05-21T10:26:28.806Z"
   },
   {
    "duration": 8,
    "start_time": "2023-05-21T10:28:21.985Z"
   },
   {
    "duration": 16,
    "start_time": "2023-05-21T10:28:21.995Z"
   },
   {
    "duration": 6,
    "start_time": "2023-05-21T10:28:22.013Z"
   },
   {
    "duration": 27,
    "start_time": "2023-05-21T10:28:22.021Z"
   },
   {
    "duration": 7,
    "start_time": "2023-05-21T10:28:22.050Z"
   },
   {
    "duration": 298,
    "start_time": "2023-05-21T10:28:22.059Z"
   },
   {
    "duration": 111,
    "start_time": "2023-05-21T10:34:58.915Z"
   },
   {
    "duration": 132,
    "start_time": "2023-05-21T10:35:06.876Z"
   },
   {
    "duration": 230,
    "start_time": "2023-05-21T10:35:10.974Z"
   },
   {
    "duration": 57,
    "start_time": "2023-05-21T10:48:55.715Z"
   },
   {
    "duration": 8,
    "start_time": "2023-05-21T10:59:34.617Z"
   },
   {
    "duration": 4740,
    "start_time": "2023-05-21T10:59:44.004Z"
   },
   {
    "duration": 90,
    "start_time": "2023-05-21T10:59:48.746Z"
   },
   {
    "duration": 15,
    "start_time": "2023-05-21T10:59:48.837Z"
   },
   {
    "duration": 34,
    "start_time": "2023-05-21T10:59:48.854Z"
   },
   {
    "duration": 10,
    "start_time": "2023-05-21T10:59:50.557Z"
   },
   {
    "duration": 20,
    "start_time": "2023-05-21T10:59:50.861Z"
   },
   {
    "duration": 4,
    "start_time": "2023-05-21T10:59:51.019Z"
   },
   {
    "duration": 3,
    "start_time": "2023-05-21T10:59:51.249Z"
   },
   {
    "duration": 13,
    "start_time": "2023-05-21T10:59:51.353Z"
   },
   {
    "duration": 13,
    "start_time": "2023-05-21T10:59:51.503Z"
   },
   {
    "duration": 137,
    "start_time": "2023-05-21T10:59:51.669Z"
   },
   {
    "duration": 11,
    "start_time": "2023-05-21T10:59:51.981Z"
   },
   {
    "duration": 4,
    "start_time": "2023-05-21T10:59:52.300Z"
   },
   {
    "duration": 13,
    "start_time": "2023-05-21T10:59:52.485Z"
   },
   {
    "duration": 208,
    "start_time": "2023-05-21T10:59:53.157Z"
   },
   {
    "duration": 8,
    "start_time": "2023-05-21T10:59:53.497Z"
   },
   {
    "duration": 12,
    "start_time": "2023-05-21T10:59:53.862Z"
   },
   {
    "duration": 57,
    "start_time": "2023-05-21T10:59:54.719Z"
   },
   {
    "duration": 17,
    "start_time": "2023-05-21T10:59:55.569Z"
   },
   {
    "duration": 51,
    "start_time": "2023-05-21T10:59:55.760Z"
   },
   {
    "duration": 109,
    "start_time": "2023-05-21T10:59:55.950Z"
   },
   {
    "duration": 105,
    "start_time": "2023-05-21T10:59:56.107Z"
   },
   {
    "duration": 157,
    "start_time": "2023-05-21T10:59:56.285Z"
   },
   {
    "duration": 25,
    "start_time": "2023-05-21T10:59:56.850Z"
   },
   {
    "duration": 23,
    "start_time": "2023-05-21T10:59:57.349Z"
   },
   {
    "duration": 5,
    "start_time": "2023-05-21T10:59:57.696Z"
   },
   {
    "duration": 116,
    "start_time": "2023-05-21T10:59:57.861Z"
   },
   {
    "duration": 108,
    "start_time": "2023-05-21T10:59:58.050Z"
   },
   {
    "duration": 114,
    "start_time": "2023-05-21T10:59:58.245Z"
   },
   {
    "duration": 115,
    "start_time": "2023-05-21T10:59:58.397Z"
   },
   {
    "duration": 1243,
    "start_time": "2023-05-21T10:59:58.762Z"
   },
   {
    "duration": 1166,
    "start_time": "2023-05-21T11:00:00.008Z"
   },
   {
    "duration": 189,
    "start_time": "2023-05-21T11:00:01.176Z"
   },
   {
    "duration": 322,
    "start_time": "2023-05-21T11:00:01.368Z"
   },
   {
    "duration": 249,
    "start_time": "2023-05-21T11:00:01.697Z"
   },
   {
    "duration": 234,
    "start_time": "2023-05-21T11:00:01.947Z"
   },
   {
    "duration": 229,
    "start_time": "2023-05-21T11:00:03.193Z"
   },
   {
    "duration": 149,
    "start_time": "2023-05-21T11:00:03.926Z"
   },
   {
    "duration": 388,
    "start_time": "2023-05-21T11:00:04.287Z"
   },
   {
    "duration": 254,
    "start_time": "2023-05-21T11:00:05.006Z"
   },
   {
    "duration": 285,
    "start_time": "2023-05-21T11:00:05.589Z"
   },
   {
    "duration": 246,
    "start_time": "2023-05-21T11:00:05.987Z"
   },
   {
    "duration": 272,
    "start_time": "2023-05-21T11:00:06.319Z"
   },
   {
    "duration": 10,
    "start_time": "2023-05-21T11:00:07.570Z"
   },
   {
    "duration": 18,
    "start_time": "2023-05-21T11:00:08.050Z"
   },
   {
    "duration": 12,
    "start_time": "2023-05-21T11:00:10.784Z"
   },
   {
    "duration": 30,
    "start_time": "2023-05-21T11:00:12.223Z"
   },
   {
    "duration": 12,
    "start_time": "2023-05-21T11:00:13.403Z"
   },
   {
    "duration": 337,
    "start_time": "2023-05-21T11:00:13.803Z"
   },
   {
    "duration": 82,
    "start_time": "2023-05-21T11:01:00.679Z"
   },
   {
    "duration": 292,
    "start_time": "2023-05-21T11:02:13.459Z"
   },
   {
    "duration": 27,
    "start_time": "2023-05-21T11:04:58.345Z"
   },
   {
    "duration": 10,
    "start_time": "2023-05-21T11:05:12.956Z"
   },
   {
    "duration": 328,
    "start_time": "2023-05-21T11:05:18.472Z"
   },
   {
    "duration": 423,
    "start_time": "2023-05-21T11:06:01.776Z"
   },
   {
    "duration": 74,
    "start_time": "2023-05-21T11:06:27.953Z"
   },
   {
    "duration": 71,
    "start_time": "2023-05-21T11:11:09.049Z"
   },
   {
    "duration": 264,
    "start_time": "2023-05-21T11:11:12.175Z"
   },
   {
    "duration": 251,
    "start_time": "2023-05-21T11:11:16.453Z"
   },
   {
    "duration": 263,
    "start_time": "2023-05-21T11:12:12.609Z"
   },
   {
    "duration": 278,
    "start_time": "2023-05-21T11:12:41.178Z"
   },
   {
    "duration": 223,
    "start_time": "2023-05-21T11:13:13.247Z"
   },
   {
    "duration": 219,
    "start_time": "2023-05-21T11:13:16.444Z"
   },
   {
    "duration": 345,
    "start_time": "2023-05-21T11:14:22.977Z"
   },
   {
    "duration": 447,
    "start_time": "2023-05-21T11:14:34.164Z"
   },
   {
    "duration": 135,
    "start_time": "2023-05-21T11:20:37.778Z"
   },
   {
    "duration": 74,
    "start_time": "2023-05-21T11:27:24.354Z"
   },
   {
    "duration": 120,
    "start_time": "2023-05-21T11:33:32.665Z"
   },
   {
    "duration": 151,
    "start_time": "2023-05-21T11:33:44.386Z"
   },
   {
    "duration": 144,
    "start_time": "2023-05-21T11:34:01.079Z"
   },
   {
    "duration": 373,
    "start_time": "2023-05-21T11:45:25.793Z"
   },
   {
    "duration": 324,
    "start_time": "2023-05-21T11:45:41.349Z"
   },
   {
    "duration": 425,
    "start_time": "2023-05-21T11:45:44.790Z"
   },
   {
    "duration": 116,
    "start_time": "2023-05-21T11:47:15.946Z"
   },
   {
    "duration": 1456,
    "start_time": "2023-05-21T11:47:34.680Z"
   },
   {
    "duration": 851,
    "start_time": "2023-05-21T11:48:12.085Z"
   },
   {
    "duration": 311,
    "start_time": "2023-05-21T11:48:46.527Z"
   },
   {
    "duration": 832,
    "start_time": "2023-05-21T11:50:42.188Z"
   },
   {
    "duration": 1205,
    "start_time": "2023-05-21T11:52:12.364Z"
   },
   {
    "duration": 1532,
    "start_time": "2023-05-21T11:52:19.038Z"
   },
   {
    "duration": 1528,
    "start_time": "2023-05-21T11:52:22.342Z"
   },
   {
    "duration": 1011,
    "start_time": "2023-05-21T11:52:25.192Z"
   },
   {
    "duration": 721,
    "start_time": "2023-05-21T11:52:41.600Z"
   },
   {
    "duration": 834,
    "start_time": "2023-05-21T11:52:52.033Z"
   },
   {
    "duration": 671,
    "start_time": "2023-05-21T11:53:37.849Z"
   },
   {
    "duration": 953,
    "start_time": "2023-05-21T11:53:45.991Z"
   },
   {
    "duration": 279,
    "start_time": "2023-05-21T12:01:20.061Z"
   },
   {
    "duration": 354,
    "start_time": "2023-05-21T12:02:26.390Z"
   },
   {
    "duration": 265,
    "start_time": "2023-05-21T12:02:47.518Z"
   },
   {
    "duration": 289,
    "start_time": "2023-05-21T12:03:31.976Z"
   },
   {
    "duration": 278,
    "start_time": "2023-05-21T12:03:43.956Z"
   },
   {
    "duration": 266,
    "start_time": "2023-05-21T12:04:40.107Z"
   },
   {
    "duration": 280,
    "start_time": "2023-05-21T12:05:30.726Z"
   },
   {
    "duration": 169,
    "start_time": "2023-05-21T12:05:33.864Z"
   },
   {
    "duration": 404,
    "start_time": "2023-05-21T12:05:39.276Z"
   },
   {
    "duration": 281,
    "start_time": "2023-05-21T12:06:15.828Z"
   },
   {
    "duration": 268,
    "start_time": "2023-05-21T12:06:48.615Z"
   },
   {
    "duration": 221,
    "start_time": "2023-05-21T12:06:52.840Z"
   },
   {
    "duration": 293,
    "start_time": "2023-05-21T12:07:32.193Z"
   },
   {
    "duration": 260,
    "start_time": "2023-05-21T12:07:58.256Z"
   },
   {
    "duration": 271,
    "start_time": "2023-05-21T12:08:08.087Z"
   },
   {
    "duration": 282,
    "start_time": "2023-05-21T12:08:11.989Z"
   },
   {
    "duration": 219,
    "start_time": "2023-05-21T12:08:18.544Z"
   },
   {
    "duration": 111,
    "start_time": "2023-05-21T12:08:21.467Z"
   },
   {
    "duration": 231,
    "start_time": "2023-05-21T12:08:23.728Z"
   },
   {
    "duration": 274,
    "start_time": "2023-05-21T12:08:30.392Z"
   },
   {
    "duration": 317,
    "start_time": "2023-05-21T12:08:38.953Z"
   },
   {
    "duration": 236,
    "start_time": "2023-05-21T12:11:53.321Z"
   },
   {
    "duration": 243,
    "start_time": "2023-05-21T12:13:41.423Z"
   },
   {
    "duration": 250,
    "start_time": "2023-05-21T12:14:02.925Z"
   },
   {
    "duration": 114,
    "start_time": "2023-05-21T12:14:57.315Z"
   },
   {
    "duration": 100,
    "start_time": "2023-05-21T12:15:02.469Z"
   },
   {
    "duration": 253,
    "start_time": "2023-05-21T12:15:18.803Z"
   },
   {
    "duration": 87,
    "start_time": "2023-05-21T12:15:37.727Z"
   },
   {
    "duration": 103,
    "start_time": "2023-05-21T12:15:41.175Z"
   },
   {
    "duration": 314,
    "start_time": "2023-05-21T12:15:43.876Z"
   },
   {
    "duration": 291,
    "start_time": "2023-05-21T12:16:31.478Z"
   },
   {
    "duration": 361,
    "start_time": "2023-05-21T12:16:38.564Z"
   },
   {
    "duration": 245,
    "start_time": "2023-05-21T12:17:21.710Z"
   },
   {
    "duration": 276,
    "start_time": "2023-05-21T12:17:42.975Z"
   },
   {
    "duration": 476,
    "start_time": "2023-05-21T12:17:48.666Z"
   },
   {
    "duration": 296,
    "start_time": "2023-05-21T12:18:00.864Z"
   },
   {
    "duration": 313,
    "start_time": "2023-05-21T12:18:36.846Z"
   },
   {
    "duration": 4360,
    "start_time": "2023-05-21T12:18:49.456Z"
   },
   {
    "duration": 45,
    "start_time": "2023-05-21T12:18:53.819Z"
   },
   {
    "duration": 23,
    "start_time": "2023-05-21T12:18:53.866Z"
   },
   {
    "duration": 22,
    "start_time": "2023-05-21T12:18:53.891Z"
   },
   {
    "duration": 13,
    "start_time": "2023-05-21T12:18:53.915Z"
   },
   {
    "duration": 15,
    "start_time": "2023-05-21T12:18:53.930Z"
   },
   {
    "duration": 11,
    "start_time": "2023-05-21T12:18:53.947Z"
   },
   {
    "duration": 9,
    "start_time": "2023-05-21T12:18:53.961Z"
   },
   {
    "duration": 38,
    "start_time": "2023-05-21T12:18:53.973Z"
   },
   {
    "duration": 21,
    "start_time": "2023-05-21T12:18:54.014Z"
   },
   {
    "duration": 18,
    "start_time": "2023-05-21T12:18:54.037Z"
   },
   {
    "duration": 12,
    "start_time": "2023-05-21T12:18:54.057Z"
   },
   {
    "duration": 28,
    "start_time": "2023-05-21T12:18:54.071Z"
   },
   {
    "duration": 139,
    "start_time": "2023-05-21T12:18:54.102Z"
   },
   {
    "duration": 0,
    "start_time": "2023-05-21T12:18:54.243Z"
   },
   {
    "duration": 17,
    "start_time": "2023-05-21T12:18:54.356Z"
   },
   {
    "duration": 88,
    "start_time": "2023-05-21T12:18:54.832Z"
   },
   {
    "duration": 4214,
    "start_time": "2023-05-21T12:19:08.364Z"
   },
   {
    "duration": 44,
    "start_time": "2023-05-21T12:19:12.581Z"
   },
   {
    "duration": 16,
    "start_time": "2023-05-21T12:19:14.481Z"
   },
   {
    "duration": 15,
    "start_time": "2023-05-21T12:19:15.018Z"
   },
   {
    "duration": 9,
    "start_time": "2023-05-21T12:19:15.378Z"
   },
   {
    "duration": 11,
    "start_time": "2023-05-21T12:19:16.188Z"
   },
   {
    "duration": 3,
    "start_time": "2023-05-21T12:19:16.955Z"
   },
   {
    "duration": 3,
    "start_time": "2023-05-21T12:19:17.459Z"
   },
   {
    "duration": 12,
    "start_time": "2023-05-21T12:19:17.820Z"
   },
   {
    "duration": 11,
    "start_time": "2023-05-21T12:19:18.214Z"
   },
   {
    "duration": 9,
    "start_time": "2023-05-21T12:19:18.569Z"
   },
   {
    "duration": 9,
    "start_time": "2023-05-21T12:19:19.319Z"
   },
   {
    "duration": 3,
    "start_time": "2023-05-21T12:19:20.386Z"
   },
   {
    "duration": 104,
    "start_time": "2023-05-21T12:19:22.516Z"
   },
   {
    "duration": 2419,
    "start_time": "2023-05-21T12:19:35.071Z"
   },
   {
    "duration": 3,
    "start_time": "2023-05-21T12:20:35.807Z"
   },
   {
    "duration": 3277,
    "start_time": "2023-05-21T12:20:43.855Z"
   },
   {
    "duration": 40,
    "start_time": "2023-05-21T12:20:47.134Z"
   },
   {
    "duration": 12,
    "start_time": "2023-05-21T12:20:47.176Z"
   },
   {
    "duration": 14,
    "start_time": "2023-05-21T12:20:47.190Z"
   },
   {
    "duration": 13,
    "start_time": "2023-05-21T12:20:47.205Z"
   },
   {
    "duration": 17,
    "start_time": "2023-05-21T12:20:47.220Z"
   },
   {
    "duration": 7,
    "start_time": "2023-05-21T12:20:47.238Z"
   },
   {
    "duration": 13,
    "start_time": "2023-05-21T12:20:47.246Z"
   },
   {
    "duration": 18,
    "start_time": "2023-05-21T12:20:47.261Z"
   },
   {
    "duration": 23,
    "start_time": "2023-05-21T12:20:47.282Z"
   },
   {
    "duration": 8,
    "start_time": "2023-05-21T12:20:47.307Z"
   },
   {
    "duration": 8,
    "start_time": "2023-05-21T12:20:47.317Z"
   },
   {
    "duration": 4,
    "start_time": "2023-05-21T12:20:47.387Z"
   },
   {
    "duration": 4,
    "start_time": "2023-05-21T12:20:47.559Z"
   },
   {
    "duration": 179,
    "start_time": "2023-05-21T12:20:48.262Z"
   },
   {
    "duration": 7,
    "start_time": "2023-05-21T12:20:48.621Z"
   },
   {
    "duration": 11,
    "start_time": "2023-05-21T12:20:51.484Z"
   },
   {
    "duration": 53,
    "start_time": "2023-05-21T12:20:52.014Z"
   },
   {
    "duration": 14,
    "start_time": "2023-05-21T12:20:52.963Z"
   },
   {
    "duration": 48,
    "start_time": "2023-05-21T12:20:53.166Z"
   },
   {
    "duration": 108,
    "start_time": "2023-05-21T12:20:53.286Z"
   },
   {
    "duration": 102,
    "start_time": "2023-05-21T12:20:53.465Z"
   },
   {
    "duration": 229,
    "start_time": "2023-05-21T12:20:53.660Z"
   },
   {
    "duration": 731,
    "start_time": "2023-05-21T12:20:53.890Z"
   },
   {
    "duration": 146,
    "start_time": "2023-05-21T12:20:54.623Z"
   },
   {
    "duration": 31,
    "start_time": "2023-05-21T12:20:54.771Z"
   },
   {
    "duration": 21,
    "start_time": "2023-05-21T12:20:55.264Z"
   },
   {
    "duration": 123,
    "start_time": "2023-05-21T12:20:55.702Z"
   },
   {
    "duration": 4,
    "start_time": "2023-05-21T12:20:55.965Z"
   },
   {
    "duration": 109,
    "start_time": "2023-05-21T12:20:56.110Z"
   },
   {
    "duration": 105,
    "start_time": "2023-05-21T12:20:56.465Z"
   },
   {
    "duration": 113,
    "start_time": "2023-05-21T12:20:56.659Z"
   },
   {
    "duration": 64,
    "start_time": "2023-05-21T12:20:56.814Z"
   },
   {
    "duration": 1319,
    "start_time": "2023-05-21T12:20:57.182Z"
   },
   {
    "duration": 1141,
    "start_time": "2023-05-21T12:20:58.503Z"
   },
   {
    "duration": 171,
    "start_time": "2023-05-21T12:20:59.645Z"
   },
   {
    "duration": 253,
    "start_time": "2023-05-21T12:20:59.818Z"
   },
   {
    "duration": 258,
    "start_time": "2023-05-21T12:21:00.074Z"
   },
   {
    "duration": 227,
    "start_time": "2023-05-21T12:21:00.333Z"
   },
   {
    "duration": 144,
    "start_time": "2023-05-21T12:21:00.562Z"
   },
   {
    "duration": 261,
    "start_time": "2023-05-21T12:21:00.709Z"
   },
   {
    "duration": 244,
    "start_time": "2023-05-21T12:21:00.971Z"
   },
   {
    "duration": 248,
    "start_time": "2023-05-21T12:21:01.217Z"
   },
   {
    "duration": 233,
    "start_time": "2023-05-21T12:21:01.983Z"
   },
   {
    "duration": 239,
    "start_time": "2023-05-21T12:21:02.872Z"
   },
   {
    "duration": 10,
    "start_time": "2023-05-21T12:21:04.884Z"
   },
   {
    "duration": 15,
    "start_time": "2023-05-21T12:21:05.273Z"
   },
   {
    "duration": 1243,
    "start_time": "2023-05-21T12:21:18.205Z"
   },
   {
    "duration": 1067,
    "start_time": "2023-05-21T12:21:47.061Z"
   },
   {
    "duration": 302,
    "start_time": "2023-05-21T12:21:49.971Z"
   },
   {
    "duration": 314,
    "start_time": "2023-05-21T12:21:56.461Z"
   },
   {
    "duration": 152,
    "start_time": "2023-05-21T12:22:01.811Z"
   },
   {
    "duration": 294,
    "start_time": "2023-05-21T12:23:04.557Z"
   },
   {
    "duration": 304,
    "start_time": "2023-05-21T12:23:21.364Z"
   },
   {
    "duration": 254,
    "start_time": "2023-05-21T12:23:30.527Z"
   },
   {
    "duration": 255,
    "start_time": "2023-05-21T12:24:21.864Z"
   },
   {
    "duration": 252,
    "start_time": "2023-05-21T12:24:51.858Z"
   },
   {
    "duration": 251,
    "start_time": "2023-05-21T12:25:38.857Z"
   },
   {
    "duration": 296,
    "start_time": "2023-05-21T12:26:03.571Z"
   },
   {
    "duration": 263,
    "start_time": "2023-05-21T12:27:28.383Z"
   },
   {
    "duration": 272,
    "start_time": "2023-05-21T12:28:33.285Z"
   },
   {
    "duration": 273,
    "start_time": "2023-05-21T12:28:39.796Z"
   },
   {
    "duration": 272,
    "start_time": "2023-05-21T12:28:44.798Z"
   },
   {
    "duration": 260,
    "start_time": "2023-05-21T12:28:47.994Z"
   },
   {
    "duration": 272,
    "start_time": "2023-05-21T12:30:18.880Z"
   },
   {
    "duration": 2807,
    "start_time": "2023-05-22T13:32:56.340Z"
   },
   {
    "duration": 45,
    "start_time": "2023-05-22T13:32:59.150Z"
   },
   {
    "duration": 15,
    "start_time": "2023-05-22T13:33:00.310Z"
   },
   {
    "duration": 15,
    "start_time": "2023-05-22T13:33:00.527Z"
   },
   {
    "duration": 4419,
    "start_time": "2023-05-22T13:33:07.124Z"
   },
   {
    "duration": 45,
    "start_time": "2023-05-22T13:33:11.546Z"
   },
   {
    "duration": 29,
    "start_time": "2023-05-22T13:33:11.593Z"
   },
   {
    "duration": 26,
    "start_time": "2023-05-22T13:33:11.624Z"
   },
   {
    "duration": 14,
    "start_time": "2023-05-22T13:33:11.652Z"
   },
   {
    "duration": 42,
    "start_time": "2023-05-22T13:33:11.668Z"
   },
   {
    "duration": 9,
    "start_time": "2023-05-22T13:33:11.713Z"
   },
   {
    "duration": 19,
    "start_time": "2023-05-22T13:33:11.725Z"
   },
   {
    "duration": 29,
    "start_time": "2023-05-22T13:33:11.746Z"
   },
   {
    "duration": 32,
    "start_time": "2023-05-22T13:33:11.778Z"
   },
   {
    "duration": 9,
    "start_time": "2023-05-22T13:33:11.813Z"
   },
   {
    "duration": 10,
    "start_time": "2023-05-22T13:33:11.824Z"
   },
   {
    "duration": 5,
    "start_time": "2023-05-22T13:33:11.837Z"
   },
   {
    "duration": 10,
    "start_time": "2023-05-22T13:33:11.844Z"
   },
   {
    "duration": 279,
    "start_time": "2023-05-22T13:33:11.856Z"
   },
   {
    "duration": 11,
    "start_time": "2023-05-22T13:33:12.137Z"
   },
   {
    "duration": 15,
    "start_time": "2023-05-22T13:33:12.151Z"
   },
   {
    "duration": 72,
    "start_time": "2023-05-22T13:33:12.392Z"
   },
   {
    "duration": 19,
    "start_time": "2023-05-22T13:33:13.263Z"
   },
   {
    "duration": 70,
    "start_time": "2023-05-22T13:33:13.423Z"
   },
   {
    "duration": 157,
    "start_time": "2023-05-22T13:33:13.574Z"
   },
   {
    "duration": 132,
    "start_time": "2023-05-22T13:33:13.752Z"
   },
   {
    "duration": 320,
    "start_time": "2023-05-22T13:33:13.945Z"
   },
   {
    "duration": 966,
    "start_time": "2023-05-22T13:33:14.267Z"
   },
   {
    "duration": 222,
    "start_time": "2023-05-22T13:33:15.235Z"
   },
   {
    "duration": 42,
    "start_time": "2023-05-22T13:33:15.459Z"
   },
   {
    "duration": 64,
    "start_time": "2023-05-22T13:33:15.504Z"
   },
   {
    "duration": 173,
    "start_time": "2023-05-22T13:33:15.685Z"
   },
   {
    "duration": 5,
    "start_time": "2023-05-22T13:33:15.861Z"
   },
   {
    "duration": 149,
    "start_time": "2023-05-22T13:33:16.012Z"
   },
   {
    "duration": 132,
    "start_time": "2023-05-22T13:33:16.212Z"
   },
   {
    "duration": 149,
    "start_time": "2023-05-22T13:33:16.414Z"
   },
   {
    "duration": 66,
    "start_time": "2023-05-22T13:33:16.566Z"
   },
   {
    "duration": 1705,
    "start_time": "2023-05-22T13:33:16.876Z"
   },
   {
    "duration": 1499,
    "start_time": "2023-05-22T13:33:18.583Z"
   },
   {
    "duration": 258,
    "start_time": "2023-05-22T13:33:20.085Z"
   },
   {
    "duration": 345,
    "start_time": "2023-05-22T13:33:20.347Z"
   },
   {
    "duration": 279,
    "start_time": "2023-05-22T13:33:20.697Z"
   },
   {
    "duration": 310,
    "start_time": "2023-05-22T13:33:20.978Z"
   },
   {
    "duration": 185,
    "start_time": "2023-05-22T13:33:21.290Z"
   },
   {
    "duration": 317,
    "start_time": "2023-05-22T13:33:21.478Z"
   },
   {
    "duration": 307,
    "start_time": "2023-05-22T13:33:21.809Z"
   },
   {
    "duration": 339,
    "start_time": "2023-05-22T13:33:22.119Z"
   },
   {
    "duration": 301,
    "start_time": "2023-05-22T13:33:22.460Z"
   },
   {
    "duration": 318,
    "start_time": "2023-05-22T13:33:22.763Z"
   },
   {
    "duration": 10,
    "start_time": "2023-05-22T13:33:25.744Z"
   },
   {
    "duration": 17,
    "start_time": "2023-05-22T13:33:26.261Z"
   },
   {
    "duration": 18,
    "start_time": "2023-05-22T13:33:27.990Z"
   },
   {
    "duration": 143,
    "start_time": "2023-05-22T13:33:29.592Z"
   },
   {
    "duration": 11,
    "start_time": "2023-05-22T13:33:30.527Z"
   },
   {
    "duration": 480,
    "start_time": "2023-05-22T13:33:30.689Z"
   },
   {
    "duration": 119,
    "start_time": "2023-05-22T13:33:32.777Z"
   },
   {
    "duration": 15,
    "start_time": "2023-05-22T13:37:23.241Z"
   },
   {
    "duration": 28,
    "start_time": "2023-05-22T13:37:37.394Z"
   },
   {
    "duration": 20,
    "start_time": "2023-05-22T13:38:09.051Z"
   },
   {
    "duration": 23,
    "start_time": "2023-05-22T13:38:26.819Z"
   },
   {
    "duration": 12,
    "start_time": "2023-05-22T13:40:17.479Z"
   },
   {
    "duration": 20,
    "start_time": "2023-05-22T13:40:28.467Z"
   },
   {
    "duration": 23,
    "start_time": "2023-05-22T13:40:32.200Z"
   },
   {
    "duration": 19,
    "start_time": "2023-05-22T13:40:38.671Z"
   },
   {
    "duration": 297,
    "start_time": "2023-05-22T13:40:40.811Z"
   },
   {
    "duration": 18,
    "start_time": "2023-05-22T13:42:24.153Z"
   },
   {
    "duration": 16,
    "start_time": "2023-05-22T13:42:52.245Z"
   },
   {
    "duration": 15,
    "start_time": "2023-05-22T13:43:00.526Z"
   },
   {
    "duration": 49,
    "start_time": "2023-05-22T13:43:35.711Z"
   },
   {
    "duration": 50,
    "start_time": "2023-05-22T13:43:45.280Z"
   },
   {
    "duration": 17,
    "start_time": "2023-05-22T13:43:52.140Z"
   },
   {
    "duration": 10,
    "start_time": "2023-05-22T13:45:45.656Z"
   },
   {
    "duration": 17,
    "start_time": "2023-05-22T13:45:54.611Z"
   },
   {
    "duration": 16,
    "start_time": "2023-05-22T13:47:47.336Z"
   },
   {
    "duration": 15,
    "start_time": "2023-05-22T13:48:05.870Z"
   },
   {
    "duration": 11,
    "start_time": "2023-05-22T14:11:37.355Z"
   },
   {
    "duration": 284,
    "start_time": "2023-05-22T14:11:42.770Z"
   },
   {
    "duration": 175,
    "start_time": "2023-05-22T14:11:57.254Z"
   },
   {
    "duration": 9359,
    "start_time": "2023-06-15T10:48:19.625Z"
   },
   {
    "duration": 157,
    "start_time": "2023-06-15T10:48:28.987Z"
   },
   {
    "duration": 27,
    "start_time": "2023-06-15T10:48:29.146Z"
   },
   {
    "duration": 23,
    "start_time": "2023-06-15T10:48:29.178Z"
   },
   {
    "duration": 12,
    "start_time": "2023-06-15T10:48:29.203Z"
   },
   {
    "duration": 22,
    "start_time": "2023-06-15T10:48:29.217Z"
   },
   {
    "duration": 29,
    "start_time": "2023-06-15T10:48:29.255Z"
   },
   {
    "duration": 4,
    "start_time": "2023-06-15T10:48:29.775Z"
   },
   {
    "duration": 16,
    "start_time": "2023-06-15T10:48:30.202Z"
   },
   {
    "duration": 23,
    "start_time": "2023-06-15T10:48:30.660Z"
   },
   {
    "duration": 12,
    "start_time": "2023-06-15T10:48:31.704Z"
   },
   {
    "duration": 21,
    "start_time": "2023-06-15T10:48:32.377Z"
   },
   {
    "duration": 7,
    "start_time": "2023-06-15T10:48:33.082Z"
   },
   {
    "duration": 6,
    "start_time": "2023-06-15T10:48:33.495Z"
   },
   {
    "duration": 302,
    "start_time": "2023-06-15T10:48:33.743Z"
   },
   {
    "duration": 12,
    "start_time": "2023-06-15T10:48:34.220Z"
   },
   {
    "duration": 17,
    "start_time": "2023-06-15T10:48:34.626Z"
   },
   {
    "duration": 87,
    "start_time": "2023-06-15T10:48:34.985Z"
   },
   {
    "duration": 29,
    "start_time": "2023-06-15T10:48:35.753Z"
   },
   {
    "duration": 74,
    "start_time": "2023-06-15T10:48:36.001Z"
   },
   {
    "duration": 162,
    "start_time": "2023-06-15T10:48:36.437Z"
   },
   {
    "duration": 133,
    "start_time": "2023-06-15T10:48:36.782Z"
   },
   {
    "duration": 393,
    "start_time": "2023-06-15T10:48:37.000Z"
   },
   {
    "duration": 970,
    "start_time": "2023-06-15T10:48:37.396Z"
   },
   {
    "duration": 265,
    "start_time": "2023-06-15T10:48:38.368Z"
   },
   {
    "duration": 57,
    "start_time": "2023-06-15T10:48:38.636Z"
   },
   {
    "duration": 54,
    "start_time": "2023-06-15T10:48:39.154Z"
   },
   {
    "duration": 195,
    "start_time": "2023-06-15T10:48:40.025Z"
   },
   {
    "duration": 5,
    "start_time": "2023-06-15T10:48:40.413Z"
   },
   {
    "duration": 199,
    "start_time": "2023-06-15T10:48:40.821Z"
   },
   {
    "duration": 147,
    "start_time": "2023-06-15T10:48:41.240Z"
   },
   {
    "duration": 219,
    "start_time": "2023-06-15T10:48:41.645Z"
   },
   {
    "duration": 79,
    "start_time": "2023-06-15T10:48:42.028Z"
   },
   {
    "duration": 1760,
    "start_time": "2023-06-15T10:48:42.433Z"
   },
   {
    "duration": 1709,
    "start_time": "2023-06-15T10:48:44.196Z"
   },
   {
    "duration": 32,
    "start_time": "2023-06-15T10:49:01.720Z"
   },
   {
    "duration": 184,
    "start_time": "2023-06-15T10:49:02.935Z"
   },
   {
    "duration": 6,
    "start_time": "2023-06-15T10:49:03.412Z"
   },
   {
    "duration": 175,
    "start_time": "2023-06-15T10:49:03.917Z"
   },
   {
    "duration": 154,
    "start_time": "2023-06-15T10:49:04.429Z"
   },
   {
    "duration": 175,
    "start_time": "2023-06-15T10:49:04.872Z"
   },
   {
    "duration": 63,
    "start_time": "2023-06-15T10:49:05.648Z"
   },
   {
    "duration": 1530,
    "start_time": "2023-06-15T10:49:06.125Z"
   },
   {
    "duration": 1682,
    "start_time": "2023-06-15T10:49:07.660Z"
   },
   {
    "duration": 284,
    "start_time": "2023-06-15T10:49:09.344Z"
   },
   {
    "duration": 434,
    "start_time": "2023-06-15T10:49:10.679Z"
   },
   {
    "duration": 314,
    "start_time": "2023-06-15T10:49:12.047Z"
   },
   {
    "duration": 259,
    "start_time": "2023-06-15T10:49:14.029Z"
   },
   {
    "duration": 158,
    "start_time": "2023-06-15T10:49:15.542Z"
   },
   {
    "duration": 283,
    "start_time": "2023-06-15T10:49:16.145Z"
   },
   {
    "duration": 369,
    "start_time": "2023-06-15T10:49:17.159Z"
   },
   {
    "duration": 283,
    "start_time": "2023-06-15T10:49:18.105Z"
   },
   {
    "duration": 364,
    "start_time": "2023-06-15T10:49:19.029Z"
   },
   {
    "duration": 269,
    "start_time": "2023-06-15T10:49:31.864Z"
   },
   {
    "duration": 305,
    "start_time": "2023-06-15T10:49:32.321Z"
   },
   {
    "duration": 12,
    "start_time": "2023-06-15T10:49:41.113Z"
   },
   {
    "duration": 19,
    "start_time": "2023-06-15T10:49:42.217Z"
   },
   {
    "duration": 14,
    "start_time": "2023-06-15T10:49:43.943Z"
   },
   {
    "duration": 32,
    "start_time": "2023-06-15T10:49:47.717Z"
   },
   {
    "duration": 15,
    "start_time": "2023-06-15T10:49:48.841Z"
   },
   {
    "duration": 485,
    "start_time": "2023-06-15T10:49:49.313Z"
   }
  ],
  "kernelspec": {
   "display_name": "Python 3 (ipykernel)",
   "language": "python",
   "name": "python3"
  },
  "language_info": {
   "codemirror_mode": {
    "name": "ipython",
    "version": 3
   },
   "file_extension": ".py",
   "mimetype": "text/x-python",
   "name": "python",
   "nbconvert_exporter": "python",
   "pygments_lexer": "ipython3",
   "version": "3.9.5"
  },
  "toc": {
   "base_numbering": 1,
   "nav_menu": {},
   "number_sections": true,
   "sideBar": true,
   "skip_h1_title": true,
   "title_cell": "Table of Contents",
   "title_sidebar": "Contents",
   "toc_cell": false,
   "toc_position": {
    "height": "calc(100% - 180px)",
    "left": "10px",
    "top": "150px",
    "width": "347.246px"
   },
   "toc_section_display": true,
   "toc_window_display": true
  }
 },
 "nbformat": 4,
 "nbformat_minor": 5
}
