{
 "cells": [
  {
   "cell_type": "markdown",
   "metadata": {},
   "source": [
    "## Часть 1. Приоритизация гипотез."
   ]
  },
  {
   "cell_type": "markdown",
   "metadata": {},
   "source": [
    "### Импорт бибилотек и проверка файлов."
   ]
  },
  {
   "cell_type": "code",
   "execution_count": 1,
   "metadata": {},
   "outputs": [],
   "source": [
    "import pandas as pd\n",
    "import datetime as dt\n",
    "import numpy as np\n",
    "import matplotlib.pyplot as plt\n",
    "from pandas.plotting import register_matplotlib_converters\n",
    "import warnings\n",
    "import scipy.stats as stats"
   ]
  },
  {
   "cell_type": "code",
   "execution_count": 2,
   "metadata": {},
   "outputs": [],
   "source": [
    "#прочтём файл\n",
    "hypothesis = pd.read_csv('/datasets/hypothesis.csv')"
   ]
  },
  {
   "cell_type": "code",
   "execution_count": 3,
   "metadata": {},
   "outputs": [
    {
     "name": "stdout",
     "output_type": "stream",
     "text": [
      "<class 'pandas.core.frame.DataFrame'>\n",
      "RangeIndex: 9 entries, 0 to 8\n",
      "Data columns (total 5 columns):\n",
      " #   Column      Non-Null Count  Dtype \n",
      "---  ------      --------------  ----- \n",
      " 0   Hypothesis  9 non-null      object\n",
      " 1   Reach       9 non-null      int64 \n",
      " 2   Impact      9 non-null      int64 \n",
      " 3   Confidence  9 non-null      int64 \n",
      " 4   Efforts     9 non-null      int64 \n",
      "dtypes: int64(4), object(1)\n",
      "memory usage: 488.0+ bytes\n"
     ]
    }
   ],
   "source": [
    "#ознакомимися с информацией датафрайма\n",
    "hypothesis.info()"
   ]
  },
  {
   "cell_type": "code",
   "execution_count": 4,
   "metadata": {},
   "outputs": [
    {
     "data": {
      "text/html": [
       "<div>\n",
       "<style scoped>\n",
       "    .dataframe tbody tr th:only-of-type {\n",
       "        vertical-align: middle;\n",
       "    }\n",
       "\n",
       "    .dataframe tbody tr th {\n",
       "        vertical-align: top;\n",
       "    }\n",
       "\n",
       "    .dataframe thead th {\n",
       "        text-align: right;\n",
       "    }\n",
       "</style>\n",
       "<table border=\"1\" class=\"dataframe\">\n",
       "  <thead>\n",
       "    <tr style=\"text-align: right;\">\n",
       "      <th></th>\n",
       "      <th>Hypothesis</th>\n",
       "      <th>Reach</th>\n",
       "      <th>Impact</th>\n",
       "      <th>Confidence</th>\n",
       "      <th>Efforts</th>\n",
       "    </tr>\n",
       "  </thead>\n",
       "  <tbody>\n",
       "    <tr>\n",
       "      <th>0</th>\n",
       "      <td>Добавить два новых канала привлечения трафика,...</td>\n",
       "      <td>3</td>\n",
       "      <td>10</td>\n",
       "      <td>8</td>\n",
       "      <td>6</td>\n",
       "    </tr>\n",
       "    <tr>\n",
       "      <th>1</th>\n",
       "      <td>Запустить собственную службу доставки, что сок...</td>\n",
       "      <td>2</td>\n",
       "      <td>5</td>\n",
       "      <td>4</td>\n",
       "      <td>10</td>\n",
       "    </tr>\n",
       "    <tr>\n",
       "      <th>2</th>\n",
       "      <td>Добавить блоки рекомендаций товаров на сайт ин...</td>\n",
       "      <td>8</td>\n",
       "      <td>3</td>\n",
       "      <td>7</td>\n",
       "      <td>3</td>\n",
       "    </tr>\n",
       "    <tr>\n",
       "      <th>3</th>\n",
       "      <td>Изменить структура категорий, что увеличит кон...</td>\n",
       "      <td>8</td>\n",
       "      <td>3</td>\n",
       "      <td>3</td>\n",
       "      <td>8</td>\n",
       "    </tr>\n",
       "    <tr>\n",
       "      <th>4</th>\n",
       "      <td>Изменить цвет фона главной страницы, чтобы уве...</td>\n",
       "      <td>3</td>\n",
       "      <td>1</td>\n",
       "      <td>1</td>\n",
       "      <td>1</td>\n",
       "    </tr>\n",
       "    <tr>\n",
       "      <th>5</th>\n",
       "      <td>Добавить страницу отзывов клиентов о магазине,...</td>\n",
       "      <td>3</td>\n",
       "      <td>2</td>\n",
       "      <td>2</td>\n",
       "      <td>3</td>\n",
       "    </tr>\n",
       "    <tr>\n",
       "      <th>6</th>\n",
       "      <td>Показать на главной странице баннеры с актуаль...</td>\n",
       "      <td>5</td>\n",
       "      <td>3</td>\n",
       "      <td>8</td>\n",
       "      <td>3</td>\n",
       "    </tr>\n",
       "    <tr>\n",
       "      <th>7</th>\n",
       "      <td>Добавить форму подписки на все основные страни...</td>\n",
       "      <td>10</td>\n",
       "      <td>7</td>\n",
       "      <td>8</td>\n",
       "      <td>5</td>\n",
       "    </tr>\n",
       "    <tr>\n",
       "      <th>8</th>\n",
       "      <td>Запустить акцию, дающую скидку на товар в день...</td>\n",
       "      <td>1</td>\n",
       "      <td>9</td>\n",
       "      <td>9</td>\n",
       "      <td>5</td>\n",
       "    </tr>\n",
       "  </tbody>\n",
       "</table>\n",
       "</div>"
      ],
      "text/plain": [
       "                                          Hypothesis  Reach  Impact  \\\n",
       "0  Добавить два новых канала привлечения трафика,...      3      10   \n",
       "1  Запустить собственную службу доставки, что сок...      2       5   \n",
       "2  Добавить блоки рекомендаций товаров на сайт ин...      8       3   \n",
       "3  Изменить структура категорий, что увеличит кон...      8       3   \n",
       "4  Изменить цвет фона главной страницы, чтобы уве...      3       1   \n",
       "5  Добавить страницу отзывов клиентов о магазине,...      3       2   \n",
       "6  Показать на главной странице баннеры с актуаль...      5       3   \n",
       "7  Добавить форму подписки на все основные страни...     10       7   \n",
       "8  Запустить акцию, дающую скидку на товар в день...      1       9   \n",
       "\n",
       "   Confidence  Efforts  \n",
       "0           8        6  \n",
       "1           4       10  \n",
       "2           7        3  \n",
       "3           3        8  \n",
       "4           1        1  \n",
       "5           2        3  \n",
       "6           8        3  \n",
       "7           8        5  \n",
       "8           9        5  "
      ]
     },
     "execution_count": 4,
     "metadata": {},
     "output_type": "execute_result"
    }
   ],
   "source": [
    "#выведим строки файла для ознакомления с содержанием\n",
    "hypothesis.head(10)"
   ]
  },
  {
   "cell_type": "markdown",
   "metadata": {},
   "source": [
    "с данными почти всё в порядке, отсутствуют дубликаты/пропуски.  \n",
    "единственное- надо привести нахвания столбцов к нижнему регистру."
   ]
  },
  {
   "cell_type": "code",
   "execution_count": 5,
   "metadata": {},
   "outputs": [],
   "source": [
    "hypothesis.columns = map(str.lower, hypothesis.columns)"
   ]
  },
  {
   "cell_type": "code",
   "execution_count": 6,
   "metadata": {
    "scrolled": true
   },
   "outputs": [
    {
     "data": {
      "text/html": [
       "<div>\n",
       "<style scoped>\n",
       "    .dataframe tbody tr th:only-of-type {\n",
       "        vertical-align: middle;\n",
       "    }\n",
       "\n",
       "    .dataframe tbody tr th {\n",
       "        vertical-align: top;\n",
       "    }\n",
       "\n",
       "    .dataframe thead th {\n",
       "        text-align: right;\n",
       "    }\n",
       "</style>\n",
       "<table border=\"1\" class=\"dataframe\">\n",
       "  <thead>\n",
       "    <tr style=\"text-align: right;\">\n",
       "      <th></th>\n",
       "      <th>hypothesis</th>\n",
       "      <th>reach</th>\n",
       "      <th>impact</th>\n",
       "      <th>confidence</th>\n",
       "      <th>efforts</th>\n",
       "    </tr>\n",
       "  </thead>\n",
       "  <tbody>\n",
       "    <tr>\n",
       "      <th>0</th>\n",
       "      <td>Добавить два новых канала привлечения трафика,...</td>\n",
       "      <td>3</td>\n",
       "      <td>10</td>\n",
       "      <td>8</td>\n",
       "      <td>6</td>\n",
       "    </tr>\n",
       "    <tr>\n",
       "      <th>1</th>\n",
       "      <td>Запустить собственную службу доставки, что сок...</td>\n",
       "      <td>2</td>\n",
       "      <td>5</td>\n",
       "      <td>4</td>\n",
       "      <td>10</td>\n",
       "    </tr>\n",
       "    <tr>\n",
       "      <th>2</th>\n",
       "      <td>Добавить блоки рекомендаций товаров на сайт ин...</td>\n",
       "      <td>8</td>\n",
       "      <td>3</td>\n",
       "      <td>7</td>\n",
       "      <td>3</td>\n",
       "    </tr>\n",
       "    <tr>\n",
       "      <th>3</th>\n",
       "      <td>Изменить структура категорий, что увеличит кон...</td>\n",
       "      <td>8</td>\n",
       "      <td>3</td>\n",
       "      <td>3</td>\n",
       "      <td>8</td>\n",
       "    </tr>\n",
       "    <tr>\n",
       "      <th>4</th>\n",
       "      <td>Изменить цвет фона главной страницы, чтобы уве...</td>\n",
       "      <td>3</td>\n",
       "      <td>1</td>\n",
       "      <td>1</td>\n",
       "      <td>1</td>\n",
       "    </tr>\n",
       "  </tbody>\n",
       "</table>\n",
       "</div>"
      ],
      "text/plain": [
       "                                          hypothesis  reach  impact  \\\n",
       "0  Добавить два новых канала привлечения трафика,...      3      10   \n",
       "1  Запустить собственную службу доставки, что сок...      2       5   \n",
       "2  Добавить блоки рекомендаций товаров на сайт ин...      8       3   \n",
       "3  Изменить структура категорий, что увеличит кон...      8       3   \n",
       "4  Изменить цвет фона главной страницы, чтобы уве...      3       1   \n",
       "\n",
       "   confidence  efforts  \n",
       "0           8        6  \n",
       "1           4       10  \n",
       "2           7        3  \n",
       "3           3        8  \n",
       "4           1        1  "
      ]
     },
     "execution_count": 6,
     "metadata": {},
     "output_type": "execute_result"
    }
   ],
   "source": [
    "hypothesis.head()"
   ]
  },
  {
   "cell_type": "markdown",
   "metadata": {},
   "source": [
    "красота!"
   ]
  },
  {
   "cell_type": "markdown",
   "metadata": {},
   "source": [
    "### Фреймворк ICE для приоритизации гипотез."
   ]
  },
  {
   "cell_type": "code",
   "execution_count": 7,
   "metadata": {},
   "outputs": [
    {
     "data": {
      "text/html": [
       "<div>\n",
       "<style scoped>\n",
       "    .dataframe tbody tr th:only-of-type {\n",
       "        vertical-align: middle;\n",
       "    }\n",
       "\n",
       "    .dataframe tbody tr th {\n",
       "        vertical-align: top;\n",
       "    }\n",
       "\n",
       "    .dataframe thead th {\n",
       "        text-align: right;\n",
       "    }\n",
       "</style>\n",
       "<table border=\"1\" class=\"dataframe\">\n",
       "  <thead>\n",
       "    <tr style=\"text-align: right;\">\n",
       "      <th></th>\n",
       "      <th>hypothesis</th>\n",
       "      <th>ICE</th>\n",
       "    </tr>\n",
       "  </thead>\n",
       "  <tbody>\n",
       "    <tr>\n",
       "      <th>8</th>\n",
       "      <td>Запустить акцию, дающую скидку на товар в день...</td>\n",
       "      <td>16.20</td>\n",
       "    </tr>\n",
       "    <tr>\n",
       "      <th>0</th>\n",
       "      <td>Добавить два новых канала привлечения трафика,...</td>\n",
       "      <td>13.33</td>\n",
       "    </tr>\n",
       "    <tr>\n",
       "      <th>7</th>\n",
       "      <td>Добавить форму подписки на все основные страни...</td>\n",
       "      <td>11.20</td>\n",
       "    </tr>\n",
       "    <tr>\n",
       "      <th>6</th>\n",
       "      <td>Показать на главной странице баннеры с актуаль...</td>\n",
       "      <td>8.00</td>\n",
       "    </tr>\n",
       "    <tr>\n",
       "      <th>2</th>\n",
       "      <td>Добавить блоки рекомендаций товаров на сайт ин...</td>\n",
       "      <td>7.00</td>\n",
       "    </tr>\n",
       "    <tr>\n",
       "      <th>1</th>\n",
       "      <td>Запустить собственную службу доставки, что сок...</td>\n",
       "      <td>2.00</td>\n",
       "    </tr>\n",
       "    <tr>\n",
       "      <th>5</th>\n",
       "      <td>Добавить страницу отзывов клиентов о магазине,...</td>\n",
       "      <td>1.33</td>\n",
       "    </tr>\n",
       "    <tr>\n",
       "      <th>3</th>\n",
       "      <td>Изменить структура категорий, что увеличит кон...</td>\n",
       "      <td>1.12</td>\n",
       "    </tr>\n",
       "    <tr>\n",
       "      <th>4</th>\n",
       "      <td>Изменить цвет фона главной страницы, чтобы уве...</td>\n",
       "      <td>1.00</td>\n",
       "    </tr>\n",
       "  </tbody>\n",
       "</table>\n",
       "</div>"
      ],
      "text/plain": [
       "                                          hypothesis    ICE\n",
       "8  Запустить акцию, дающую скидку на товар в день...  16.20\n",
       "0  Добавить два новых канала привлечения трафика,...  13.33\n",
       "7  Добавить форму подписки на все основные страни...  11.20\n",
       "6  Показать на главной странице баннеры с актуаль...   8.00\n",
       "2  Добавить блоки рекомендаций товаров на сайт ин...   7.00\n",
       "1  Запустить собственную службу доставки, что сок...   2.00\n",
       "5  Добавить страницу отзывов клиентов о магазине,...   1.33\n",
       "3  Изменить структура категорий, что увеличит кон...   1.12\n",
       "4  Изменить цвет фона главной страницы, чтобы уве...   1.00"
      ]
     },
     "execution_count": 7,
     "metadata": {},
     "output_type": "execute_result"
    }
   ],
   "source": [
    "hypothesis['ICE'] = hypothesis['impact'] * hypothesis['confidence'] / hypothesis['efforts']\n",
    "hypothesis_ICE = hypothesis[['hypothesis', 'ICE']].sort_values(by='ICE', ascending=False).round(2)\n",
    "hypothesis_ICE"
   ]
  },
  {
   "cell_type": "markdown",
   "metadata": {},
   "source": [
    "### Фреймворк RICE для приоритизации гипотез."
   ]
  },
  {
   "cell_type": "code",
   "execution_count": 8,
   "metadata": {},
   "outputs": [
    {
     "data": {
      "text/html": [
       "<div>\n",
       "<style scoped>\n",
       "    .dataframe tbody tr th:only-of-type {\n",
       "        vertical-align: middle;\n",
       "    }\n",
       "\n",
       "    .dataframe tbody tr th {\n",
       "        vertical-align: top;\n",
       "    }\n",
       "\n",
       "    .dataframe thead th {\n",
       "        text-align: right;\n",
       "    }\n",
       "</style>\n",
       "<table border=\"1\" class=\"dataframe\">\n",
       "  <thead>\n",
       "    <tr style=\"text-align: right;\">\n",
       "      <th></th>\n",
       "      <th>hypothesis</th>\n",
       "      <th>RICE</th>\n",
       "    </tr>\n",
       "  </thead>\n",
       "  <tbody>\n",
       "    <tr>\n",
       "      <th>7</th>\n",
       "      <td>Добавить форму подписки на все основные страни...</td>\n",
       "      <td>112.0</td>\n",
       "    </tr>\n",
       "    <tr>\n",
       "      <th>2</th>\n",
       "      <td>Добавить блоки рекомендаций товаров на сайт ин...</td>\n",
       "      <td>56.0</td>\n",
       "    </tr>\n",
       "    <tr>\n",
       "      <th>0</th>\n",
       "      <td>Добавить два новых канала привлечения трафика,...</td>\n",
       "      <td>40.0</td>\n",
       "    </tr>\n",
       "    <tr>\n",
       "      <th>6</th>\n",
       "      <td>Показать на главной странице баннеры с актуаль...</td>\n",
       "      <td>40.0</td>\n",
       "    </tr>\n",
       "    <tr>\n",
       "      <th>8</th>\n",
       "      <td>Запустить акцию, дающую скидку на товар в день...</td>\n",
       "      <td>16.2</td>\n",
       "    </tr>\n",
       "    <tr>\n",
       "      <th>3</th>\n",
       "      <td>Изменить структура категорий, что увеличит кон...</td>\n",
       "      <td>9.0</td>\n",
       "    </tr>\n",
       "    <tr>\n",
       "      <th>1</th>\n",
       "      <td>Запустить собственную службу доставки, что сок...</td>\n",
       "      <td>4.0</td>\n",
       "    </tr>\n",
       "    <tr>\n",
       "      <th>5</th>\n",
       "      <td>Добавить страницу отзывов клиентов о магазине,...</td>\n",
       "      <td>4.0</td>\n",
       "    </tr>\n",
       "    <tr>\n",
       "      <th>4</th>\n",
       "      <td>Изменить цвет фона главной страницы, чтобы уве...</td>\n",
       "      <td>3.0</td>\n",
       "    </tr>\n",
       "  </tbody>\n",
       "</table>\n",
       "</div>"
      ],
      "text/plain": [
       "                                          hypothesis   RICE\n",
       "7  Добавить форму подписки на все основные страни...  112.0\n",
       "2  Добавить блоки рекомендаций товаров на сайт ин...   56.0\n",
       "0  Добавить два новых канала привлечения трафика,...   40.0\n",
       "6  Показать на главной странице баннеры с актуаль...   40.0\n",
       "8  Запустить акцию, дающую скидку на товар в день...   16.2\n",
       "3  Изменить структура категорий, что увеличит кон...    9.0\n",
       "1  Запустить собственную службу доставки, что сок...    4.0\n",
       "5  Добавить страницу отзывов клиентов о магазине,...    4.0\n",
       "4  Изменить цвет фона главной страницы, чтобы уве...    3.0"
      ]
     },
     "execution_count": 8,
     "metadata": {},
     "output_type": "execute_result"
    }
   ],
   "source": [
    "hypothesis['RICE'] = hypothesis['impact'] * hypothesis['reach'] * hypothesis['confidence'] / hypothesis['efforts']\n",
    "hypothesis_RICE = hypothesis[['hypothesis', 'RICE']].sort_values(by='RICE', ascending=False).round(2)\n",
    "hypothesis_RICE"
   ]
  },
  {
   "cell_type": "markdown",
   "metadata": {},
   "source": [
    "### Как изменилась приоритизация гипотез при применении RICE вместо ICE."
   ]
  },
  {
   "cell_type": "code",
   "execution_count": 9,
   "metadata": {},
   "outputs": [
    {
     "data": {
      "text/html": [
       "<div>\n",
       "<style scoped>\n",
       "    .dataframe tbody tr th:only-of-type {\n",
       "        vertical-align: middle;\n",
       "    }\n",
       "\n",
       "    .dataframe tbody tr th {\n",
       "        vertical-align: top;\n",
       "    }\n",
       "\n",
       "    .dataframe thead th {\n",
       "        text-align: right;\n",
       "    }\n",
       "</style>\n",
       "<table border=\"1\" class=\"dataframe\">\n",
       "  <thead>\n",
       "    <tr style=\"text-align: right;\">\n",
       "      <th></th>\n",
       "      <th>hypothesis</th>\n",
       "      <th>reach</th>\n",
       "      <th>impact</th>\n",
       "      <th>confidence</th>\n",
       "      <th>efforts</th>\n",
       "      <th>ICE</th>\n",
       "      <th>RICE</th>\n",
       "    </tr>\n",
       "  </thead>\n",
       "  <tbody>\n",
       "    <tr>\n",
       "      <th>8</th>\n",
       "      <td>Запустить акцию, дающую скидку на товар в день...</td>\n",
       "      <td>1</td>\n",
       "      <td>9</td>\n",
       "      <td>9</td>\n",
       "      <td>5</td>\n",
       "      <td>16.20</td>\n",
       "      <td>16.2</td>\n",
       "    </tr>\n",
       "    <tr>\n",
       "      <th>0</th>\n",
       "      <td>Добавить два новых канала привлечения трафика,...</td>\n",
       "      <td>3</td>\n",
       "      <td>10</td>\n",
       "      <td>8</td>\n",
       "      <td>6</td>\n",
       "      <td>13.33</td>\n",
       "      <td>40.0</td>\n",
       "    </tr>\n",
       "    <tr>\n",
       "      <th>7</th>\n",
       "      <td>Добавить форму подписки на все основные страни...</td>\n",
       "      <td>10</td>\n",
       "      <td>7</td>\n",
       "      <td>8</td>\n",
       "      <td>5</td>\n",
       "      <td>11.20</td>\n",
       "      <td>112.0</td>\n",
       "    </tr>\n",
       "    <tr>\n",
       "      <th>6</th>\n",
       "      <td>Показать на главной странице баннеры с актуаль...</td>\n",
       "      <td>5</td>\n",
       "      <td>3</td>\n",
       "      <td>8</td>\n",
       "      <td>3</td>\n",
       "      <td>8.00</td>\n",
       "      <td>40.0</td>\n",
       "    </tr>\n",
       "    <tr>\n",
       "      <th>2</th>\n",
       "      <td>Добавить блоки рекомендаций товаров на сайт ин...</td>\n",
       "      <td>8</td>\n",
       "      <td>3</td>\n",
       "      <td>7</td>\n",
       "      <td>3</td>\n",
       "      <td>7.00</td>\n",
       "      <td>56.0</td>\n",
       "    </tr>\n",
       "    <tr>\n",
       "      <th>1</th>\n",
       "      <td>Запустить собственную службу доставки, что сок...</td>\n",
       "      <td>2</td>\n",
       "      <td>5</td>\n",
       "      <td>4</td>\n",
       "      <td>10</td>\n",
       "      <td>2.00</td>\n",
       "      <td>4.0</td>\n",
       "    </tr>\n",
       "    <tr>\n",
       "      <th>5</th>\n",
       "      <td>Добавить страницу отзывов клиентов о магазине,...</td>\n",
       "      <td>3</td>\n",
       "      <td>2</td>\n",
       "      <td>2</td>\n",
       "      <td>3</td>\n",
       "      <td>1.33</td>\n",
       "      <td>4.0</td>\n",
       "    </tr>\n",
       "    <tr>\n",
       "      <th>3</th>\n",
       "      <td>Изменить структура категорий, что увеличит кон...</td>\n",
       "      <td>8</td>\n",
       "      <td>3</td>\n",
       "      <td>3</td>\n",
       "      <td>8</td>\n",
       "      <td>1.12</td>\n",
       "      <td>9.0</td>\n",
       "    </tr>\n",
       "    <tr>\n",
       "      <th>4</th>\n",
       "      <td>Изменить цвет фона главной страницы, чтобы уве...</td>\n",
       "      <td>3</td>\n",
       "      <td>1</td>\n",
       "      <td>1</td>\n",
       "      <td>1</td>\n",
       "      <td>1.00</td>\n",
       "      <td>3.0</td>\n",
       "    </tr>\n",
       "  </tbody>\n",
       "</table>\n",
       "</div>"
      ],
      "text/plain": [
       "                                          hypothesis  reach  impact  \\\n",
       "8  Запустить акцию, дающую скидку на товар в день...      1       9   \n",
       "0  Добавить два новых канала привлечения трафика,...      3      10   \n",
       "7  Добавить форму подписки на все основные страни...     10       7   \n",
       "6  Показать на главной странице баннеры с актуаль...      5       3   \n",
       "2  Добавить блоки рекомендаций товаров на сайт ин...      8       3   \n",
       "1  Запустить собственную службу доставки, что сок...      2       5   \n",
       "5  Добавить страницу отзывов клиентов о магазине,...      3       2   \n",
       "3  Изменить структура категорий, что увеличит кон...      8       3   \n",
       "4  Изменить цвет фона главной страницы, чтобы уве...      3       1   \n",
       "\n",
       "   confidence  efforts    ICE   RICE  \n",
       "8           9        5  16.20   16.2  \n",
       "0           8        6  13.33   40.0  \n",
       "7           8        5  11.20  112.0  \n",
       "6           8        3   8.00   40.0  \n",
       "2           7        3   7.00   56.0  \n",
       "1           4       10   2.00    4.0  \n",
       "5           2        3   1.33    4.0  \n",
       "3           3        8   1.12    9.0  \n",
       "4           1        1   1.00    3.0  "
      ]
     },
     "execution_count": 9,
     "metadata": {},
     "output_type": "execute_result"
    }
   ],
   "source": [
    "hypothesis.sort_values(by='ICE', ascending=False).round(2)"
   ]
  },
  {
   "cell_type": "markdown",
   "metadata": {},
   "source": [
    "В обеих таблицах очевидно, что тройка лидеров меняется.  \n",
    "В методе ICE на первые три места выходят гипотезы с индексами 8, 0 и 7, в то время как в методе RICE эти места занимают гипотезы с индексами 7.  \n",
    "В гипотезах 7 и 2 этот параметр очень высок (для 7 - 10, что является максимальным значением, для 2 - 8, что также является высоким), в то время как в гипотезе-лидере метода ICE (гипотезе 8) он минимален (равен 1).  \n",
    "  \n",
    "  \n",
    "  \n",
    "С учетом этого, для тестирования стоит предложить гипотезу №7."
   ]
  },
  {
   "cell_type": "markdown",
   "metadata": {},
   "source": [
    "## Часть 2. Анализ A/B-теста"
   ]
  },
  {
   "cell_type": "markdown",
   "metadata": {},
   "source": [
    "Исзодные данные.  \n",
    "\n",
    "Тaблица orders  \n",
    "transactionId — идентификатор заказа;  \n",
    "visitorId — идентификатор пользователя, совершившего заказ;  \n",
    "date — дата, когда был совершён заказ;  \n",
    "revenue — выручка заказа;  \n",
    "group — группа A/B-теста, в которую попал заказ.  \n",
    "\n",
    "\n",
    "Таблица visitors\n",
    "date — дата;  \n",
    "group — группа A/B-теста;  \n",
    "visitors — количество пользователей в указанную дату в указанной группе A/B-теста\n"
   ]
  },
  {
   "cell_type": "markdown",
   "metadata": {},
   "source": [
    "### Гафик кумулятивной выручки по группам"
   ]
  },
  {
   "cell_type": "markdown",
   "metadata": {},
   "source": [
    "#### Подготовка данных"
   ]
  },
  {
   "cell_type": "code",
   "execution_count": 10,
   "metadata": {},
   "outputs": [
    {
     "name": "stdout",
     "output_type": "stream",
     "text": [
      "<class 'pandas.core.frame.DataFrame'>\n",
      "RangeIndex: 1197 entries, 0 to 1196\n",
      "Data columns (total 5 columns):\n",
      " #   Column         Non-Null Count  Dtype \n",
      "---  ------         --------------  ----- \n",
      " 0   transactionId  1197 non-null   int64 \n",
      " 1   visitorId      1197 non-null   int64 \n",
      " 2   date           1197 non-null   object\n",
      " 3   revenue        1197 non-null   int64 \n",
      " 4   group          1197 non-null   object\n",
      "dtypes: int64(3), object(2)\n",
      "memory usage: 46.9+ KB\n"
     ]
    }
   ],
   "source": [
    "# загрузим датафреймы и ознакоамимся с их содержанием\n",
    "orders = pd.read_csv('/datasets/orders.csv')\n",
    "orders.info()"
   ]
  },
  {
   "cell_type": "code",
   "execution_count": 11,
   "metadata": {},
   "outputs": [
    {
     "data": {
      "text/html": [
       "<div>\n",
       "<style scoped>\n",
       "    .dataframe tbody tr th:only-of-type {\n",
       "        vertical-align: middle;\n",
       "    }\n",
       "\n",
       "    .dataframe tbody tr th {\n",
       "        vertical-align: top;\n",
       "    }\n",
       "\n",
       "    .dataframe thead th {\n",
       "        text-align: right;\n",
       "    }\n",
       "</style>\n",
       "<table border=\"1\" class=\"dataframe\">\n",
       "  <thead>\n",
       "    <tr style=\"text-align: right;\">\n",
       "      <th></th>\n",
       "      <th>transactionId</th>\n",
       "      <th>visitorId</th>\n",
       "      <th>date</th>\n",
       "      <th>revenue</th>\n",
       "      <th>group</th>\n",
       "    </tr>\n",
       "  </thead>\n",
       "  <tbody>\n",
       "    <tr>\n",
       "      <th>0</th>\n",
       "      <td>3667963787</td>\n",
       "      <td>3312258926</td>\n",
       "      <td>2019-08-15</td>\n",
       "      <td>1650</td>\n",
       "      <td>B</td>\n",
       "    </tr>\n",
       "    <tr>\n",
       "      <th>1</th>\n",
       "      <td>2804400009</td>\n",
       "      <td>3642806036</td>\n",
       "      <td>2019-08-15</td>\n",
       "      <td>730</td>\n",
       "      <td>B</td>\n",
       "    </tr>\n",
       "    <tr>\n",
       "      <th>2</th>\n",
       "      <td>2961555356</td>\n",
       "      <td>4069496402</td>\n",
       "      <td>2019-08-15</td>\n",
       "      <td>400</td>\n",
       "      <td>A</td>\n",
       "    </tr>\n",
       "    <tr>\n",
       "      <th>3</th>\n",
       "      <td>3797467345</td>\n",
       "      <td>1196621759</td>\n",
       "      <td>2019-08-15</td>\n",
       "      <td>9759</td>\n",
       "      <td>B</td>\n",
       "    </tr>\n",
       "    <tr>\n",
       "      <th>4</th>\n",
       "      <td>2282983706</td>\n",
       "      <td>2322279887</td>\n",
       "      <td>2019-08-15</td>\n",
       "      <td>2308</td>\n",
       "      <td>B</td>\n",
       "    </tr>\n",
       "  </tbody>\n",
       "</table>\n",
       "</div>"
      ],
      "text/plain": [
       "   transactionId   visitorId        date  revenue group\n",
       "0     3667963787  3312258926  2019-08-15     1650     B\n",
       "1     2804400009  3642806036  2019-08-15      730     B\n",
       "2     2961555356  4069496402  2019-08-15      400     A\n",
       "3     3797467345  1196621759  2019-08-15     9759     B\n",
       "4     2282983706  2322279887  2019-08-15     2308     B"
      ]
     },
     "execution_count": 11,
     "metadata": {},
     "output_type": "execute_result"
    }
   ],
   "source": [
    "orders.head()"
   ]
  },
  {
   "cell_type": "code",
   "execution_count": 12,
   "metadata": {},
   "outputs": [
    {
     "name": "stdout",
     "output_type": "stream",
     "text": [
      "кол-во дубликатов: 0\n"
     ]
    }
   ],
   "source": [
    "# переименуем столбцы, переведем столбец с датой в тип даты и проверим на наличие дубликатов.\n",
    "orders.columns = ['transaction_id', 'visitor_id', 'date', 'revenue', 'group']\n",
    "orders['date'] = orders['date'].map(lambda x: dt.datetime.strptime(x, '%Y-%m-%d'))\n",
    "print('кол-во дубликатов:',orders.duplicated().sum())"
   ]
  },
  {
   "cell_type": "code",
   "execution_count": 13,
   "metadata": {},
   "outputs": [
    {
     "name": "stdout",
     "output_type": "stream",
     "text": [
      "<class 'pandas.core.frame.DataFrame'>\n",
      "RangeIndex: 62 entries, 0 to 61\n",
      "Data columns (total 3 columns):\n",
      " #   Column    Non-Null Count  Dtype \n",
      "---  ------    --------------  ----- \n",
      " 0   date      62 non-null     object\n",
      " 1   group     62 non-null     object\n",
      " 2   visitors  62 non-null     int64 \n",
      "dtypes: int64(1), object(2)\n",
      "memory usage: 1.6+ KB\n"
     ]
    }
   ],
   "source": [
    "#проделаем то же с visitors\n",
    "visitors = pd.read_csv('/datasets/visitors.csv') #читаем файл\n",
    "visitors.info()"
   ]
  },
  {
   "cell_type": "code",
   "execution_count": 14,
   "metadata": {},
   "outputs": [
    {
     "data": {
      "text/html": [
       "<div>\n",
       "<style scoped>\n",
       "    .dataframe tbody tr th:only-of-type {\n",
       "        vertical-align: middle;\n",
       "    }\n",
       "\n",
       "    .dataframe tbody tr th {\n",
       "        vertical-align: top;\n",
       "    }\n",
       "\n",
       "    .dataframe thead th {\n",
       "        text-align: right;\n",
       "    }\n",
       "</style>\n",
       "<table border=\"1\" class=\"dataframe\">\n",
       "  <thead>\n",
       "    <tr style=\"text-align: right;\">\n",
       "      <th></th>\n",
       "      <th>date</th>\n",
       "      <th>group</th>\n",
       "      <th>visitors</th>\n",
       "    </tr>\n",
       "  </thead>\n",
       "  <tbody>\n",
       "    <tr>\n",
       "      <th>0</th>\n",
       "      <td>2019-08-01</td>\n",
       "      <td>A</td>\n",
       "      <td>719</td>\n",
       "    </tr>\n",
       "    <tr>\n",
       "      <th>1</th>\n",
       "      <td>2019-08-02</td>\n",
       "      <td>A</td>\n",
       "      <td>619</td>\n",
       "    </tr>\n",
       "    <tr>\n",
       "      <th>2</th>\n",
       "      <td>2019-08-03</td>\n",
       "      <td>A</td>\n",
       "      <td>507</td>\n",
       "    </tr>\n",
       "    <tr>\n",
       "      <th>3</th>\n",
       "      <td>2019-08-04</td>\n",
       "      <td>A</td>\n",
       "      <td>717</td>\n",
       "    </tr>\n",
       "    <tr>\n",
       "      <th>4</th>\n",
       "      <td>2019-08-05</td>\n",
       "      <td>A</td>\n",
       "      <td>756</td>\n",
       "    </tr>\n",
       "  </tbody>\n",
       "</table>\n",
       "</div>"
      ],
      "text/plain": [
       "         date group  visitors\n",
       "0  2019-08-01     A       719\n",
       "1  2019-08-02     A       619\n",
       "2  2019-08-03     A       507\n",
       "3  2019-08-04     A       717\n",
       "4  2019-08-05     A       756"
      ]
     },
     "execution_count": 14,
     "metadata": {},
     "output_type": "execute_result"
    }
   ],
   "source": [
    "visitors.head()"
   ]
  },
  {
   "cell_type": "code",
   "execution_count": 15,
   "metadata": {},
   "outputs": [
    {
     "name": "stdout",
     "output_type": "stream",
     "text": [
      "кол-во дубликатов: 0\n"
     ]
    }
   ],
   "source": [
    "# переведем столбец с датой в тип даты и проверим на наличие дубликатов.\n",
    "visitors['date'] = visitors['date'].map(lambda x: dt.datetime.strptime(x, '%Y-%m-%d'))\n",
    "print('кол-во дубликатов:',visitors.duplicated().sum())"
   ]
  },
  {
   "cell_type": "code",
   "execution_count": 16,
   "metadata": {},
   "outputs": [
    {
     "name": "stdout",
     "output_type": "stream",
     "text": [
      "<class 'pandas.core.frame.DataFrame'>\n",
      "RangeIndex: 62 entries, 0 to 61\n",
      "Data columns (total 3 columns):\n",
      " #   Column    Non-Null Count  Dtype         \n",
      "---  ------    --------------  -----         \n",
      " 0   date      62 non-null     datetime64[ns]\n",
      " 1   group     62 non-null     object        \n",
      " 2   visitors  62 non-null     int64         \n",
      "dtypes: datetime64[ns](1), int64(1), object(1)\n",
      "memory usage: 1.6+ KB\n"
     ]
    }
   ],
   "source": [
    "visitors.info()"
   ]
  },
  {
   "cell_type": "markdown",
   "metadata": {},
   "source": [
    "### Тест"
   ]
  },
  {
   "cell_type": "code",
   "execution_count": 17,
   "metadata": {},
   "outputs": [],
   "source": [
    "#cоздадим датафрейм datesGroups с уникальными парами значений 'date' и 'group' из таблицы orders.  \n",
    "#также избавимся от дубликатов.\n",
    "datesGroups = orders [['date', 'group']].drop_duplicates()"
   ]
  },
  {
   "cell_type": "code",
   "execution_count": 18,
   "metadata": {},
   "outputs": [],
   "source": [
    "# создадим переменную ordersAggregated, в которую будет входить дата, группа теста, число уникальных заказов в группе теста,\n",
    "# число уникальных пользователей, которые совершили хотя бы 1 заказ в группе\n",
    "\n",
    "ordersAggregated = datesGroups.apply(lambda x: orders[np.logical_and(orders['date'] <= x['date'], \\\n",
    "orders['group'] == x['group'])].agg({'date' : 'max', 'group' : 'max', 'transaction_id' : 'nunique',\n",
    "                                     'visitor_id' : 'nunique', 'revenue' : 'sum'}), axis=1)\\\n",
    ".sort_values(by=['date','group'])"
   ]
  },
  {
   "cell_type": "code",
   "execution_count": 19,
   "metadata": {},
   "outputs": [],
   "source": [
    "# создадим переменную visitorsAggregated, в которую входит: дата, группу теста,\n",
    "# количество уникальных посетителей в группе теста.\n",
    "\n",
    "visitorsAggregated = datesGroups.apply(lambda x: visitors[np.logical_and(visitors['date'] <= x['date'],\\\n",
    "                                                                         visitors['group'] == x['group'])]\\\n",
    "                                       .agg({'date' : 'max', 'group' : 'max', 'visitors' : 'sum'}), axis=1)\\\n",
    ".sort_values(by=['date','group']) "
   ]
  },
  {
   "cell_type": "code",
   "execution_count": 20,
   "metadata": {},
   "outputs": [],
   "source": [
    "# отсортируем переменные по столбцам 'date', 'group' и присвоим им перменную cumulativeData\n",
    "\n",
    "cumulativeData = ordersAggregated.merge(visitorsAggregated, left_on=['date', 'group'], right_on=['date', 'group'])"
   ]
  },
  {
   "cell_type": "code",
   "execution_count": 21,
   "metadata": {},
   "outputs": [],
   "source": [
    "# присвоим столбцам cumulativeData названия ['date', 'group', 'orders', 'buyers', 'revenue', 'visitors']\n",
    "cumulativeData.columns = ['date', 'group', 'orders', 'buyers', 'revenue', 'visitors']"
   ]
  },
  {
   "cell_type": "code",
   "execution_count": 22,
   "metadata": {},
   "outputs": [
    {
     "data": {
      "text/html": [
       "<div>\n",
       "<style scoped>\n",
       "    .dataframe tbody tr th:only-of-type {\n",
       "        vertical-align: middle;\n",
       "    }\n",
       "\n",
       "    .dataframe tbody tr th {\n",
       "        vertical-align: top;\n",
       "    }\n",
       "\n",
       "    .dataframe thead th {\n",
       "        text-align: right;\n",
       "    }\n",
       "</style>\n",
       "<table border=\"1\" class=\"dataframe\">\n",
       "  <thead>\n",
       "    <tr style=\"text-align: right;\">\n",
       "      <th></th>\n",
       "      <th>date</th>\n",
       "      <th>group</th>\n",
       "      <th>orders</th>\n",
       "      <th>buyers</th>\n",
       "      <th>revenue</th>\n",
       "      <th>visitors</th>\n",
       "    </tr>\n",
       "  </thead>\n",
       "  <tbody>\n",
       "    <tr>\n",
       "      <th>0</th>\n",
       "      <td>2019-08-01</td>\n",
       "      <td>A</td>\n",
       "      <td>24</td>\n",
       "      <td>20</td>\n",
       "      <td>148579</td>\n",
       "      <td>719</td>\n",
       "    </tr>\n",
       "    <tr>\n",
       "      <th>1</th>\n",
       "      <td>2019-08-01</td>\n",
       "      <td>B</td>\n",
       "      <td>21</td>\n",
       "      <td>20</td>\n",
       "      <td>101217</td>\n",
       "      <td>713</td>\n",
       "    </tr>\n",
       "    <tr>\n",
       "      <th>2</th>\n",
       "      <td>2019-08-02</td>\n",
       "      <td>A</td>\n",
       "      <td>44</td>\n",
       "      <td>38</td>\n",
       "      <td>242401</td>\n",
       "      <td>1338</td>\n",
       "    </tr>\n",
       "    <tr>\n",
       "      <th>3</th>\n",
       "      <td>2019-08-02</td>\n",
       "      <td>B</td>\n",
       "      <td>45</td>\n",
       "      <td>43</td>\n",
       "      <td>266748</td>\n",
       "      <td>1294</td>\n",
       "    </tr>\n",
       "    <tr>\n",
       "      <th>4</th>\n",
       "      <td>2019-08-03</td>\n",
       "      <td>A</td>\n",
       "      <td>68</td>\n",
       "      <td>62</td>\n",
       "      <td>354874</td>\n",
       "      <td>1845</td>\n",
       "    </tr>\n",
       "  </tbody>\n",
       "</table>\n",
       "</div>"
      ],
      "text/plain": [
       "        date group  orders  buyers  revenue  visitors\n",
       "0 2019-08-01     A      24      20   148579       719\n",
       "1 2019-08-01     B      21      20   101217       713\n",
       "2 2019-08-02     A      44      38   242401      1338\n",
       "3 2019-08-02     B      45      43   266748      1294\n",
       "4 2019-08-03     A      68      62   354874      1845"
      ]
     },
     "execution_count": 22,
     "metadata": {},
     "output_type": "execute_result"
    }
   ],
   "source": [
    "# ощнакомимся с первыми 5 строками новой переменной\n",
    "cumulativeData.head(5)"
   ]
  },
  {
   "cell_type": "markdown",
   "metadata": {},
   "source": [
    "Создадим переменные cumulativeRevenueA и cumulativeRevenueB, в них сохраним данные о дате, выручке и числе заказов в группах A и B. Построим графики кумулятивной выручки по дням по группам."
   ]
  },
  {
   "cell_type": "markdown",
   "metadata": {},
   "source": [
    "#### График кумулятивной выручки по группам"
   ]
  },
  {
   "cell_type": "code",
   "execution_count": 23,
   "metadata": {},
   "outputs": [
    {
     "data": {
      "image/png": "[encoded data removed]",
      "text/plain": [
       "<Figure size 432x288 with 1 Axes>"
      ]
     },
     "metadata": {
      "needs_background": "light"
     },
     "output_type": "display_data"
    }
   ],
   "source": [
    "cumulativeRevenueA = cumulativeData[cumulativeData['group']=='A'][['date','revenue', 'orders']]\n",
    "\n",
    "# датафрейм с кумулятивным количеством заказов и кумулятивной выручкой по дням в группе B\n",
    "cumulativeRevenueB = cumulativeData[cumulativeData['group']=='B'][['date','revenue', 'orders']]\n",
    "\n",
    "# Строим график выручки группы А\n",
    "plt.plot(cumulativeRevenueA['date'], cumulativeRevenueA['revenue'], label='A')\n",
    "\n",
    "# Строим график выручки группы B\n",
    "plt.plot(cumulativeRevenueB['date'], cumulativeRevenueB['revenue'], label='B')\n",
    "plt.xlabel('дата')\n",
    "plt.ylabel('выручка')\n",
    "plt.title(\"кумулятивная выручка по дням и группам A/B-тестирования\")\n",
    "plt.legend() \n",
    "plt.xticks(rotation=90)\n",
    "plt.show()"
   ]
  },
  {
   "cell_type": "markdown",
   "metadata": {},
   "source": [
    "В первой половине месяца заметно, что группа \"B\" имеет небольшое преимущество в росте выручки по сравнению с группой \"A\". На 13 августа обе группы имеют примерно равную выручку. Во второй половине месяца группа \"B\" становится явным лидером, её выручка значительно превышает выручку группы \"A\". Однако стоит отметить резкий всплеск выручки в группе \"B\" 19 августа, что вероятнее всего связано с крупными заказами. По графикам можно предположить, что без этого всплеска выручки в обеих группах росли приблизительно одинаково, либо в этот день было осуществлено очень много заказов."
   ]
  },
  {
   "cell_type": "code",
   "execution_count": 24,
   "metadata": {
    "scrolled": true
   },
   "outputs": [
    {
     "name": "stdout",
     "output_type": "stream",
     "text": [
      "медианное значение одного заказа 19 августа = 2630.0\n"
     ]
    },
    {
     "data": {
      "text/html": [
       "<div>\n",
       "<style scoped>\n",
       "    .dataframe tbody tr th:only-of-type {\n",
       "        vertical-align: middle;\n",
       "    }\n",
       "\n",
       "    .dataframe tbody tr th {\n",
       "        vertical-align: top;\n",
       "    }\n",
       "\n",
       "    .dataframe thead th {\n",
       "        text-align: right;\n",
       "    }\n",
       "</style>\n",
       "<table border=\"1\" class=\"dataframe\">\n",
       "  <thead>\n",
       "    <tr style=\"text-align: right;\">\n",
       "      <th></th>\n",
       "      <th>transaction_id</th>\n",
       "      <th>visitor_id</th>\n",
       "      <th>date</th>\n",
       "      <th>revenue</th>\n",
       "      <th>group</th>\n",
       "    </tr>\n",
       "  </thead>\n",
       "  <tbody>\n",
       "    <tr>\n",
       "      <th>425</th>\n",
       "      <td>590470918</td>\n",
       "      <td>1920142716</td>\n",
       "      <td>2019-08-19</td>\n",
       "      <td>1294500</td>\n",
       "      <td>B</td>\n",
       "    </tr>\n",
       "    <tr>\n",
       "      <th>530</th>\n",
       "      <td>3970235543</td>\n",
       "      <td>2912540959</td>\n",
       "      <td>2019-08-19</td>\n",
       "      <td>43990</td>\n",
       "      <td>A</td>\n",
       "    </tr>\n",
       "    <tr>\n",
       "      <th>527</th>\n",
       "      <td>1570513684</td>\n",
       "      <td>2837914161</td>\n",
       "      <td>2019-08-19</td>\n",
       "      <td>33405</td>\n",
       "      <td>B</td>\n",
       "    </tr>\n",
       "    <tr>\n",
       "      <th>421</th>\n",
       "      <td>3765974140</td>\n",
       "      <td>1357170471</td>\n",
       "      <td>2019-08-19</td>\n",
       "      <td>31680</td>\n",
       "      <td>A</td>\n",
       "    </tr>\n",
       "    <tr>\n",
       "      <th>461</th>\n",
       "      <td>2683113224</td>\n",
       "      <td>154576532</td>\n",
       "      <td>2019-08-19</td>\n",
       "      <td>26550</td>\n",
       "      <td>B</td>\n",
       "    </tr>\n",
       "    <tr>\n",
       "      <th>525</th>\n",
       "      <td>3031564664</td>\n",
       "      <td>393266494</td>\n",
       "      <td>2019-08-19</td>\n",
       "      <td>21550</td>\n",
       "      <td>A</td>\n",
       "    </tr>\n",
       "    <tr>\n",
       "      <th>368</th>\n",
       "      <td>3268879337</td>\n",
       "      <td>2536252163</td>\n",
       "      <td>2019-08-19</td>\n",
       "      <td>20026</td>\n",
       "      <td>B</td>\n",
       "    </tr>\n",
       "    <tr>\n",
       "      <th>366</th>\n",
       "      <td>2037051350</td>\n",
       "      <td>1957949546</td>\n",
       "      <td>2019-08-19</td>\n",
       "      <td>16770</td>\n",
       "      <td>A</td>\n",
       "    </tr>\n",
       "  </tbody>\n",
       "</table>\n",
       "</div>"
      ],
      "text/plain": [
       "     transaction_id  visitor_id       date  revenue group\n",
       "425       590470918  1920142716 2019-08-19  1294500     B\n",
       "530      3970235543  2912540959 2019-08-19    43990     A\n",
       "527      1570513684  2837914161 2019-08-19    33405     B\n",
       "421      3765974140  1357170471 2019-08-19    31680     A\n",
       "461      2683113224   154576532 2019-08-19    26550     B\n",
       "525      3031564664   393266494 2019-08-19    21550     A\n",
       "368      3268879337  2536252163 2019-08-19    20026     B\n",
       "366      2037051350  1957949546 2019-08-19    16770     A"
      ]
     },
     "execution_count": 24,
     "metadata": {},
     "output_type": "execute_result"
    }
   ],
   "source": [
    "print('медианное значение одного заказа 19 августа =',orders.query(' date == \"2019-08-19\" ')['revenue'].median())\n",
    "orders.query(' date == \"2019-08-19\" ').sort_values(by='revenue', ascending=False).head(8)"
   ]
  },
  {
   "cell_type": "markdown",
   "metadata": {},
   "source": [
    "видим, что да, был такой заказ №425 на аномально большую сумму."
   ]
  },
  {
   "cell_type": "markdown",
   "metadata": {},
   "source": [
    "#### График кумулятивного среднего чека по группам"
   ]
  },
  {
   "cell_type": "code",
   "execution_count": 25,
   "metadata": {},
   "outputs": [
    {
     "data": {
      "image/png": "[encoded data removed]",
      "text/plain": [
       "<Figure size 432x288 with 1 Axes>"
      ]
     },
     "metadata": {
      "needs_background": "light"
     },
     "output_type": "display_data"
    }
   ],
   "source": [
    "plt.plot(cumulativeRevenueA['date'], cumulativeRevenueA['revenue']/cumulativeRevenueA['orders'], label='A')\n",
    "plt.plot(cumulativeRevenueB['date'], cumulativeRevenueB['revenue']/cumulativeRevenueB['orders'], label='B')\n",
    "plt.xlabel('дата')\n",
    "plt.ylabel('средний чек')\n",
    "plt.title(\"кумулятивный средний чек по дням и группам A/B-тестирования\")\n",
    "plt.legend() \n",
    "plt.xticks(rotation=90)\n",
    "plt.show()"
   ]
  },
  {
   "cell_type": "markdown",
   "metadata": {},
   "source": [
    "Как и в предыдущем графике, в то же время кумулятивный средний чек в сегменте В значительно возрос.  \n",
    "Однако, затем он постепенно постепенно снижается.  "
   ]
  },
  {
   "cell_type": "markdown",
   "metadata": {},
   "source": [
    "#### График относительного изменения кумулятивного среднего чека группы B к группе A"
   ]
  },
  {
   "cell_type": "code",
   "execution_count": 26,
   "metadata": {},
   "outputs": [
    {
     "data": {
      "image/png": "[encoded data removed]",
      "text/plain": [
       "<Figure size 432x288 with 1 Axes>"
      ]
     },
     "metadata": {
      "needs_background": "light"
     },
     "output_type": "display_data"
    }
   ],
   "source": [
    "mergedCumulativeRevenue = cumulativeRevenueA.merge(cumulativeRevenueB, left_on='date', right_on='date', how='left', suffixes=['A', 'B'])\n",
    "\n",
    "# cтроим отношение средних чеков\n",
    "plt.plot(mergedCumulativeRevenue['date'], (mergedCumulativeRevenue['revenueB']/mergedCumulativeRevenue['ordersB'])/(mergedCumulativeRevenue['revenueA']/mergedCumulativeRevenue['ordersA'])-1)\n",
    "\n",
    "# добавляем ось X\n",
    "plt.axhline(y=0, color='black', linestyle='--') \n",
    "plt.xlabel('дата')\n",
    "plt.ylabel('различие среднего чека')\n",
    "plt.title(\"относительное различие для среднего чека\")\n",
    "plt.xticks(rotation=90)\n",
    "plt.show()"
   ]
  },
  {
   "cell_type": "markdown",
   "metadata": {},
   "source": [
    "На нескольких точках график, отображающий разницу между сегментами, резко меняет свое значение, что, вероятно, связано с аномалиями с заказами.  \n",
    "Но в целом график расположен выше нуля."
   ]
  },
  {
   "cell_type": "markdown",
   "metadata": {},
   "source": [
    "#### График кумулятивного среднего количества заказов на посетителя по группам (конверсии)."
   ]
  },
  {
   "cell_type": "code",
   "execution_count": 27,
   "metadata": {},
   "outputs": [
    {
     "data": {
      "image/png": "[encoded data removed]",
      "text/plain": [
       "<Figure size 1080x360 with 1 Axes>"
      ]
     },
     "metadata": {
      "needs_background": "light"
     },
     "output_type": "display_data"
    }
   ],
   "source": [
    "cumulativeData['conversion'] = cumulativeData['orders']/cumulativeData['visitors']\n",
    "\n",
    "cumulativeDataA = cumulativeData[cumulativeData['group']=='A']\n",
    "cumulativeDataB = cumulativeData[cumulativeData['group']=='B']\n",
    "\n",
    "plt.figure(figsize=(15,5))\n",
    "plt.grid()\n",
    "plt.plot(cumulativeDataA['date'], cumulativeDataA['conversion'], label='кумулятивная конверсия A')\n",
    "plt.plot(cumulativeDataB['date'], cumulativeDataB['conversion'], label='кумулятивная конверсия B')\n",
    "plt.title('кумулятивная конверсия')\n",
    "plt.legend();\n"
   ]
  },
  {
   "cell_type": "markdown",
   "metadata": {},
   "source": [
    "С начала месяца и до 5 августа конверсия группы \"A\" была значительно выше, причем 3 августа она достигла максимального значения за весь период исследования, за исключением 2 августа.  \n",
    "Однако после достижения пика конверсия стала резко падать и с 9 августа продолжала находиться на минимальном уровне, колеблясь в диапазоне от 0,029 до 0,031.  \n",
    "Конверсия группы \"B\" начала расти с 4 августа и уже к 6 августа превысила конверсию группы \"A\", продолжая расти до 10 августа, когда достигла пика чуть выше 0,036.  \n",
    "Затем началось постепенное снижение конверсии, но с 15 по 17 августа произошел всплеск роста, и конверсия достигла чуть менее 0,036.  \n",
    "\n",
    "В итоге можно сделать вывод, что в целом конверсия группы \"B\" значительно выше конверсии группы \"A\" (начиная с 6 августа конверсия \"B\" стабильно выше \"A\")."
   ]
  },
  {
   "cell_type": "markdown",
   "metadata": {},
   "source": [
    "#### График относительного изменения кумулятивного среднего количества заказов на посетителя группы B к группе A"
   ]
  },
  {
   "cell_type": "code",
   "execution_count": 28,
   "metadata": {},
   "outputs": [
    {
     "data": {
      "image/png": "[encoded data removed]",
      "text/plain": [
       "<Figure size 1080x360 with 1 Axes>"
      ]
     },
     "metadata": {
      "needs_background": "light"
     },
     "output_type": "display_data"
    }
   ],
   "source": [
    "mergedCumulativeConversions = cumulativeDataA[['date','conversion']].merge(cumulativeDataB[['date','conversion']], \\\n",
    "                                                    left_on='date', right_on='date', how='left', suffixes=['A', 'B'])\n",
    "plt.figure(figsize=(15,5))\n",
    "plt.grid()\n",
    "plt.plot(mergedCumulativeConversions['date'], mergedCumulativeConversions['conversionB']/mergedCumulativeConversions['conversionA']-1, label=\"Относительный прирост конверсии группы B относительно группы A\")\n",
    "\n",
    "plt.title('относительное изменение кумулятивной конверсии группы B к группе A')\n",
    "\n",
    "plt.axhline(y=0, color='black', linestyle='--') \n",
    "plt.axhline(y=0.1, color='grey', linestyle='--')\n",
    "plt.axhline(y=0.21, color='grey', linestyle='--')\n",
    "plt.axhline(y=0.057, color='grey', linestyle='--');"
   ]
  },
  {
   "cell_type": "markdown",
   "metadata": {},
   "source": [
    "С 1 по 5 августа конверсия в группе \"A\" была выше на 5-10% по сравнению с группой \"B\", за исключением 2 августа, когда в группе \"B\" произошел резкий рост конверсии, и результат этой группы на конец дня превысил результат группы \"A\" на 5%.  \n",
    "Стоит отметить, что 2 августа произошел значительный рост конверсии в обеих группах, что может свидетельствовать о проведении маркетинговой акции или предложении скидок и т.д., как это было отражено в пункте 3.4.  \n",
    "Начиная с 6 августа и до конца периода наблюдения группа \"B\" стала лидировать, ее конверсия продолжала расти до 15 августа, достигнув максимального отрыва от группы \"A\" на 21%, затем пошло постепенное снижение относительной конверсии до уровня 10%/14%."
   ]
  },
  {
   "cell_type": "markdown",
   "metadata": {},
   "source": [
    "#### Точечный график количества заказов по пользователям. "
   ]
  },
  {
   "cell_type": "code",
   "execution_count": 29,
   "metadata": {},
   "outputs": [
    {
     "name": "stdout",
     "output_type": "stream",
     "text": [
      "      visitor_id  transaction_id\n",
      "1023  4256040402              11\n",
      "591   2458001652              11\n",
      "569   2378935119               9\n",
      "487   2038680547               8\n",
      "44     199603092               5\n",
      "744   3062433592               5\n",
      "55     237748145               5\n",
      "917   3803269165               5\n",
      "299   1230306981               5\n",
      "897   3717692402               5\n"
     ]
    },
    {
     "data": {
      "image/png": "[encoded data removed]",
      "text/plain": [
       "<Figure size 432x288 with 1 Axes>"
      ]
     },
     "metadata": {
      "needs_background": "light"
     },
     "output_type": "display_data"
    }
   ],
   "source": [
    "ordersByUsers = (\n",
    "    orders.groupby('visitor_id', as_index=False)\n",
    "    .agg({'transaction_id': 'nunique'})\n",
    ")\n",
    "ordersByUsers.columns = ['visitor_id', 'transaction_id']\n",
    "\n",
    "print(ordersByUsers.sort_values(by='transaction_id', ascending=False).head(10))\n",
    "\n",
    "# серия из чисел от 0 до количества наблюдений в ordersByUsers\n",
    "x_values = pd.Series(range(0, len(ordersByUsers)))\n",
    "plt.scatter(x_values, ordersByUsers['transaction_id']) \n",
    "plt.xlabel('Пользователи')\n",
    "plt.ylabel('Количество заказов')\n",
    "plt.title(\"Количество заказов по пользователям\")\n",
    "plt.show()"
   ]
  },
  {
   "cell_type": "markdown",
   "metadata": {},
   "source": [
    "Пользователи, которые совершают более 2 заказов, представлены нечасто."
   ]
  },
  {
   "cell_type": "markdown",
   "metadata": {},
   "source": [
    "#### 95-й и 99-й перцентили количества заказов на пользователя"
   ]
  },
  {
   "cell_type": "code",
   "execution_count": 30,
   "metadata": {},
   "outputs": [
    {
     "name": "stdout",
     "output_type": "stream",
     "text": [
      "      visitor_id  transaction_id\n",
      "1023  4256040402              11\n",
      "591   2458001652              11\n",
      "569   2378935119               9\n",
      "487   2038680547               8\n",
      "44     199603092               5\n",
      "744   3062433592               5\n",
      "55     237748145               5\n",
      "917   3803269165               5\n",
      "299   1230306981               5\n",
      "897   3717692402               5\n",
      "[2. 4.]\n"
     ]
    }
   ],
   "source": [
    "print(ordersByUsers.sort_values(by='transaction_id', ascending=False).head(10))\n",
    "\n",
    "print(np.percentile(ordersByUsers['transaction_id'], [ 95, 99]))"
   ]
  },
  {
   "cell_type": "markdown",
   "metadata": {},
   "source": [
    "Менее 5% пользователей делали более 2 заказов."
   ]
  },
  {
   "cell_type": "markdown",
   "metadata": {},
   "source": [
    "####  Точечный график стоимостей заказов."
   ]
  },
  {
   "cell_type": "code",
   "execution_count": 31,
   "metadata": {},
   "outputs": [
    {
     "data": {
      "image/png": "[encoded data removed]",
      "text/plain": [
       "<Figure size 432x288 with 1 Axes>"
      ]
     },
     "metadata": {
      "needs_background": "light"
     },
     "output_type": "display_data"
    }
   ],
   "source": [
    "x_values = pd.Series(range(0, len(orders['revenue'])))\n",
    "plt.scatter(x_values, orders['revenue']) \n",
    "plt.xlabel('пользователи')\n",
    "plt.ylabel('стоимость заказов')\n",
    "plt.title(\"стоимости заказов\")\n",
    "plt.show()"
   ]
  },
  {
   "cell_type": "markdown",
   "metadata": {},
   "source": [
    "В данных имеются два выброса: один в районе 1 250 000 и другой - в районе 200 000.   \n",
    "Эти значения выглядят весьма аномальными."
   ]
  },
  {
   "cell_type": "markdown",
   "metadata": {},
   "source": [
    "#### 95-й и 99-й перцентили стоимости заказов."
   ]
  },
  {
   "cell_type": "code",
   "execution_count": 32,
   "metadata": {},
   "outputs": [
    {
     "name": "stdout",
     "output_type": "stream",
     "text": [
      "   transaction_id  visitor_id       date  revenue group\n",
      "0      3667963787  3312258926 2019-08-15     1650     B\n",
      "1      2804400009  3642806036 2019-08-15      730     B\n",
      "2      2961555356  4069496402 2019-08-15      400     A\n",
      "3      3797467345  1196621759 2019-08-15     9759     B\n",
      "4      2282983706  2322279887 2019-08-15     2308     B\n",
      "5       182168103   935554773 2019-08-15     2210     B\n",
      "6       398296753  2900797465 2019-08-15     1860     B\n",
      "7      2626614568    78758296 2019-08-15     1044     A\n",
      "8      1576988021   295230930 2019-08-15    13710     A\n",
      "9      1506739906  1882260405 2019-08-15     1855     B\n",
      "[28000.  58233.2]\n"
     ]
    }
   ],
   "source": [
    "print(orders.head(10))\n",
    "print(np.percentile(orders['revenue'] , [95, 99]))"
   ]
  },
  {
   "cell_type": "markdown",
   "metadata": {},
   "source": [
    "Менее 5% пользователей совершали покупки на сумму выше 28 000.  \n",
    "Только 1% пользователей сделали заказы, превышающие 58 233."
   ]
  },
  {
   "cell_type": "markdown",
   "metadata": {},
   "source": [
    "#### Статистическая значимость различий в среднем количестве заказов на посетителя между группами по «сырым» данным"
   ]
  },
  {
   "cell_type": "markdown",
   "metadata": {},
   "source": [
    "Сформируем две переменные - ordersByUsersA и ordersByUsersB, каждая из которых будет содержать столбцы ['visitor_id', 'transaction_id'].  \n",
    "В них мы укажем количество заказов для каждого пользователя, который хотя бы один раз осуществил заказ."
   ]
  },
  {
   "cell_type": "code",
   "execution_count": 33,
   "metadata": {},
   "outputs": [],
   "source": [
    "visitorsADaily = visitors[visitors['group'] == 'A'][['date', 'visitors']]\n",
    "visitorsADaily.columns = ['date', 'visitorsPerDateA']\n",
    "\n",
    "visitorsACummulative = visitorsADaily.apply(\n",
    "    lambda x: visitorsADaily[visitorsADaily['date'] <= x['date']].agg(\n",
    "        {'date': 'max', 'visitorsPerDateA': 'sum'}\n",
    "    ),\n",
    "    axis=1,\n",
    ")\n",
    "visitorsACummulative.columns = ['date', 'visitorsCummulativeA']\n",
    "\n",
    "visitorsBDaily = visitors[visitors['group'] == 'B'][['date', 'visitors']]\n",
    "visitorsBDaily.columns = ['date', 'visitorsPerDateB']\n",
    "\n",
    "visitorsBCummulative = visitorsBDaily.apply(\n",
    "    lambda x: visitorsBDaily[visitorsBDaily['date'] <= x['date']].agg(\n",
    "        {'date': 'max', 'visitorsPerDateB': 'sum'}\n",
    "    ),\n",
    "    axis=1,\n",
    ")\n",
    "visitorsBCummulative.columns = ['date', 'visitorsCummulativeB']\n",
    "\n",
    "ordersADaily = (\n",
    "    orders[orders['group'] == 'A'][['date', 'transaction_id', 'visitor_id', 'revenue']]\n",
    "    .groupby('date', as_index=False)\n",
    "    .agg({'transaction_id': pd.Series.nunique, 'revenue': 'sum'})\n",
    ")\n",
    "ordersADaily.columns = ['date', 'ordersPerDateA', 'revenuePerDateA']\n",
    "\n",
    "ordersACummulative = ordersADaily.apply(\n",
    "    lambda x: ordersADaily[ordersADaily['date'] <= x['date']].agg(\n",
    "        {'date': 'max', 'ordersPerDateA': 'sum', 'revenuePerDateA': 'sum'}\n",
    "    ),\n",
    "    axis=1,\n",
    ").sort_values(by=['date'])\n",
    "ordersACummulative.columns = [\n",
    "    'date',\n",
    "    'ordersCummulativeA',\n",
    "    'revenueCummulativeA',\n",
    "]\n",
    "\n",
    "ordersBDaily = (\n",
    "    orders[orders['group'] == 'B'][['date', 'transaction_id', 'visitor_id', 'revenue']]\n",
    "    .groupby('date', as_index=False)\n",
    "    .agg({'transaction_id': pd.Series.nunique, 'revenue': 'sum'})\n",
    ")\n",
    "ordersBDaily.columns = ['date', 'ordersPerDateB', 'revenuePerDateB']\n",
    "\n",
    "ordersBCummulative = ordersBDaily.apply(\n",
    "    lambda x: ordersBDaily[ordersBDaily['date'] <= x['date']].agg(\n",
    "        {'date': 'max', 'ordersPerDateB': 'sum', 'revenuePerDateB': 'sum'}\n",
    "    ),\n",
    "    axis=1,\n",
    ").sort_values(by=['date'])\n",
    "ordersBCummulative.columns = [\n",
    "    'date',\n",
    "    'ordersCummulativeB',\n",
    "    'revenueCummulativeB',\n",
    "]\n",
    "data = (\n",
    "    ordersADaily.merge(\n",
    "        ordersBDaily, left_on='date', right_on='date', how='left'\n",
    "    )\n",
    "    .merge(ordersACummulative, left_on='date', right_on='date', how='left')\n",
    "    .merge(ordersBCummulative, left_on='date', right_on='date', how='left')\n",
    "    .merge(visitorsADaily, left_on='date', right_on='date', how='left')\n",
    "    .merge(visitorsBDaily, left_on='date', right_on='date', how='left')\n",
    "    .merge(visitorsACummulative, left_on='date', right_on='date', how='left')\n",
    "    .merge(visitorsBCummulative, left_on='date', right_on='date', how='left')\n",
    ")"
   ]
  },
  {
   "cell_type": "markdown",
   "metadata": {},
   "source": [
    "Создадим переменные sampleA и sampleB, в которых для пользователей, совершивших хотя бы 1 заказ, будет указано число заказов, а для пользователей, которые ничего не заказали, будет указано 0.  \n",
    "Затем, проведем анализ статистической значимости различий в среднем количестве заказов между двумя группами за две недели тестирования."
   ]
  },
  {
   "cell_type": "markdown",
   "metadata": {},
   "source": [
    "Формулировка гипотезы:  \n",
    "Нулевая гипотеза: статистически значимых различий в конверсии между группами нет.  \n",
    "Альтернативная гипотеза: статистически значимые различия есть."
   ]
  },
  {
   "cell_type": "code",
   "execution_count": 34,
   "metadata": {},
   "outputs": [
    {
     "name": "stdout",
     "output_type": "stream",
     "text": [
      "p-value: 0.017\n",
      "относительные различия: 0.138\n"
     ]
    }
   ],
   "source": [
    "ordersByUsersA = (\n",
    "    orders[orders['group'] == 'A']\n",
    "    .groupby('visitor_id', as_index=False)\n",
    "    .agg({'transaction_id': pd.Series.nunique})\n",
    ")\n",
    "ordersByUsersA.columns = ['visitor_id', 'transaction_id']\n",
    "\n",
    "ordersByUsersB = (\n",
    "    orders[orders['group'] == 'B']\n",
    "    .groupby('visitor_id', as_index=False)\n",
    "    .agg({'transaction_id': pd.Series.nunique})\n",
    ")\n",
    "ordersByUsersB.columns = ['visitor_id', 'transaction_id'] \n",
    "sampleA = pd.concat([ordersByUsersA['transaction_id'],pd.Series(0, index=np.arange(data['visitorsPerDateA'].sum() - len(ordersByUsersA['transaction_id'])), name='orders')],axis=0)\n",
    "\n",
    "sampleB = pd.concat([ordersByUsersB['transaction_id'],pd.Series(0, index=np.arange(data['visitorsPerDateB'].sum() - len(ordersByUsersB['transaction_id'])), name='orders')],axis=0)\n",
    "print('p-value:',\"{0:.3f}\".format(stats.mannwhitneyu(sampleA, sampleB)[1]))\n",
    "\n",
    "print('относительные различия:',\"{0:.3f}\".format(sampleB.mean() / sampleA.mean() - 1))"
   ]
  },
  {
   "cell_type": "markdown",
   "metadata": {},
   "source": [
    "Так как P-value значительно меньше 0.05, поэтому мы можем отвергнуть нулевую гипотезу.  \n",
    "Анализ \"сырых данных\" показал, что существует статистически значимая разница в среднем количестве заказов между группами.  \n",
    "Относительный прирост конверсии группы В по сравнению с группой А составляет 13,8%."
   ]
  },
  {
   "cell_type": "markdown",
   "metadata": {},
   "source": [
    "#### Статистическая значимость различий в среднем чеке заказа между группами по «сырым» данным"
   ]
  },
  {
   "cell_type": "markdown",
   "metadata": {},
   "source": [
    "Нулевая гипотеза: статистически значимых различий в средних чеках между группами нет  \n",
    "Альтернативная гипотеза: статистически значимые различия есть"
   ]
  },
  {
   "cell_type": "code",
   "execution_count": 35,
   "metadata": {},
   "outputs": [
    {
     "name": "stdout",
     "output_type": "stream",
     "text": [
      "p-value: 0.729\n",
      "относительные различия: 0.259\n"
     ]
    }
   ],
   "source": [
    "#проведем сравнение \"средних чеков\" на основе \"сырых данных\", после чего повторим ту же процедуру, используя выборку без выбросов.\n",
    "print('p-value:','{0:.3f}'.format(stats.mannwhitneyu(orders[orders['group']=='A']['revenue'], orders[orders['group']=='B']['revenue'])[1]))\n",
    "print('относительные различия:','{0:.3f}'.format(orders[orders['group']=='B']['revenue'].mean()/orders[orders['group']=='A']['revenue'].mean()-1)) "
   ]
  },
  {
   "cell_type": "markdown",
   "metadata": {},
   "source": [
    "Так как P-value значительно превышает 0.05, мы не можем отвергать нулевую гипотезу.  \n",
    "Относительное различие между чеками составляет около 26%."
   ]
  },
  {
   "cell_type": "markdown",
   "metadata": {},
   "source": [
    "#### Статистическая значимость различий в среднем количестве заказов на посетителя между группами по «очищенным» данным"
   ]
  },
  {
   "cell_type": "markdown",
   "metadata": {},
   "source": [
    "Подготовка \"очищенных\" данных.  \n",
    "\n",
    "95-й и 99-й перцентили для среднего чека составляют 28 000 и 58 233 рубля соответственно, а 95-й и 99-й перцентили для числа заказов на одного пользователя равны 2 и 4 заказам на пользователя.  \n",
    "Определим аномальных пользователей, которые делают 4 заказа и более, либо совершают заказ на сумму свыше 30 000 рублей.  \n",
    "Это позволит нам убрать 1% пользователей с наибольшим числом заказов и от 1% до 5% заказов с наибольшей стоимостью. \n",
    "Важно отметить, что мы будем убирать именно пользователей.  \n"
   ]
  },
  {
   "cell_type": "code",
   "execution_count": 36,
   "metadata": {},
   "outputs": [],
   "source": [
    "usersWithManyOrders = pd.concat(\n",
    "    [\n",
    "        ordersByUsersA[ordersByUsersA['transaction_id'] > 4]['visitor_id'],\n",
    "        ordersByUsersB[ordersByUsersB['transaction_id'] > 4]['visitor_id'],\n",
    "    ],\n",
    "    axis=0,\n",
    ")\n",
    "usersWithExpensiveOrders = orders[orders['revenue'] > 30000]['visitor_id']\n",
    "abnormalUsers = (\n",
    "    pd.concat([usersWithManyOrders, usersWithExpensiveOrders], axis=0)\n",
    "    .drop_duplicates()\n",
    "    .sort_values()\n",
    ")"
   ]
  },
  {
   "cell_type": "markdown",
   "metadata": {},
   "source": [
    "Сначала мы выявим аномальные заказы, а затем удалим пользователей, совершивших эти заказы, и добавим их в список аномальных.  \n",
    "Также создадим срезы пользователей с числом заказов больше 2 — usersWithManyOrders и пользователей, которые оформляли заказы на сумму свыше 10 000 рублей — usersWithExpensiveOrders.  \n",
    "Затем объединим их в таблице abnormalUsers, удалим дубликаты и отсортируем их по возрастанию."
   ]
  },
  {
   "cell_type": "markdown",
   "metadata": {},
   "source": [
    "Нулевая гипотеза: статистически значимых различий в конверсии между группами нет.  \n",
    "Альтернативная гипотеза: статистически значимые различия есть."
   ]
  },
  {
   "cell_type": "code",
   "execution_count": 37,
   "metadata": {},
   "outputs": [
    {
     "name": "stdout",
     "output_type": "stream",
     "text": [
      "p-value: 0.019\n",
      "относительные различия: 0.144\n"
     ]
    }
   ],
   "source": [
    "sampleAFiltered = pd.concat(\n",
    "    [\n",
    "        ordersByUsersA[\n",
    "            np.logical_not(ordersByUsersA['visitor_id'].isin(abnormalUsers))\n",
    "        ]['transaction_id'],\n",
    "        pd.Series(\n",
    "            0,\n",
    "            index=np.arange(\n",
    "                data['visitorsPerDateA'].sum() - len(ordersByUsersA['transaction_id'])\n",
    "            ),\n",
    "            name='orders',\n",
    "        ),\n",
    "    ],\n",
    "    axis=0,\n",
    ")\n",
    "\n",
    "sampleBFiltered = pd.concat(\n",
    "    [\n",
    "        ordersByUsersB[\n",
    "            np.logical_not(ordersByUsersB['visitor_id'].isin(abnormalUsers))\n",
    "        ]['transaction_id'],\n",
    "        pd.Series(\n",
    "            0,\n",
    "            index=np.arange(\n",
    "                data['visitorsPerDateB'].sum() - len(ordersByUsersB['transaction_id'])\n",
    "            ),\n",
    "            name='orders',\n",
    "        ),\n",
    "    ],\n",
    "    axis=0,\n",
    ") \n",
    "print('p-value:','{0:.3f}'.format(stats.mannwhitneyu(sampleAFiltered, sampleBFiltered)[1]))\n",
    "print('относительные различия:','{0:.3f}'.format(sampleBFiltered.mean()/sampleAFiltered.mean()-1)) "
   ]
  },
  {
   "cell_type": "markdown",
   "metadata": {},
   "source": [
    "Как и в случае с \"сырыми\" данными, мы получили статистически значимые результаты, которые показывают, что группа В больше группы А."
   ]
  },
  {
   "cell_type": "markdown",
   "metadata": {},
   "source": [
    "#### Статистическая значимость различий в среднем чеке заказа между группами по «очищенным» данным"
   ]
  },
  {
   "cell_type": "markdown",
   "metadata": {},
   "source": [
    "Нулевая гипотеза: статистически значимых различий в средних чеках между группами нет  \n",
    "Альтернативная: статистически значимые различия есть."
   ]
  },
  {
   "cell_type": "code",
   "execution_count": 38,
   "metadata": {},
   "outputs": [
    {
     "name": "stdout",
     "output_type": "stream",
     "text": [
      "P-value: 0.979\n",
      "Относительные различия: -0.017\n"
     ]
    }
   ],
   "source": [
    "print('P-value:',\n",
    "    '{0:.3f}'.format(\n",
    "        stats.mannwhitneyu(\n",
    "            orders[\n",
    "                np.logical_and(\n",
    "                    orders['group'] == 'A',\n",
    "                    np.logical_not(orders['visitor_id'].isin(abnormalUsers)),\n",
    "                )\n",
    "            ]['revenue'],\n",
    "            orders[\n",
    "                np.logical_and(\n",
    "                    orders['group'] == 'B',\n",
    "                    np.logical_not(orders['visitor_id'].isin(abnormalUsers)),\n",
    "                )\n",
    "            ]['revenue'],\n",
    "        )[1]\n",
    "    )\n",
    ")\n",
    "\n",
    "print('Относительные различия:',\n",
    "    \"{0:.3f}\".format(\n",
    "        orders[\n",
    "            np.logical_and(\n",
    "                orders['group'] == 'B',\n",
    "                np.logical_not(orders['visitor_id'].isin(abnormalUsers)),\n",
    "            )\n",
    "        ]['revenue'].mean()\n",
    "        / orders[\n",
    "            np.logical_and(\n",
    "                orders['group'] == 'A',\n",
    "                np.logical_not(orders['visitor_id'].isin(abnormalUsers)),\n",
    "            )\n",
    "        ]['revenue'].mean()\n",
    "        - 1\n",
    "    )\n",
    ") "
   ]
  },
  {
   "cell_type": "markdown",
   "metadata": {},
   "source": [
    "Отвергать нулевую гипотезу мы не можем, так как значение P-value значительно больше 0.05, как и в случае со \"Сырыми\" данными.  \n",
    "Однако средний чек группы B оказался незначительно ниже(на 2%), чем средний чек группы A, в то время как по \"Сырым\" данным он был выше на 26%."
   ]
  },
  {
   "cell_type": "markdown",
   "metadata": {},
   "source": [
    "## Вывод."
   ]
  },
  {
   "cell_type": "markdown",
   "metadata": {},
   "source": [
    "Между группами существует статистически значимое различие по конверсии, как по \"сырым\" данным, так и после удаления выбросов.  \n",
    "С другой стороны, нет статистически значимого различия по среднему чеку между группами ни по \"сырым\" данным, ни после фильтрации аномалий.  \n",
    "График различия конверсии между группами указывает на то, что результаты группы B лучше группы A, так как они имеют тенденцию к росту или зафиксировались около среднего значения.  \n",
    "С другой стороны, график различия среднего чека является непостоянным и именно он позволил выявить выбросы.  \n",
    "Из этого графика нельзя сделать определенных выводов.  \n",
    "\n",
    "Считаю, что слеюует рассмотреть вариант остановки теста и признания победы группы B."
   ]
  }
 ],
 "metadata": {
  "ExecuteTimeLog": [
   {
    "duration": 1419,
    "start_time": "2023-04-07T14:49:17.984Z"
   },
   {
    "duration": 81,
    "start_time": "2023-04-07T14:49:22.988Z"
   },
   {
    "duration": 27,
    "start_time": "2023-04-07T14:49:45.336Z"
   },
   {
    "duration": 26,
    "start_time": "2023-04-07T14:49:48.656Z"
   },
   {
    "duration": 15,
    "start_time": "2023-04-07T14:49:55.722Z"
   },
   {
    "duration": 27,
    "start_time": "2023-04-07T14:50:15.327Z"
   },
   {
    "duration": 12,
    "start_time": "2023-04-07T14:50:25.304Z"
   },
   {
    "duration": 26,
    "start_time": "2023-04-07T15:06:17.371Z"
   },
   {
    "duration": 6,
    "start_time": "2023-04-07T15:06:17.936Z"
   },
   {
    "duration": 28,
    "start_time": "2023-04-07T15:06:20.108Z"
   },
   {
    "duration": 12,
    "start_time": "2023-04-07T15:06:36.955Z"
   },
   {
    "duration": 3,
    "start_time": "2023-04-07T15:07:53.485Z"
   },
   {
    "duration": 242,
    "start_time": "2023-04-07T15:15:30.355Z"
   },
   {
    "duration": 2,
    "start_time": "2023-04-07T15:16:31.152Z"
   },
   {
    "duration": 11,
    "start_time": "2023-04-07T15:17:09.434Z"
   },
   {
    "duration": 9,
    "start_time": "2023-04-07T15:17:16.548Z"
   },
   {
    "duration": 3,
    "start_time": "2023-04-07T15:17:48.969Z"
   },
   {
    "duration": 8,
    "start_time": "2023-04-07T15:17:58.100Z"
   },
   {
    "duration": 99,
    "start_time": "2023-04-07T15:20:26.538Z"
   },
   {
    "duration": 1542,
    "start_time": "2023-04-07T15:20:46.097Z"
   },
   {
    "duration": 1387,
    "start_time": "2023-04-07T15:21:06.984Z"
   },
   {
    "duration": 3,
    "start_time": "2023-04-07T15:22:05.818Z"
   },
   {
    "duration": 26,
    "start_time": "2023-04-07T15:22:06.164Z"
   },
   {
    "duration": 12,
    "start_time": "2023-04-07T15:22:06.266Z"
   },
   {
    "duration": 9,
    "start_time": "2023-04-07T15:22:06.430Z"
   },
   {
    "duration": 2024,
    "start_time": "2023-04-07T15:22:06.683Z"
   },
   {
    "duration": 4,
    "start_time": "2023-04-07T15:22:23.159Z"
   },
   {
    "duration": 9,
    "start_time": "2023-04-07T15:22:28.703Z"
   },
   {
    "duration": 4,
    "start_time": "2023-04-07T15:22:46.030Z"
   },
   {
    "duration": 10,
    "start_time": "2023-04-07T15:22:46.413Z"
   },
   {
    "duration": 4,
    "start_time": "2023-04-07T15:22:47.051Z"
   },
   {
    "duration": 8,
    "start_time": "2023-04-07T15:22:48.563Z"
   },
   {
    "duration": 3,
    "start_time": "2023-04-07T15:37:49.054Z"
   },
   {
    "duration": 6,
    "start_time": "2023-04-07T15:37:56.631Z"
   },
   {
    "duration": 10,
    "start_time": "2023-04-07T15:38:01.627Z"
   },
   {
    "duration": 3,
    "start_time": "2023-04-07T15:38:33.096Z"
   },
   {
    "duration": 3,
    "start_time": "2023-04-07T15:38:34.982Z"
   },
   {
    "duration": 3,
    "start_time": "2023-04-07T15:39:13.252Z"
   },
   {
    "duration": 27,
    "start_time": "2023-04-07T15:39:13.467Z"
   },
   {
    "duration": 11,
    "start_time": "2023-04-07T15:39:13.631Z"
   },
   {
    "duration": 9,
    "start_time": "2023-04-07T15:39:14.075Z"
   },
   {
    "duration": 3,
    "start_time": "2023-04-07T15:39:21.670Z"
   },
   {
    "duration": 1137,
    "start_time": "2023-04-07T15:39:29.337Z"
   },
   {
    "duration": 28,
    "start_time": "2023-04-07T15:39:30.475Z"
   },
   {
    "duration": 17,
    "start_time": "2023-04-07T15:39:30.504Z"
   },
   {
    "duration": 33,
    "start_time": "2023-04-07T15:39:30.523Z"
   },
   {
    "duration": 124,
    "start_time": "2023-04-07T15:39:30.558Z"
   },
   {
    "duration": 0,
    "start_time": "2023-04-07T15:39:30.683Z"
   },
   {
    "duration": 3,
    "start_time": "2023-04-07T15:39:40.493Z"
   },
   {
    "duration": 28,
    "start_time": "2023-04-07T15:39:40.767Z"
   },
   {
    "duration": 10,
    "start_time": "2023-04-07T15:39:40.966Z"
   },
   {
    "duration": 9,
    "start_time": "2023-04-07T15:39:41.167Z"
   },
   {
    "duration": 10,
    "start_time": "2023-04-07T15:39:41.568Z"
   },
   {
    "duration": 9,
    "start_time": "2023-04-07T15:39:41.736Z"
   },
   {
    "duration": 3,
    "start_time": "2023-04-07T15:40:17.870Z"
   },
   {
    "duration": 26,
    "start_time": "2023-04-07T15:40:18.035Z"
   },
   {
    "duration": 13,
    "start_time": "2023-04-07T15:40:18.235Z"
   },
   {
    "duration": 8,
    "start_time": "2023-04-07T15:40:18.403Z"
   },
   {
    "duration": 8,
    "start_time": "2023-04-07T15:40:19.269Z"
   },
   {
    "duration": 3,
    "start_time": "2023-04-07T15:40:31.202Z"
   },
   {
    "duration": 12,
    "start_time": "2023-04-07T15:40:31.896Z"
   },
   {
    "duration": 14,
    "start_time": "2023-04-07T15:41:18.608Z"
   },
   {
    "duration": 2,
    "start_time": "2023-04-07T15:49:16.908Z"
   },
   {
    "duration": 12,
    "start_time": "2023-04-07T15:49:29.285Z"
   },
   {
    "duration": 10,
    "start_time": "2023-04-07T15:49:44.200Z"
   },
   {
    "duration": 14,
    "start_time": "2023-04-07T15:50:07.922Z"
   },
   {
    "duration": 14,
    "start_time": "2023-04-07T15:58:31.639Z"
   },
   {
    "duration": 3,
    "start_time": "2023-04-07T19:14:15.735Z"
   },
   {
    "duration": 2,
    "start_time": "2023-04-07T19:14:47.280Z"
   },
   {
    "duration": 11,
    "start_time": "2023-04-07T19:15:11.922Z"
   },
   {
    "duration": 112,
    "start_time": "2023-04-07T19:16:39.350Z"
   },
   {
    "duration": 8,
    "start_time": "2023-04-07T19:16:54.424Z"
   },
   {
    "duration": 16,
    "start_time": "2023-04-07T19:17:55.931Z"
   },
   {
    "duration": 473,
    "start_time": "2023-04-07T19:17:57.751Z"
   },
   {
    "duration": 375,
    "start_time": "2023-04-07T19:18:03.644Z"
   },
   {
    "duration": 555,
    "start_time": "2023-04-07T19:18:15.723Z"
   },
   {
    "duration": 314,
    "start_time": "2023-04-07T19:18:43.096Z"
   },
   {
    "duration": 308,
    "start_time": "2023-04-07T19:19:14.252Z"
   },
   {
    "duration": 15,
    "start_time": "2023-04-07T19:20:40.533Z"
   },
   {
    "duration": 14,
    "start_time": "2023-04-07T19:24:20.340Z"
   },
   {
    "duration": 15,
    "start_time": "2023-04-07T19:24:29.192Z"
   },
   {
    "duration": 369,
    "start_time": "2023-04-07T19:24:52.591Z"
   },
   {
    "duration": 7,
    "start_time": "2023-04-07T19:25:13.744Z"
   },
   {
    "duration": 6,
    "start_time": "2023-04-07T19:25:54.746Z"
   },
   {
    "duration": 163,
    "start_time": "2023-04-07T19:25:58.508Z"
   },
   {
    "duration": 338,
    "start_time": "2023-04-07T19:26:12.558Z"
   },
   {
    "duration": 14,
    "start_time": "2023-04-07T19:26:23.159Z"
   },
   {
    "duration": 10,
    "start_time": "2023-04-07T19:26:38.134Z"
   },
   {
    "duration": 376,
    "start_time": "2023-04-07T19:27:35.358Z"
   },
   {
    "duration": 3,
    "start_time": "2023-04-07T19:27:58.791Z"
   },
   {
    "duration": 26,
    "start_time": "2023-04-07T19:27:58.952Z"
   },
   {
    "duration": 10,
    "start_time": "2023-04-07T19:27:59.139Z"
   },
   {
    "duration": 8,
    "start_time": "2023-04-07T19:27:59.306Z"
   },
   {
    "duration": 3,
    "start_time": "2023-04-07T19:27:59.662Z"
   },
   {
    "duration": 7,
    "start_time": "2023-04-07T19:27:59.831Z"
   },
   {
    "duration": 11,
    "start_time": "2023-04-07T19:28:00.376Z"
   },
   {
    "duration": 13,
    "start_time": "2023-04-07T19:28:00.754Z"
   },
   {
    "duration": 14,
    "start_time": "2023-04-07T19:28:01.655Z"
   },
   {
    "duration": 54,
    "start_time": "2023-04-07T19:28:03.099Z"
   },
   {
    "duration": 8,
    "start_time": "2023-04-07T19:28:03.904Z"
   },
   {
    "duration": 15,
    "start_time": "2023-04-07T19:28:04.486Z"
   },
   {
    "duration": 11,
    "start_time": "2023-04-07T19:28:07.708Z"
   },
   {
    "duration": 320,
    "start_time": "2023-04-07T19:28:34.416Z"
   },
   {
    "duration": 53,
    "start_time": "2023-04-07T19:28:42.602Z"
   },
   {
    "duration": 1113,
    "start_time": "2023-04-07T19:29:13.987Z"
   },
   {
    "duration": 28,
    "start_time": "2023-04-07T19:29:15.102Z"
   },
   {
    "duration": 25,
    "start_time": "2023-04-07T19:29:15.132Z"
   },
   {
    "duration": 31,
    "start_time": "2023-04-07T19:29:15.160Z"
   },
   {
    "duration": 18,
    "start_time": "2023-04-07T19:29:15.192Z"
   },
   {
    "duration": 25,
    "start_time": "2023-04-07T19:29:15.211Z"
   },
   {
    "duration": 13,
    "start_time": "2023-04-07T19:29:15.688Z"
   },
   {
    "duration": 12,
    "start_time": "2023-04-07T19:29:16.099Z"
   },
   {
    "duration": 14,
    "start_time": "2023-04-07T19:29:16.475Z"
   },
   {
    "duration": 54,
    "start_time": "2023-04-07T19:29:17.273Z"
   },
   {
    "duration": 8,
    "start_time": "2023-04-07T19:29:17.473Z"
   },
   {
    "duration": 16,
    "start_time": "2023-04-07T19:29:17.692Z"
   },
   {
    "duration": 27,
    "start_time": "2023-04-07T19:30:10.314Z"
   },
   {
    "duration": 10,
    "start_time": "2023-04-07T19:30:23.003Z"
   },
   {
    "duration": 80,
    "start_time": "2023-04-07T19:32:57.803Z"
   },
   {
    "duration": 8,
    "start_time": "2023-04-07T19:33:05.795Z"
   },
   {
    "duration": 7,
    "start_time": "2023-04-07T19:33:51.107Z"
   },
   {
    "duration": 346,
    "start_time": "2023-04-07T19:34:40.742Z"
   },
   {
    "duration": 9,
    "start_time": "2023-04-07T19:34:44.256Z"
   },
   {
    "duration": 319,
    "start_time": "2023-04-07T19:34:44.575Z"
   },
   {
    "duration": 1170,
    "start_time": "2023-04-07T19:34:52.855Z"
   },
   {
    "duration": 26,
    "start_time": "2023-04-07T19:34:54.027Z"
   },
   {
    "duration": 27,
    "start_time": "2023-04-07T19:34:54.055Z"
   },
   {
    "duration": 35,
    "start_time": "2023-04-07T19:34:54.084Z"
   },
   {
    "duration": 28,
    "start_time": "2023-04-07T19:34:54.120Z"
   },
   {
    "duration": 46,
    "start_time": "2023-04-07T19:34:54.149Z"
   },
   {
    "duration": 14,
    "start_time": "2023-04-07T19:34:54.383Z"
   },
   {
    "duration": 13,
    "start_time": "2023-04-07T19:34:54.753Z"
   },
   {
    "duration": 14,
    "start_time": "2023-04-07T19:34:55.103Z"
   },
   {
    "duration": 54,
    "start_time": "2023-04-07T19:34:55.802Z"
   },
   {
    "duration": 9,
    "start_time": "2023-04-07T19:34:55.987Z"
   },
   {
    "duration": 15,
    "start_time": "2023-04-07T19:34:56.167Z"
   },
   {
    "duration": 22,
    "start_time": "2023-04-07T19:34:56.383Z"
   },
   {
    "duration": 8,
    "start_time": "2023-04-07T19:34:56.534Z"
   },
   {
    "duration": 7,
    "start_time": "2023-04-07T19:34:56.699Z"
   },
   {
    "duration": 11,
    "start_time": "2023-04-07T19:35:07.988Z"
   },
   {
    "duration": 3,
    "start_time": "2023-04-07T19:56:38.759Z"
   },
   {
    "duration": 71,
    "start_time": "2023-04-07T19:59:59.424Z"
   },
   {
    "duration": 9,
    "start_time": "2023-04-07T20:02:33.136Z"
   },
   {
    "duration": 10,
    "start_time": "2023-04-07T20:04:09.204Z"
   },
   {
    "duration": 11,
    "start_time": "2023-04-07T20:04:41.346Z"
   },
   {
    "duration": 7,
    "start_time": "2023-04-07T20:05:04.235Z"
   },
   {
    "duration": 9,
    "start_time": "2023-04-07T20:06:23.418Z"
   },
   {
    "duration": 9,
    "start_time": "2023-04-07T20:06:29.712Z"
   },
   {
    "duration": 9,
    "start_time": "2023-04-07T20:06:30.529Z"
   },
   {
    "duration": 10,
    "start_time": "2023-04-07T20:06:32.858Z"
   },
   {
    "duration": 8,
    "start_time": "2023-04-07T20:08:04.647Z"
   },
   {
    "duration": 5,
    "start_time": "2023-04-07T20:13:29.011Z"
   },
   {
    "duration": 6,
    "start_time": "2023-04-07T20:13:30.772Z"
   },
   {
    "duration": 170,
    "start_time": "2023-04-07T20:15:39.289Z"
   },
   {
    "duration": 180,
    "start_time": "2023-04-07T20:15:42.000Z"
   },
   {
    "duration": 164,
    "start_time": "2023-04-07T20:16:01.476Z"
   },
   {
    "duration": 153,
    "start_time": "2023-04-07T20:16:15.975Z"
   },
   {
    "duration": 199,
    "start_time": "2023-04-07T20:16:22.304Z"
   },
   {
    "duration": 164,
    "start_time": "2023-04-07T20:18:32.498Z"
   },
   {
    "duration": 106,
    "start_time": "2023-04-07T20:19:39.751Z"
   },
   {
    "duration": 159,
    "start_time": "2023-04-07T20:20:05.203Z"
   },
   {
    "duration": 124,
    "start_time": "2023-04-07T20:22:38.698Z"
   },
   {
    "duration": 2,
    "start_time": "2023-04-07T20:23:11.013Z"
   },
   {
    "duration": 7,
    "start_time": "2023-04-07T20:23:32.714Z"
   },
   {
    "duration": 9,
    "start_time": "2023-04-07T20:39:20.917Z"
   },
   {
    "duration": 116,
    "start_time": "2023-04-07T20:44:35.410Z"
   },
   {
    "duration": 1131,
    "start_time": "2023-04-07T20:44:53.655Z"
   },
   {
    "duration": 28,
    "start_time": "2023-04-07T20:44:54.789Z"
   },
   {
    "duration": 64,
    "start_time": "2023-04-07T20:44:54.819Z"
   },
   {
    "duration": 61,
    "start_time": "2023-04-07T20:44:54.885Z"
   },
   {
    "duration": 55,
    "start_time": "2023-04-07T20:44:54.948Z"
   },
   {
    "duration": 48,
    "start_time": "2023-04-07T20:44:55.005Z"
   },
   {
    "duration": 15,
    "start_time": "2023-04-07T20:44:55.555Z"
   },
   {
    "duration": 15,
    "start_time": "2023-04-07T20:44:55.916Z"
   },
   {
    "duration": 14,
    "start_time": "2023-04-07T20:44:56.326Z"
   },
   {
    "duration": 55,
    "start_time": "2023-04-07T20:44:57.458Z"
   },
   {
    "duration": 8,
    "start_time": "2023-04-07T20:44:57.641Z"
   },
   {
    "duration": 16,
    "start_time": "2023-04-07T20:44:57.838Z"
   },
   {
    "duration": 22,
    "start_time": "2023-04-07T20:44:58.007Z"
   },
   {
    "duration": 7,
    "start_time": "2023-04-07T20:44:58.227Z"
   },
   {
    "duration": 6,
    "start_time": "2023-04-07T20:44:58.452Z"
   },
   {
    "duration": 10,
    "start_time": "2023-04-07T20:44:58.659Z"
   },
   {
    "duration": 6,
    "start_time": "2023-04-07T20:44:59.035Z"
   },
   {
    "duration": 166,
    "start_time": "2023-04-07T20:44:59.284Z"
   },
   {
    "duration": 112,
    "start_time": "2023-04-07T20:45:00.179Z"
   },
   {
    "duration": 8,
    "start_time": "2023-04-07T20:45:00.576Z"
   },
   {
    "duration": 9,
    "start_time": "2023-04-07T20:45:00.859Z"
   },
   {
    "duration": 105,
    "start_time": "2023-04-07T20:45:02.193Z"
   },
   {
    "duration": 4,
    "start_time": "2023-04-07T20:47:52.811Z"
   },
   {
    "duration": 9,
    "start_time": "2023-04-07T20:47:53.669Z"
   },
   {
    "duration": 301,
    "start_time": "2023-04-07T20:47:54.914Z"
   },
   {
    "duration": 3,
    "start_time": "2023-04-07T20:50:48.830Z"
   },
   {
    "duration": 2,
    "start_time": "2023-04-07T20:51:13.534Z"
   },
   {
    "duration": 190,
    "start_time": "2023-04-07T20:51:24.629Z"
   },
   {
    "duration": 193,
    "start_time": "2023-04-07T20:51:41.418Z"
   },
   {
    "duration": 114,
    "start_time": "2023-04-08T11:30:15.324Z"
   },
   {
    "duration": 2,
    "start_time": "2023-04-08T11:31:45.938Z"
   },
   {
    "duration": 51,
    "start_time": "2023-04-08T11:32:11.792Z"
   },
   {
    "duration": 1257,
    "start_time": "2023-04-08T11:32:18.137Z"
   },
   {
    "duration": 81,
    "start_time": "2023-04-08T11:32:19.396Z"
   },
   {
    "duration": 17,
    "start_time": "2023-04-08T11:32:19.478Z"
   },
   {
    "duration": 17,
    "start_time": "2023-04-08T11:32:19.497Z"
   },
   {
    "duration": 5,
    "start_time": "2023-04-08T11:32:19.516Z"
   },
   {
    "duration": 23,
    "start_time": "2023-04-08T11:32:19.523Z"
   },
   {
    "duration": 13,
    "start_time": "2023-04-08T11:32:19.706Z"
   },
   {
    "duration": 12,
    "start_time": "2023-04-08T11:32:20.036Z"
   },
   {
    "duration": 12,
    "start_time": "2023-04-08T11:32:20.403Z"
   },
   {
    "duration": 109,
    "start_time": "2023-04-08T11:32:21.454Z"
   },
   {
    "duration": 7,
    "start_time": "2023-04-08T11:32:21.641Z"
   },
   {
    "duration": 14,
    "start_time": "2023-04-08T11:32:21.809Z"
   },
   {
    "duration": 72,
    "start_time": "2023-04-08T11:32:21.982Z"
   },
   {
    "duration": 7,
    "start_time": "2023-04-08T11:32:22.151Z"
   },
   {
    "duration": 6,
    "start_time": "2023-04-08T11:32:22.332Z"
   },
   {
    "duration": 10,
    "start_time": "2023-04-08T11:32:22.500Z"
   },
   {
    "duration": 5,
    "start_time": "2023-04-08T11:32:22.870Z"
   },
   {
    "duration": 166,
    "start_time": "2023-04-08T11:32:23.052Z"
   },
   {
    "duration": 124,
    "start_time": "2023-04-08T11:32:23.233Z"
   },
   {
    "duration": 7,
    "start_time": "2023-04-08T11:32:23.416Z"
   },
   {
    "duration": 3,
    "start_time": "2023-04-08T11:32:23.583Z"
   },
   {
    "duration": 9,
    "start_time": "2023-04-08T11:32:23.769Z"
   },
   {
    "duration": 240,
    "start_time": "2023-04-08T11:32:24.303Z"
   },
   {
    "duration": 172,
    "start_time": "2023-04-08T11:32:24.849Z"
   },
   {
    "duration": 340,
    "start_time": "2023-04-08T11:32:25.368Z"
   },
   {
    "duration": 282,
    "start_time": "2023-04-08T11:32:38.239Z"
   },
   {
    "duration": 360,
    "start_time": "2023-04-08T11:51:45.032Z"
   },
   {
    "duration": 216,
    "start_time": "2023-04-08T11:51:55.451Z"
   },
   {
    "duration": 212,
    "start_time": "2023-04-08T12:13:02.007Z"
   },
   {
    "duration": 305,
    "start_time": "2023-04-08T12:13:03.191Z"
   },
   {
    "duration": 3,
    "start_time": "2023-04-08T12:26:22.614Z"
   },
   {
    "duration": 201,
    "start_time": "2023-04-08T12:34:01.032Z"
   },
   {
    "duration": 6,
    "start_time": "2023-04-08T12:43:27.733Z"
   },
   {
    "duration": 8,
    "start_time": "2023-04-08T12:44:47.659Z"
   },
   {
    "duration": 3,
    "start_time": "2023-04-08T12:45:15.674Z"
   },
   {
    "duration": 145,
    "start_time": "2023-04-08T12:45:42.754Z"
   },
   {
    "duration": 3,
    "start_time": "2023-04-08T12:52:39.695Z"
   },
   {
    "duration": 7,
    "start_time": "2023-04-08T12:53:05.486Z"
   },
   {
    "duration": 236,
    "start_time": "2023-04-08T13:14:26.671Z"
   },
   {
    "duration": 187,
    "start_time": "2023-04-08T13:50:20.452Z"
   },
   {
    "duration": 153,
    "start_time": "2023-04-08T13:50:35.208Z"
   },
   {
    "duration": 131,
    "start_time": "2023-04-08T13:50:48.806Z"
   },
   {
    "duration": 3,
    "start_time": "2023-04-08T13:53:45.927Z"
   },
   {
    "duration": 12,
    "start_time": "2023-04-08T13:58:56.849Z"
   },
   {
    "duration": 10,
    "start_time": "2023-04-08T13:59:05.925Z"
   },
   {
    "duration": 2,
    "start_time": "2023-04-08T14:03:10.624Z"
   },
   {
    "duration": 12,
    "start_time": "2023-04-08T14:11:17.243Z"
   },
   {
    "duration": 7,
    "start_time": "2023-04-08T14:11:48.647Z"
   },
   {
    "duration": 26,
    "start_time": "2023-04-08T14:11:48.975Z"
   },
   {
    "duration": 26,
    "start_time": "2023-04-08T14:12:02.940Z"
   },
   {
    "duration": 1117,
    "start_time": "2023-04-08T14:22:52.154Z"
   },
   {
    "duration": 15,
    "start_time": "2023-04-08T14:23:19.351Z"
   },
   {
    "duration": 14,
    "start_time": "2023-04-08T14:27:50.376Z"
   },
   {
    "duration": 101,
    "start_time": "2023-04-10T03:06:22.020Z"
   },
   {
    "duration": 84,
    "start_time": "2023-04-10T03:12:47.967Z"
   },
   {
    "duration": 1358,
    "start_time": "2023-04-10T03:12:54.692Z"
   },
   {
    "duration": 82,
    "start_time": "2023-04-10T03:12:56.052Z"
   },
   {
    "duration": 11,
    "start_time": "2023-04-10T03:12:56.136Z"
   },
   {
    "duration": 14,
    "start_time": "2023-04-10T03:12:56.149Z"
   },
   {
    "duration": 3,
    "start_time": "2023-04-10T03:12:56.164Z"
   },
   {
    "duration": 22,
    "start_time": "2023-04-10T03:12:56.168Z"
   },
   {
    "duration": 79,
    "start_time": "2023-04-10T03:13:39.511Z"
   },
   {
    "duration": 74,
    "start_time": "2023-04-10T03:26:59.807Z"
   },
   {
    "duration": 1241,
    "start_time": "2023-04-10T06:01:02.144Z"
   },
   {
    "duration": 77,
    "start_time": "2023-04-10T06:01:03.386Z"
   },
   {
    "duration": 12,
    "start_time": "2023-04-10T06:01:03.465Z"
   },
   {
    "duration": 13,
    "start_time": "2023-04-10T06:01:03.479Z"
   },
   {
    "duration": 9,
    "start_time": "2023-04-10T06:01:03.493Z"
   },
   {
    "duration": 14,
    "start_time": "2023-04-10T06:01:03.503Z"
   },
   {
    "duration": 33,
    "start_time": "2023-04-10T06:01:03.519Z"
   },
   {
    "duration": 11,
    "start_time": "2023-04-10T06:01:03.554Z"
   },
   {
    "duration": 20,
    "start_time": "2023-04-10T06:01:03.566Z"
   },
   {
    "duration": 110,
    "start_time": "2023-04-10T06:01:03.587Z"
   },
   {
    "duration": 7,
    "start_time": "2023-04-10T06:01:03.699Z"
   },
   {
    "duration": 21,
    "start_time": "2023-04-10T06:01:03.707Z"
   },
   {
    "duration": 70,
    "start_time": "2023-04-10T06:01:03.730Z"
   },
   {
    "duration": 7,
    "start_time": "2023-04-10T06:01:03.803Z"
   },
   {
    "duration": 16,
    "start_time": "2023-04-10T06:01:03.811Z"
   },
   {
    "duration": 19,
    "start_time": "2023-04-10T06:01:03.829Z"
   },
   {
    "duration": 20,
    "start_time": "2023-04-10T06:01:03.850Z"
   },
   {
    "duration": 158,
    "start_time": "2023-04-10T06:01:03.871Z"
   },
   {
    "duration": 121,
    "start_time": "2023-04-10T06:01:04.030Z"
   },
   {
    "duration": 6,
    "start_time": "2023-04-10T06:01:04.152Z"
   },
   {
    "duration": 13,
    "start_time": "2023-04-10T06:01:04.159Z"
   },
   {
    "duration": 12,
    "start_time": "2023-04-10T06:01:04.173Z"
   },
   {
    "duration": 258,
    "start_time": "2023-04-10T06:01:04.187Z"
   },
   {
    "duration": 15,
    "start_time": "2023-04-10T06:01:04.447Z"
   },
   {
    "duration": 239,
    "start_time": "2023-04-10T06:01:04.464Z"
   },
   {
    "duration": 362,
    "start_time": "2023-04-10T06:01:04.705Z"
   },
   {
    "duration": 217,
    "start_time": "2023-04-10T06:01:05.068Z"
   },
   {
    "duration": 367,
    "start_time": "2023-04-10T06:01:05.286Z"
   },
   {
    "duration": 127,
    "start_time": "2023-04-10T06:01:05.655Z"
   },
   {
    "duration": 7,
    "start_time": "2023-04-10T06:01:05.784Z"
   },
   {
    "duration": 143,
    "start_time": "2023-04-10T06:01:05.793Z"
   },
   {
    "duration": 7,
    "start_time": "2023-04-10T06:01:05.938Z"
   },
   {
    "duration": 225,
    "start_time": "2023-04-10T06:01:05.947Z"
   },
   {
    "duration": 154,
    "start_time": "2023-04-10T06:01:06.173Z"
   },
   {
    "duration": 14,
    "start_time": "2023-04-10T06:01:06.329Z"
   },
   {
    "duration": 25,
    "start_time": "2023-04-10T06:01:06.345Z"
   },
   {
    "duration": 50,
    "start_time": "2023-04-10T06:01:06.372Z"
   },
   {
    "duration": 13,
    "start_time": "2023-04-10T06:01:06.424Z"
   },
   {
    "duration": 124,
    "start_time": "2023-04-10T06:44:44.938Z"
   },
   {
    "duration": 67,
    "start_time": "2023-04-10T06:48:48.515Z"
   },
   {
    "duration": 1181,
    "start_time": "2023-04-10T08:16:40.734Z"
   },
   {
    "duration": 82,
    "start_time": "2023-04-10T08:16:41.917Z"
   },
   {
    "duration": 14,
    "start_time": "2023-04-10T08:16:42.002Z"
   },
   {
    "duration": 16,
    "start_time": "2023-04-10T08:16:42.018Z"
   },
   {
    "duration": 12,
    "start_time": "2023-04-10T08:16:42.035Z"
   },
   {
    "duration": 18,
    "start_time": "2023-04-10T08:16:42.048Z"
   },
   {
    "duration": 16,
    "start_time": "2023-04-10T08:16:42.067Z"
   },
   {
    "duration": 14,
    "start_time": "2023-04-10T08:16:42.084Z"
   },
   {
    "duration": 16,
    "start_time": "2023-04-10T08:16:42.100Z"
   },
   {
    "duration": 96,
    "start_time": "2023-04-10T08:16:42.118Z"
   },
   {
    "duration": 9,
    "start_time": "2023-04-10T08:16:42.217Z"
   },
   {
    "duration": 21,
    "start_time": "2023-04-10T08:16:42.229Z"
   },
   {
    "duration": 69,
    "start_time": "2023-04-10T08:16:42.251Z"
   },
   {
    "duration": 7,
    "start_time": "2023-04-10T08:16:42.321Z"
   },
   {
    "duration": 11,
    "start_time": "2023-04-10T08:16:42.329Z"
   },
   {
    "duration": 13,
    "start_time": "2023-04-10T08:16:42.341Z"
   },
   {
    "duration": 7,
    "start_time": "2023-04-10T08:16:42.356Z"
   },
   {
    "duration": 163,
    "start_time": "2023-04-10T08:16:42.364Z"
   },
   {
    "duration": 117,
    "start_time": "2023-04-10T08:16:42.529Z"
   },
   {
    "duration": 5,
    "start_time": "2023-04-10T08:16:42.647Z"
   },
   {
    "duration": 7,
    "start_time": "2023-04-10T08:16:42.654Z"
   },
   {
    "duration": 13,
    "start_time": "2023-04-10T08:16:42.663Z"
   },
   {
    "duration": 263,
    "start_time": "2023-04-10T08:16:42.677Z"
   },
   {
    "duration": 20,
    "start_time": "2023-04-10T08:16:42.941Z"
   },
   {
    "duration": 193,
    "start_time": "2023-04-10T08:16:42.974Z"
   },
   {
    "duration": 363,
    "start_time": "2023-04-10T08:16:43.169Z"
   },
   {
    "duration": 238,
    "start_time": "2023-04-10T08:16:43.534Z"
   },
   {
    "duration": 323,
    "start_time": "2023-04-10T08:16:43.776Z"
   },
   {
    "duration": 166,
    "start_time": "2023-04-10T08:16:44.101Z"
   },
   {
    "duration": 11,
    "start_time": "2023-04-10T08:16:44.269Z"
   },
   {
    "duration": 163,
    "start_time": "2023-04-10T08:16:44.281Z"
   },
   {
    "duration": 5,
    "start_time": "2023-04-10T08:16:44.445Z"
   },
   {
    "duration": 219,
    "start_time": "2023-04-10T08:16:44.452Z"
   },
   {
    "duration": 164,
    "start_time": "2023-04-10T08:16:44.674Z"
   },
   {
    "duration": 9,
    "start_time": "2023-04-10T08:16:44.840Z"
   },
   {
    "duration": 13,
    "start_time": "2023-04-10T08:16:44.850Z"
   },
   {
    "duration": 42,
    "start_time": "2023-04-10T08:16:44.864Z"
   },
   {
    "duration": 12,
    "start_time": "2023-04-10T08:16:44.908Z"
   }
  ],
  "kernelspec": {
   "display_name": "Python 3 (ipykernel)",
   "language": "python",
   "name": "python3"
  },
  "language_info": {
   "codemirror_mode": {
    "name": "ipython",
    "version": 3
   },
   "file_extension": ".py",
   "mimetype": "text/x-python",
   "name": "python",
   "nbconvert_exporter": "python",
   "pygments_lexer": "ipython3",
   "version": "3.9.5"
  },
  "toc": {
   "base_numbering": "1",
   "nav_menu": {},
   "number_sections": false,
   "sideBar": true,
   "skip_h1_title": true,
   "title_cell": "Table of Contents",
   "title_sidebar": "Contents",
   "toc_cell": false,
   "toc_position": {
    "height": "calc(100% - 180px)",
    "left": "10px",
    "top": "150px",
    "width": "302.431px"
   },
   "toc_section_display": true,
   "toc_window_display": true
  }
 },
 "nbformat": 4,
 "nbformat_minor": 2
}
