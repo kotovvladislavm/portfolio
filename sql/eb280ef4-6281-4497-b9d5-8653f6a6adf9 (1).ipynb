{
 "cells": [
  {
   "cell_type": "markdown",
   "metadata": {},
   "source": [
    "# Импортируем ДФ"
   ]
  },
  {
   "cell_type": "code",
   "execution_count": 1,
   "metadata": {},
   "outputs": [],
   "source": [
    "# импортируем библиотеки\n",
    "import pandas as pd\n",
    "from sqlalchemy import text, create_engine\n",
    "\n",
    "# устанавливаем параметры\n",
    "db_config = {'user': 'praktikum_student', # имя пользователя\n",
    "'pwd': 'Sdf4$2;d-d30pp', # пароль\n",
    "'host': 'rc1b-wcoijxj3yxfsf3fs.mdb.yandexcloud.net',\n",
    "'port': 6432, # порт подключения\n",
    "'db': 'data-analyst-final-project-db'} # название базы данных\n",
    "connection_string = 'postgresql://{user}:{pwd}@{host}:{port}/{db}'.format(**db_config)\n",
    "\n",
    "# сохраняем коннектор\n",
    "engine = create_engine(connection_string, connect_args={'sslmode':'require'})"
   ]
  },
  {
   "cell_type": "code",
   "execution_count": 2,
   "metadata": {
    "scrolled": false
   },
   "outputs": [
    {
     "name": "stdout",
     "output_type": "stream",
     "text": [
      "Информация о таблице 'books':\n",
      "<class 'pandas.core.frame.DataFrame'>\n",
      "RangeIndex: 5 entries, 0 to 4\n",
      "Data columns (total 6 columns):\n",
      " #   Column            Non-Null Count  Dtype \n",
      "---  ------            --------------  ----- \n",
      " 0   book_id           5 non-null      int64 \n",
      " 1   author_id         5 non-null      int64 \n",
      " 2   title             5 non-null      object\n",
      " 3   num_pages         5 non-null      int64 \n",
      " 4   publication_date  5 non-null      object\n",
      " 5   publisher_id      5 non-null      int64 \n",
      "dtypes: int64(4), object(2)\n",
      "memory usage: 368.0+ bytes\n",
      "None\n",
      "\n",
      "\n",
      "\n",
      "Первые 5 строк таблицы:\n",
      "   book_id  author_id                                              title  \\\n",
      "0        1        546                                       'Salem's Lot   \n",
      "1        2        465                 1 000 Places to See Before You Die   \n",
      "2        3        407  13 Little Blue Envelopes (Little Blue Envelope...   \n",
      "3        4         82  1491: New Revelations of the Americas Before C...   \n",
      "4        5        125                                               1776   \n",
      "\n",
      "   num_pages publication_date  publisher_id  \n",
      "0        594       2005-11-01            93  \n",
      "1        992       2003-05-22           336  \n",
      "2        322       2010-12-21           135  \n",
      "3        541       2006-10-10           309  \n",
      "4        386       2006-07-04           268  \n",
      "\n",
      "\n",
      "\n",
      "\n",
      "Информация о таблице 'authors':\n",
      "<class 'pandas.core.frame.DataFrame'>\n",
      "RangeIndex: 5 entries, 0 to 4\n",
      "Data columns (total 2 columns):\n",
      " #   Column     Non-Null Count  Dtype \n",
      "---  ------     --------------  ----- \n",
      " 0   author_id  5 non-null      int64 \n",
      " 1   author     5 non-null      object\n",
      "dtypes: int64(1), object(1)\n",
      "memory usage: 208.0+ bytes\n",
      "None\n",
      "\n",
      "\n",
      "\n",
      "Первые 5 строк таблицы:\n",
      "   author_id                          author\n",
      "0          1                      A.S. Byatt\n",
      "1          2  Aesop/Laura Harris/Laura Gibbs\n",
      "2          3                 Agatha Christie\n",
      "3          4                   Alan Brennert\n",
      "4          5        Alan Moore/David   Lloyd\n",
      "\n",
      "\n",
      "\n",
      "\n",
      "Информация о таблице 'publishers':\n",
      "<class 'pandas.core.frame.DataFrame'>\n",
      "RangeIndex: 5 entries, 0 to 4\n",
      "Data columns (total 2 columns):\n",
      " #   Column        Non-Null Count  Dtype \n",
      "---  ------        --------------  ----- \n",
      " 0   publisher_id  5 non-null      int64 \n",
      " 1   publisher     5 non-null      object\n",
      "dtypes: int64(1), object(1)\n",
      "memory usage: 208.0+ bytes\n",
      "None\n",
      "\n",
      "\n",
      "\n",
      "Первые 5 строк таблицы:\n",
      "   publisher_id                          publisher\n",
      "0             1                                Ace\n",
      "1             2                           Ace Book\n",
      "2             3                          Ace Books\n",
      "3             4                      Ace Hardcover\n",
      "4             5  Addison Wesley Publishing Company\n",
      "\n",
      "\n",
      "\n",
      "\n",
      "Информация о таблице 'ratings':\n",
      "<class 'pandas.core.frame.DataFrame'>\n",
      "RangeIndex: 5 entries, 0 to 4\n",
      "Data columns (total 4 columns):\n",
      " #   Column     Non-Null Count  Dtype \n",
      "---  ------     --------------  ----- \n",
      " 0   rating_id  5 non-null      int64 \n",
      " 1   book_id    5 non-null      int64 \n",
      " 2   username   5 non-null      object\n",
      " 3   rating     5 non-null      int64 \n",
      "dtypes: int64(3), object(1)\n",
      "memory usage: 288.0+ bytes\n",
      "None\n",
      "\n",
      "\n",
      "\n",
      "Первые 5 строк таблицы:\n",
      "   rating_id  book_id       username  rating\n",
      "0          1        1     ryanfranco       4\n",
      "1          2        1  grantpatricia       2\n",
      "2          3        1   brandtandrea       5\n",
      "3          4        2       lorichen       3\n",
      "4          5        2    mariokeller       2\n",
      "\n",
      "\n",
      "\n",
      "\n",
      "Информация о таблице 'reviews':\n",
      "<class 'pandas.core.frame.DataFrame'>\n",
      "RangeIndex: 5 entries, 0 to 4\n",
      "Data columns (total 4 columns):\n",
      " #   Column     Non-Null Count  Dtype \n",
      "---  ------     --------------  ----- \n",
      " 0   review_id  5 non-null      int64 \n",
      " 1   book_id    5 non-null      int64 \n",
      " 2   username   5 non-null      object\n",
      " 3   text       5 non-null      object\n",
      "dtypes: int64(2), object(2)\n",
      "memory usage: 288.0+ bytes\n",
      "None\n",
      "\n",
      "\n",
      "\n",
      "Первые 5 строк таблицы:\n",
      "   review_id  book_id       username  \\\n",
      "0          1        1   brandtandrea   \n",
      "1          2        1     ryanfranco   \n",
      "2          3        2       lorichen   \n",
      "3          4        3  johnsonamanda   \n",
      "4          5        3    scotttamara   \n",
      "\n",
      "                                                text  \n",
      "0  Mention society tell send professor analysis. ...  \n",
      "1  Foot glass pretty audience hit themselves. Amo...  \n",
      "2  Listen treat keep worry. Miss husband tax but ...  \n",
      "3  Finally month interesting blue could nature cu...  \n",
      "4  Nation purpose heavy give wait song will. List...  \n",
      "\n",
      "\n",
      "\n",
      "\n"
     ]
    }
   ],
   "source": [
    "# выгрузим первые 5 строк каждой таблицы\n",
    "queries = [\n",
    "    '''SELECT * FROM books LIMIT 5''',\n",
    "    '''SELECT * FROM authors LIMIT 5''',\n",
    "    '''SELECT * FROM publishers LIMIT 5''',\n",
    "    '''SELECT * FROM ratings LIMIT 5''',\n",
    "    '''SELECT * FROM reviews LIMIT 5'''\n",
    "]\n",
    "\n",
    "# выполним запросы и сохраним результаты в ДФ\n",
    "table_names = ['books', 'authors', 'publishers', 'ratings', 'reviews']\n",
    "dataframes = {}\n",
    "with engine.connect() as con:\n",
    "    for query, table_name in zip(queries, table_names):\n",
    "        result = con.execute(text(query))\n",
    "        data = result.fetchall()\n",
    "        columns = result.keys()\n",
    "        df = pd.DataFrame(data, columns=columns)\n",
    "        dataframes[table_name] = df\n",
    "\n",
    "for table_name, df in dataframes.items():\n",
    "    print(f\"Информация о таблице '{table_name}':\")\n",
    "    print(df.info())\n",
    "    print(\"\\n\")\n",
    "    print(\"\\nПервые 5 строк таблицы:\")\n",
    "    print(df.head())\n",
    "    print(\"\\n\")\n",
    "    print(\"\\n\")"
   ]
  },
  {
   "cell_type": "markdown",
   "metadata": {},
   "source": [
    "## Задачи"
   ]
  },
  {
   "cell_type": "markdown",
   "metadata": {},
   "source": [
    "### сколько книг вышло после 1 января 2000 года;"
   ]
  },
  {
   "cell_type": "code",
   "execution_count": 3,
   "metadata": {},
   "outputs": [
    {
     "name": "stdout",
     "output_type": "stream",
     "text": [
      "кол-во книг, вышедших после 1 января 2000 года: 819\n"
     ]
    }
   ],
   "source": [
    "query = '''\n",
    "SELECT COUNT(*) AS num_books\n",
    "FROM books\n",
    "WHERE publication_date > '2000-01-01'\n",
    "'''\n",
    "with engine.connect() as con:\n",
    "    result = con.execute(text(query))\n",
    "    num_books = result.fetchone()[0]\n",
    "\n",
    "print(f\"кол-во книг, вышедших после 1 января 2000 года: {num_books}\")"
   ]
  },
  {
   "cell_type": "markdown",
   "metadata": {},
   "source": [
    "### для каждой книги посчитаем количество обзоров и среднюю оценку"
   ]
  },
  {
   "cell_type": "code",
   "execution_count": 4,
   "metadata": {
    "scrolled": false
   },
   "outputs": [
    {
     "data": {
      "text/html": [
       "<div>\n",
       "<style scoped>\n",
       "    .dataframe tbody tr th:only-of-type {\n",
       "        vertical-align: middle;\n",
       "    }\n",
       "\n",
       "    .dataframe tbody tr th {\n",
       "        vertical-align: top;\n",
       "    }\n",
       "\n",
       "    .dataframe thead th {\n",
       "        text-align: right;\n",
       "    }\n",
       "</style>\n",
       "<table border=\"1\" class=\"dataframe\">\n",
       "  <thead>\n",
       "    <tr style=\"text-align: right;\">\n",
       "      <th></th>\n",
       "      <th>book_title</th>\n",
       "      <th>book_id</th>\n",
       "      <th>avg_rating</th>\n",
       "      <th>count_reviews</th>\n",
       "    </tr>\n",
       "  </thead>\n",
       "  <tbody>\n",
       "    <tr>\n",
       "      <th>0</th>\n",
       "      <td>Twilight (Twilight  #1)</td>\n",
       "      <td>948</td>\n",
       "      <td>3.66</td>\n",
       "      <td>7</td>\n",
       "    </tr>\n",
       "    <tr>\n",
       "      <th>1</th>\n",
       "      <td>Water for Elephants</td>\n",
       "      <td>963</td>\n",
       "      <td>3.98</td>\n",
       "      <td>6</td>\n",
       "    </tr>\n",
       "    <tr>\n",
       "      <th>2</th>\n",
       "      <td>The Glass Castle</td>\n",
       "      <td>734</td>\n",
       "      <td>4.21</td>\n",
       "      <td>6</td>\n",
       "    </tr>\n",
       "    <tr>\n",
       "      <th>3</th>\n",
       "      <td>Harry Potter and the Prisoner of Azkaban (Harr...</td>\n",
       "      <td>302</td>\n",
       "      <td>4.41</td>\n",
       "      <td>6</td>\n",
       "    </tr>\n",
       "    <tr>\n",
       "      <th>4</th>\n",
       "      <td>The Curious Incident of the Dog in the Night-Time</td>\n",
       "      <td>695</td>\n",
       "      <td>4.08</td>\n",
       "      <td>6</td>\n",
       "    </tr>\n",
       "    <tr>\n",
       "      <th>...</th>\n",
       "      <td>...</td>\n",
       "      <td>...</td>\n",
       "      <td>...</td>\n",
       "      <td>...</td>\n",
       "    </tr>\n",
       "    <tr>\n",
       "      <th>995</th>\n",
       "      <td>Anne Rice's The Vampire Lestat: A Graphic Novel</td>\n",
       "      <td>83</td>\n",
       "      <td>3.67</td>\n",
       "      <td>0</td>\n",
       "    </tr>\n",
       "    <tr>\n",
       "      <th>996</th>\n",
       "      <td>The Natural Way to Draw</td>\n",
       "      <td>808</td>\n",
       "      <td>3.00</td>\n",
       "      <td>0</td>\n",
       "    </tr>\n",
       "    <tr>\n",
       "      <th>997</th>\n",
       "      <td>The Cat in the Hat and Other Dr. Seuss Favorites</td>\n",
       "      <td>672</td>\n",
       "      <td>5.00</td>\n",
       "      <td>0</td>\n",
       "    </tr>\n",
       "    <tr>\n",
       "      <th>998</th>\n",
       "      <td>Essential Tales and Poems</td>\n",
       "      <td>221</td>\n",
       "      <td>4.00</td>\n",
       "      <td>0</td>\n",
       "    </tr>\n",
       "    <tr>\n",
       "      <th>999</th>\n",
       "      <td>Disney's Beauty and the Beast (A Little Golden...</td>\n",
       "      <td>191</td>\n",
       "      <td>4.00</td>\n",
       "      <td>0</td>\n",
       "    </tr>\n",
       "  </tbody>\n",
       "</table>\n",
       "<p>1000 rows × 4 columns</p>\n",
       "</div>"
      ],
      "text/plain": [
       "                                            book_title  book_id  avg_rating  \\\n",
       "0                              Twilight (Twilight  #1)      948        3.66   \n",
       "1                                  Water for Elephants      963        3.98   \n",
       "2                                     The Glass Castle      734        4.21   \n",
       "3    Harry Potter and the Prisoner of Azkaban (Harr...      302        4.41   \n",
       "4    The Curious Incident of the Dog in the Night-Time      695        4.08   \n",
       "..                                                 ...      ...         ...   \n",
       "995    Anne Rice's The Vampire Lestat: A Graphic Novel       83        3.67   \n",
       "996                            The Natural Way to Draw      808        3.00   \n",
       "997   The Cat in the Hat and Other Dr. Seuss Favorites      672        5.00   \n",
       "998                          Essential Tales and Poems      221        4.00   \n",
       "999  Disney's Beauty and the Beast (A Little Golden...      191        4.00   \n",
       "\n",
       "     count_reviews  \n",
       "0                7  \n",
       "1                6  \n",
       "2                6  \n",
       "3                6  \n",
       "4                6  \n",
       "..             ...  \n",
       "995              0  \n",
       "996              0  \n",
       "997              0  \n",
       "998              0  \n",
       "999              0  \n",
       "\n",
       "[1000 rows x 4 columns]"
      ]
     },
     "execution_count": 4,
     "metadata": {},
     "output_type": "execute_result"
    }
   ],
   "source": [
    "query_rev = '''                              \n",
    "    SELECT\n",
    "        books.title AS book_title,\n",
    "        books.book_id AS book_id,\n",
    "        AVG(ratings.rating) AS avg_rating,\n",
    "        COUNT(DISTINCT reviews.review_id) AS count_reviews\n",
    "    FROM\n",
    "        books\n",
    "    INNER JOIN ratings ON ratings.book_id = books.book_id\n",
    "    LEFT JOIN reviews ON reviews.book_id = books.book_id\n",
    "    GROUP BY\n",
    "        books.title,\n",
    "        books.book_id\n",
    "    ORDER BY\n",
    "        count_reviews DESC;\n",
    "'''\n",
    "\n",
    "with engine.connect() as con:\n",
    "    df_rev = pd.io.sql.read_sql(sql=text(query_rev), con=con)\n",
    "\n",
    "df_rev['avg_rating'] = df_rev['avg_rating'].round(2)\n",
    "df_rev\n"
   ]
  },
  {
   "cell_type": "code",
   "execution_count": 5,
   "metadata": {},
   "outputs": [
    {
     "data": {
      "text/plain": [
       "2793"
      ]
     },
     "execution_count": 5,
     "metadata": {},
     "output_type": "execute_result"
    }
   ],
   "source": [
    "sum_count_reviews = df_rev['count_reviews'].sum()\n",
    "sum_count_reviews"
   ]
  },
  {
   "cell_type": "markdown",
   "metadata": {},
   "source": [
    "### определим издательство, которое выпустило наибольшее число книг толще 50 страниц "
   ]
  },
  {
   "cell_type": "code",
   "execution_count": 6,
   "metadata": {},
   "outputs": [
    {
     "name": "stdout",
     "output_type": "stream",
     "text": [
      "издательство, которое выпустило наибольшее число книг (толще 50 страниц): Penguin Books\n",
      "кол-во книг: 42\n"
     ]
    }
   ],
   "source": [
    "query = '''\n",
    "SELECT p.publisher, COUNT(b.book_id) AS num_books\n",
    "FROM books b\n",
    "JOIN publishers p ON b.publisher_id = p.publisher_id\n",
    "WHERE b.num_pages > 50\n",
    "GROUP BY p.publisher\n",
    "ORDER BY num_books DESC\n",
    "LIMIT 1\n",
    "'''\n",
    "with engine.connect() as con:\n",
    "    result = con.execute(text(query))\n",
    "    data = result.fetchone()\n",
    "\n",
    "\n",
    "publisher = data[0]\n",
    "num_books = data[1]\n",
    "print(f\"издательство, которое выпустило наибольшее число книг (толще 50 страниц): {publisher}\")\n",
    "print(f\"кол-во книг: {num_books}\")"
   ]
  },
  {
   "cell_type": "markdown",
   "metadata": {},
   "source": [
    "### автор с самой высокой средней оценкой книг"
   ]
  },
  {
   "cell_type": "markdown",
   "metadata": {},
   "source": []
  },
  {
   "cell_type": "code",
   "execution_count": 7,
   "metadata": {},
   "outputs": [
    {
     "name": "stdout",
     "output_type": "stream",
     "text": [
      "автор с самой высокой средней оценкой книг: J.K. Rowling/Mary GrandPré\n",
      "средняя оценка: 4.29\n"
     ]
    }
   ],
   "source": [
    "query = '''\n",
    "SELECT a.author, AVG(r.rating) AS avg_rating\n",
    "FROM authors a\n",
    "JOIN books b ON a.author_id = b.author_id\n",
    "JOIN (\n",
    "    SELECT book_id, COUNT(rating) AS num_ratings\n",
    "    FROM ratings\n",
    "    GROUP BY book_id\n",
    "    HAVING COUNT(rating) >= 50\n",
    ") sub ON b.book_id = sub.book_id\n",
    "JOIN ratings r ON b.book_id = r.book_id\n",
    "GROUP BY a.author\n",
    "ORDER BY avg_rating DESC\n",
    "LIMIT 1\n",
    "'''\n",
    "with engine.connect() as con:\n",
    "    result = con.execute(text(query))\n",
    "    data = result.fetchone()\n",
    "\n",
    "author = data[0]\n",
    "avg_rating = data[1]\n",
    "print(f\"автор с самой высокой средней оценкой книг: {author}\")\n",
    "print(f\"средняя оценка: {avg_rating:.2f}\")\n"
   ]
  },
  {
   "cell_type": "markdown",
   "metadata": {},
   "source": [
    "### среднее количество обзоров от пользователей, которые поставили больше 48 оценок"
   ]
  },
  {
   "cell_type": "code",
   "execution_count": 8,
   "metadata": {},
   "outputs": [
    {
     "name": "stdout",
     "output_type": "stream",
     "text": [
      "среднее количество обзоров от пользователей, которые поставили больше 48 оценок: 24.00\n"
     ]
    }
   ],
   "source": [
    "query = '''\n",
    "SELECT AVG(num_reviews) AS avg_reviews\n",
    "FROM (\n",
    "    SELECT username, COUNT(review_id) AS num_reviews\n",
    "    FROM reviews\n",
    "    WHERE username IN (\n",
    "        SELECT username\n",
    "        FROM ratings\n",
    "        GROUP BY username\n",
    "        HAVING COUNT(rating) > 48\n",
    "    )\n",
    "    GROUP BY username\n",
    ") sub\n",
    "'''\n",
    "\n",
    "with engine.connect() as con:\n",
    "    result = con.execute(text(query))\n",
    "    avg_reviews = result.fetchone()[0]\n",
    "\n",
    "print(f\"среднее количество обзоров от пользователей, которые поставили больше 48 оценок: {avg_reviews:.2f}\")"
   ]
  },
  {
   "cell_type": "markdown",
   "metadata": {},
   "source": [
    "## Выводы"
   ]
  },
  {
   "cell_type": "markdown",
   "metadata": {},
   "source": [
    "1. после 1 января 2000 года вышло 819 книги  \n",
    "2. рассчитали среднюю оценку для каждоый книги. \n",
    "3. издательство Penguin Books выпустило наибольшее число книг (толще 50 страниц): 42 шт.  \n",
    "4. автор с самой высокой средней оценкой книг: J.K. Rowling/Mary GrandPré (средняя оценка: 4.29)  \n",
    "5. среднее количество обзоров от пользователей, которые поставили больше 48 оценок: 24"
   ]
  }
 ],
 "metadata": {
  "ExecuteTimeLog": [
   {
    "duration": 116,
    "start_time": "2023-05-24T21:01:00.009Z"
   },
   {
    "duration": 150,
    "start_time": "2023-05-24T21:01:28.568Z"
   },
   {
    "duration": 79,
    "start_time": "2023-05-24T21:01:38.204Z"
   },
   {
    "duration": 10265,
    "start_time": "2023-05-24T21:02:16.870Z"
   },
   {
    "duration": 339,
    "start_time": "2023-05-24T21:02:29.808Z"
   },
   {
    "duration": 3,
    "start_time": "2023-05-24T21:02:40.837Z"
   },
   {
    "duration": 11663,
    "start_time": "2023-05-24T21:03:03.998Z"
   },
   {
    "duration": 365,
    "start_time": "2023-05-24T21:03:15.663Z"
   },
   {
    "duration": 15,
    "start_time": "2023-05-24T21:03:25.803Z"
   },
   {
    "duration": 14,
    "start_time": "2023-05-24T21:03:31.855Z"
   },
   {
    "duration": 8,
    "start_time": "2023-05-24T21:03:38.996Z"
   },
   {
    "duration": 2,
    "start_time": "2023-05-24T21:03:48.237Z"
   },
   {
    "duration": 8,
    "start_time": "2023-05-24T21:03:52.358Z"
   },
   {
    "duration": 8,
    "start_time": "2023-05-24T21:03:58.321Z"
   },
   {
    "duration": 364,
    "start_time": "2023-05-24T21:06:52.250Z"
   },
   {
    "duration": 16593,
    "start_time": "2023-05-24T21:09:11.246Z"
   },
   {
    "duration": 15291,
    "start_time": "2023-05-24T21:09:32.140Z"
   },
   {
    "duration": 319,
    "start_time": "2023-05-24T21:09:50.949Z"
   },
   {
    "duration": 137,
    "start_time": "2023-05-24T21:10:53.759Z"
   },
   {
    "duration": 130,
    "start_time": "2023-05-24T21:11:17.199Z"
   },
   {
    "duration": 143,
    "start_time": "2023-05-24T21:11:35.399Z"
   },
   {
    "duration": 158,
    "start_time": "2023-05-24T21:12:03.512Z"
   },
   {
    "duration": 126,
    "start_time": "2023-05-24T21:12:09.038Z"
   },
   {
    "duration": 2,
    "start_time": "2023-05-24T21:12:54.848Z"
   },
   {
    "duration": 35,
    "start_time": "2023-05-24T21:13:02.022Z"
   },
   {
    "duration": 77,
    "start_time": "2023-05-24T21:13:16.605Z"
   },
   {
    "duration": 37,
    "start_time": "2023-05-24T21:15:51.906Z"
   },
   {
    "duration": 39,
    "start_time": "2023-05-24T21:16:18.547Z"
   },
   {
    "duration": 2,
    "start_time": "2023-05-24T21:16:27.963Z"
   },
   {
    "duration": 39,
    "start_time": "2023-05-24T21:16:39.131Z"
   },
   {
    "duration": 37,
    "start_time": "2023-05-24T21:16:45.099Z"
   },
   {
    "duration": 73,
    "start_time": "2023-05-24T21:17:09.711Z"
   },
   {
    "duration": 10227,
    "start_time": "2023-05-24T22:52:46.418Z"
   },
   {
    "duration": 329,
    "start_time": "2023-05-24T22:52:56.647Z"
   },
   {
    "duration": 38,
    "start_time": "2023-05-24T22:52:56.978Z"
   },
   {
    "duration": 85,
    "start_time": "2023-05-24T22:52:57.018Z"
   },
   {
    "duration": 39,
    "start_time": "2023-05-24T22:52:57.105Z"
   },
   {
    "duration": 40,
    "start_time": "2023-05-24T22:52:57.146Z"
   },
   {
    "duration": 39,
    "start_time": "2023-05-24T22:52:57.188Z"
   },
   {
    "duration": 5909,
    "start_time": "2023-05-25T05:03:39.900Z"
   },
   {
    "duration": 113,
    "start_time": "2023-05-25T05:04:35.119Z"
   },
   {
    "duration": 8,
    "start_time": "2023-05-25T05:04:46.349Z"
   },
   {
    "duration": 61,
    "start_time": "2023-05-25T05:05:19.726Z"
   },
   {
    "duration": 7,
    "start_time": "2023-05-25T05:05:22.195Z"
   },
   {
    "duration": 33,
    "start_time": "2023-05-25T05:05:36.870Z"
   },
   {
    "duration": 23,
    "start_time": "2023-05-25T05:08:07.947Z"
   },
   {
    "duration": 25,
    "start_time": "2023-05-25T05:09:14.230Z"
   },
   {
    "duration": 80,
    "start_time": "2023-05-25T05:10:22.069Z"
   },
   {
    "duration": 7,
    "start_time": "2023-05-25T05:10:26.969Z"
   },
   {
    "duration": 25,
    "start_time": "2023-05-25T05:11:22.626Z"
   },
   {
    "duration": 21,
    "start_time": "2023-05-25T05:12:27.787Z"
   },
   {
    "duration": 4,
    "start_time": "2023-05-25T05:12:54.710Z"
   },
   {
    "duration": 8,
    "start_time": "2023-05-25T05:14:48.411Z"
   },
   {
    "duration": 25,
    "start_time": "2023-05-25T05:15:38.820Z"
   },
   {
    "duration": 4,
    "start_time": "2023-05-25T05:16:26.640Z"
   },
   {
    "duration": 4,
    "start_time": "2023-05-25T05:16:27.790Z"
   },
   {
    "duration": 3,
    "start_time": "2023-05-25T05:16:29.181Z"
   },
   {
    "duration": 10,
    "start_time": "2023-05-25T05:17:18.757Z"
   },
   {
    "duration": 5143,
    "start_time": "2023-05-25T05:17:44.261Z"
   },
   {
    "duration": 91,
    "start_time": "2023-05-25T05:17:49.405Z"
   },
   {
    "duration": 5265,
    "start_time": "2023-05-25T05:18:18.289Z"
   },
   {
    "duration": 88,
    "start_time": "2023-05-25T05:18:23.556Z"
   },
   {
    "duration": 6,
    "start_time": "2023-05-25T05:18:25.620Z"
   },
   {
    "duration": 114,
    "start_time": "2023-05-25T05:18:29.475Z"
   },
   {
    "duration": 18,
    "start_time": "2023-05-25T05:19:11.122Z"
   },
   {
    "duration": 15,
    "start_time": "2023-05-25T05:19:16.509Z"
   },
   {
    "duration": 5303,
    "start_time": "2023-05-25T05:19:31.598Z"
   },
   {
    "duration": 96,
    "start_time": "2023-05-25T05:19:36.907Z"
   },
   {
    "duration": 7,
    "start_time": "2023-05-25T05:19:38.029Z"
   },
   {
    "duration": 96,
    "start_time": "2023-05-25T05:19:41.831Z"
   },
   {
    "duration": 8,
    "start_time": "2023-05-25T05:19:49.014Z"
   },
   {
    "duration": 8,
    "start_time": "2023-05-25T05:21:20.051Z"
   },
   {
    "duration": 19,
    "start_time": "2023-05-25T05:22:09.027Z"
   },
   {
    "duration": 35,
    "start_time": "2023-05-25T05:22:46.336Z"
   },
   {
    "duration": 32,
    "start_time": "2023-05-25T05:22:59.010Z"
   },
   {
    "duration": 30,
    "start_time": "2023-05-25T05:23:47.402Z"
   },
   {
    "duration": 5,
    "start_time": "2023-05-25T05:24:31.787Z"
   },
   {
    "duration": 6,
    "start_time": "2023-05-25T05:24:54.155Z"
   },
   {
    "duration": 109,
    "start_time": "2023-05-25T05:24:54.257Z"
   },
   {
    "duration": 6,
    "start_time": "2023-05-25T05:24:55.741Z"
   },
   {
    "duration": 40,
    "start_time": "2023-05-25T05:24:57.659Z"
   },
   {
    "duration": 3,
    "start_time": "2023-05-25T05:24:58.862Z"
   },
   {
    "duration": 44,
    "start_time": "2023-05-25T05:25:15.983Z"
   },
   {
    "duration": 50,
    "start_time": "2023-05-25T05:26:05.260Z"
   },
   {
    "duration": 5990,
    "start_time": "2023-05-25T05:27:01.502Z"
   },
   {
    "duration": 90,
    "start_time": "2023-05-25T05:27:07.494Z"
   },
   {
    "duration": 6,
    "start_time": "2023-05-25T05:27:09.425Z"
   },
   {
    "duration": 35,
    "start_time": "2023-05-25T05:27:10.611Z"
   },
   {
    "duration": 4,
    "start_time": "2023-05-25T05:27:11.523Z"
   },
   {
    "duration": 7,
    "start_time": "2023-05-25T05:27:17.166Z"
   },
   {
    "duration": 10,
    "start_time": "2023-05-25T05:27:17.912Z"
   },
   {
    "duration": 8,
    "start_time": "2023-05-25T05:27:18.639Z"
   },
   {
    "duration": 4,
    "start_time": "2023-05-25T05:27:26.529Z"
   },
   {
    "duration": 36,
    "start_time": "2023-05-25T05:28:08.823Z"
   },
   {
    "duration": 9,
    "start_time": "2023-05-25T05:28:13.982Z"
   },
   {
    "duration": 70,
    "start_time": "2023-05-25T05:28:20.994Z"
   },
   {
    "duration": 9,
    "start_time": "2023-05-25T05:28:21.793Z"
   },
   {
    "duration": 5752,
    "start_time": "2023-05-25T05:28:31.523Z"
   },
   {
    "duration": 101,
    "start_time": "2023-05-25T05:28:39.633Z"
   },
   {
    "duration": 7,
    "start_time": "2023-05-25T05:28:40.990Z"
   },
   {
    "duration": 36,
    "start_time": "2023-05-25T05:28:42.897Z"
   },
   {
    "duration": 5,
    "start_time": "2023-05-25T05:28:44.121Z"
   },
   {
    "duration": 7,
    "start_time": "2023-05-25T05:28:46.946Z"
   },
   {
    "duration": 11,
    "start_time": "2023-05-25T05:28:47.636Z"
   },
   {
    "duration": 10,
    "start_time": "2023-05-25T05:28:48.304Z"
   },
   {
    "duration": 9402,
    "start_time": "2023-08-05T10:02:52.440Z"
   },
   {
    "duration": 157,
    "start_time": "2023-08-05T10:03:01.845Z"
   },
   {
    "duration": 9670,
    "start_time": "2023-08-05T10:03:12.455Z"
   },
   {
    "duration": 136,
    "start_time": "2023-08-05T10:03:22.128Z"
   },
   {
    "duration": 26,
    "start_time": "2023-08-05T10:03:22.266Z"
   },
   {
    "duration": 49,
    "start_time": "2023-08-05T10:03:22.295Z"
   },
   {
    "duration": 5,
    "start_time": "2023-08-05T10:03:22.346Z"
   },
   {
    "duration": 9,
    "start_time": "2023-08-05T10:03:25.485Z"
   },
   {
    "duration": 34,
    "start_time": "2023-08-05T10:03:32.156Z"
   },
   {
    "duration": 13,
    "start_time": "2023-08-05T10:03:38.494Z"
   }
  ],
  "kernelspec": {
   "display_name": "Python 3 (ipykernel)",
   "language": "python",
   "name": "python3"
  },
  "language_info": {
   "codemirror_mode": {
    "name": "ipython",
    "version": 3
   },
   "file_extension": ".py",
   "mimetype": "text/x-python",
   "name": "python",
   "nbconvert_exporter": "python",
   "pygments_lexer": "ipython3",
   "version": "3.9.5"
  },
  "toc": {
   "base_numbering": 1,
   "nav_menu": {},
   "number_sections": true,
   "sideBar": true,
   "skip_h1_title": true,
   "title_cell": "Table of Contents",
   "title_sidebar": "Contents",
   "toc_cell": false,
   "toc_position": {},
   "toc_section_display": true,
   "toc_window_display": true
  }
 },
 "nbformat": 4,
 "nbformat_minor": 2
}
